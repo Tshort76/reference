{
 "cells": [
  {
   "cell_type": "markdown",
   "metadata": {},
   "source": [
    "# Markdown Basics\n",
    "\n",
    "## <a name=\"emphasis-sec\"></a> Emphasis\n",
    "\n",
    "The *stated* mission: To go __boldly__ where _no one_ has **gone** before. Unfortunately, there are some issues at the bleeding edge, like when you need emphasize single characters __b__ c __d__ ... in these cases, use a soft hyphen and all will be well ... __b&#173;__ c __d&#173;__.\n",
    "\n",
    "### Color\n",
    "\n",
    "You can color your text with any of the following colors, `blue|red|green|pink|yellow`, and markdown:\n",
    "\n",
    "<font color=red>I am red and proud</font>\n",
    "\n",
    "## New lines\n",
    "Text will be rendered on a new line if your markdown line ends with two spaces.  \n",
    "Alternatively, you can use the _br_ html syntax<br>\n",
    "to achieve this goal.\n",
    "\n",
    "Use three asterisks for a horizontal line\n",
    "***\n",
    "\n",
    "## To indent or not to indent \n",
    "\n",
    "> Of course, sometimes you will want to indent everything so as to create a block of text.\n",
    "Do not fear, that is easy to do as well\n",
    ">\n",
    "\n",
    "\n",
    "## Lists\n",
    "\n",
    "Let me list what I like about lists\n",
    "\n",
    "* I like that you can use bullets\n",
    "    * and indent as needed with tabs\n",
    "        * to get nested lists  \n",
    "\n",
    "Your syntax for the __first__ list dictates the list type, the most convenient list type, - or asterisks, can be used after that:\n",
    "\n",
    "1. In case you like numbers\n",
    "    - but hate to increment them\n",
    "- Hyphen lists work as well\n",
    "\n",
    "\n",
    "## Tex (math) markdown\n",
    "\n",
    "But what is life without the likes of $c^2 = a^2 + b^2 - 2ab\\cos\\theta$ and $$ X = \\frac{a \\bullet b}{|b|} * \\frac{b}{|b|}$$ \n",
    "\n",
    "A longer derivation with equations lined up\n",
    "\n",
    "$\\begin{align}\n",
    " L(\\vec{w} | X) & = P(Y | X;\\vec{w}) \\\\\n",
    " & = \\prod_{i=1}^{N} P(Y = y_i | x_i;\\vec{w}) \\\\\n",
    " & = \\prod_{i=1}^{N} g_{\\vec{w}}(x_i)^{y_i}(1-g_{\\vec{w}}(x_i))^{1-y_i}\n",
    "\\end{align}$\n",
    "\n",
    "A stepwise function:\n",
    "\n",
    "$P(X=x) = \\left.\n",
    "  \\begin{cases}\n",
    "    \\rho , & \\text{x = success or 1 } \\\\\n",
    "    1-\\rho, & \\text{x = failure or 0 }\n",
    "  \\end{cases}\n",
    "  \\right\\}$\n",
    "\n",
    "\n",
    "\n",
    "## Tables\n",
    "| Type | Notes |\n",
    "|-|-|\n",
    "|df[val] | Select single column or sequence of columns; val can be boolean array, slice operator, bit mask DataFrame |\n",
    "|df.loc[val] | select row or subset of row by _label_|\n",
    "|df.loc[val1,val2] | select both rows and columns by _label_|\n",
    "| df.iloc[idx] | select row or subset of rows based on integer position |\n",
    "\n",
    "\n",
    "## Graphics\n",
    "\n",
    "What is life without a homemade image of vector projection?  Note the hover hint.\n",
    "\n",
    "<img src=\"../resources/vector_projection.jpg\" alt=\"Vector projection\" title=\"Projection of A onto B\" />\n",
    "\n",
    "\n",
    "## Hyper links\n",
    "### Internal links\n",
    "\n",
    "Did you forget how to add text emphasis in Markdown?  If so, the [emphasis section](#emphasis-sec) is just one click away.  You can add internal links for any header/section using its name, and replacing spaces and special characters with hyphens.  Want to see [indenting markdown](#To-indent-or-not-to-indent) ?\n",
    "\n",
    "\n",
    "### External links\n",
    "__[Click here to venture to the wikipedia page on cats.](https://en.wikipedia.org/wiki/Cat)__\n",
    "\n",
    "\n",
    "\n",
    "# Keyboard shortcuts\n",
    "\n",
    "__esc__ : enter command mode  \n",
    "__a&#173;__ : add new cell (a)bove current cell  \n",
    "__b&#173;__ : add new cell (b)elow current cell  \n",
    "__m&#173;__ : change current cell to markdown  \n",
    "__y&#173;__ - change current cell to code  \n",
    "__shift + tab__ - doc string for function  \n",
    "__tab__ - list available object methods\n",
    "\n",
    "\n",
    "#### Sources\n",
    "\n",
    "- 'Markdown for Jupyter notebooks cheatsheet', Inge Halilovic. Feb 7, 2017.  https://medium.com/ibm-data-science-experience/markdown-for-jupyter-notebooks-cheatsheet-386c05aeebed\n",
    "\n",
    "- 'Markdown Cheatsheet', Adam Pritchard. May 29, 2017. https://github.com/adam-p/markdown-here/wiki/Markdown-Cheatsheet"
   ]
  },
  {
   "cell_type": "markdown",
   "metadata": {},
   "source": [
    "# Code cells"
   ]
  },
  {
   "cell_type": "code",
   "execution_count": 1,
   "metadata": {},
   "outputs": [
    {
     "data": {
      "text/plain": [
       "'Hello There'"
      ]
     },
     "metadata": {},
     "output_type": "display_data"
    },
    {
     "data": {
      "text/plain": [
       "6"
      ]
     },
     "execution_count": 1,
     "metadata": {},
     "output_type": "execute_result"
    }
   ],
   "source": [
    "#use display() to print something other than cell output\n",
    "\n",
    "display(\"Hello There\")\n",
    "\n",
    "3+3"
   ]
  },
  {
   "cell_type": "markdown",
   "metadata": {},
   "source": [
    "# Utilities"
   ]
  },
  {
   "cell_type": "code",
   "execution_count": null,
   "metadata": {},
   "outputs": [],
   "source": [
    "def print_markdown_table(headers, columns):\n",
    "    if len(columns) != len(headers):\n",
    "        return\n",
    "    \n",
    "    if not all([len(columns[0]) == len(x) for x in columns]):\n",
    "        return\n",
    "    \n",
    "    mk_row = lambda r : \"|\" + \"|\".join(r) + \"|\"\n",
    "    \n",
    "    result = [mk_row(headers)] #header row\n",
    "    result.append(mk_row((\"- \"*len(headers)).split()))  #header delimiter row\n",
    "    \n",
    "    for i in range(len(columns[0])):\n",
    "        result.append(mk_row([col[i] for col in columns]))\n",
    "            \n",
    "    print('\\n'.join(result))\n",
    "\n",
    "\n",
    "# print_markdown_table([\"Function\",\"Description\"],[b,a])"
   ]
  }
 ],
 "metadata": {
  "kernelspec": {
   "display_name": "Python 3",
   "language": "python",
   "name": "python3"
  },
  "language_info": {
   "codemirror_mode": {
    "name": "ipython",
    "version": 3
   },
   "file_extension": ".py",
   "mimetype": "text/x-python",
   "name": "python",
   "nbconvert_exporter": "python",
   "pygments_lexer": "ipython3",
   "version": "3.7.3"
  },
  "toc": {
   "base_numbering": 1,
   "nav_menu": {},
   "number_sections": true,
   "sideBar": true,
   "skip_h1_title": false,
   "title_cell": "Table of Contents",
   "title_sidebar": "Contents",
   "toc_cell": false,
   "toc_position": {},
   "toc_section_display": true,
   "toc_window_display": false
  }
 },
 "nbformat": 4,
 "nbformat_minor": 2
}
