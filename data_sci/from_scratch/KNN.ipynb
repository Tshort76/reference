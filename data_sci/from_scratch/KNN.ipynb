{
 "cells": [
  {
   "cell_type": "markdown",
   "metadata": {},
   "source": [
    "# Theory"
   ]
  },
  {
   "cell_type": "markdown",
   "metadata": {},
   "source": [
    "# Implementation"
   ]
  },
  {
   "cell_type": "markdown",
   "metadata": {},
   "source": [
    "## Inititialization Cell"
   ]
  },
  {
   "cell_type": "code",
   "execution_count": null,
   "metadata": {},
   "outputs": [],
   "source": [
    "from sklearn import datasets\n",
    "\n",
    "iris_ds = datasets.load_iris()\n",
    "\n",
    "def groupby(func,items):\n",
    "    d = {}\n",
    "    for itm in items:\n",
    "        k = func(itm)\n",
    "        if k in d:\n",
    "            d[k].append(itm)\n",
    "        else:\n",
    "            d[k] = [itm]\n",
    "    return d\n",
    "    \n",
    "# A nifty little function, mirrors Clojure's frequencies function\n",
    "def freqs(items):\n",
    "    \"Returns a dictionary of the form  {item : items_frequency}\"\n",
    "    d = {}\n",
    "    for x in items:\n",
    "        d[x] = (d[x] + 1 if x in d else 1)\n",
    "    return d"
   ]
  },
  {
   "cell_type": "markdown",
   "metadata": {},
   "source": [
    "## Utils"
   ]
  },
  {
   "cell_type": "code",
   "execution_count": null,
   "metadata": {},
   "outputs": [],
   "source": [
    "import numpy as np\n",
    "\n",
    "def euclidean_dist(a,b):\n",
    "    t = a-b\n",
    "    return np.dot(t,t.T)**0.5\n",
    "\n",
    "class fix_size_list:\n",
    "    #this class maintains a list of objects, represented as dicts, which\n",
    "    # contain a distance attribute.  The list will never grow beyond a certain\n",
    "    # size, replacing higher distance members with lower distance additions\n",
    "    \n",
    "    def __init__(self,max_size):\n",
    "        self._n = max_size\n",
    "        self._list = []\n",
    "        self._max_dist = float(\"inf\")\n",
    "        \n",
    "    def add(self, item):\n",
    "        self._list.append(item)\n",
    "        \n",
    "        if len(self._list) > self._n:\n",
    "            #I don't care about efficiency, just get it done\n",
    "            self._list = sorted(self._list, key=lambda x : x['distance'])\n",
    "            self._list.pop(-1)\n",
    "            self._max_dist = self._list[-1]['distance']\n",
    "            \n",
    "    \n",
    "    def threshold(self):\n",
    "        return self._max_dist\n",
    "    \n",
    "    def as_list(self):\n",
    "        return self._list"
   ]
  },
  {
   "cell_type": "markdown",
   "metadata": {},
   "source": [
    "## Niave KNN"
   ]
  },
  {
   "cell_type": "code",
   "execution_count": null,
   "metadata": {},
   "outputs": [],
   "source": [
    "\n",
    "class naive_knn:\n",
    "    \n",
    "    def __init__(self, k, dataset, weighted_dist):\n",
    "        self._k = k\n",
    "        self._data = dataset\n",
    "        self._dist_metric = euclidean_dist\n",
    "        \n",
    "    def search(self, item):\n",
    "        results = fix_size_list(self._k)\n",
    "        \n",
    "        for x in self._data:\n",
    "            d = self._dist_metric(x,item)\n",
    "            if d < results.threshold():\n",
    "                results.add({'item' : x, 'distance' : d})\n",
    "                \n",
    "        return [x['item'] for x in results.as_list()]\n",
    "            "
   ]
  }
 ],
 "metadata": {
  "kernelspec": {
   "display_name": "Python 3",
   "language": "python",
   "name": "python3"
  },
  "language_info": {
   "codemirror_mode": {
    "name": "ipython",
    "version": 3
   },
   "file_extension": ".py",
   "mimetype": "text/x-python",
   "name": "python",
   "nbconvert_exporter": "python",
   "pygments_lexer": "ipython3",
   "version": "3.7.2"
  },
  "toc": {
   "base_numbering": 1,
   "nav_menu": {},
   "number_sections": true,
   "sideBar": true,
   "skip_h1_title": false,
   "title_cell": "Table of Contents",
   "title_sidebar": "Contents",
   "toc_cell": false,
   "toc_position": {},
   "toc_section_display": true,
   "toc_window_display": false
  }
 },
 "nbformat": 4,
 "nbformat_minor": 2
}
