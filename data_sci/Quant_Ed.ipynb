{
 "cells": [
  {
   "cell_type": "markdown",
   "metadata": {
    "heading_collapsed": true
   },
   "source": [
    "# Linear Algebra (Refresher)\n",
    "\n",
    "Linear algebra is the study of vectors and vector spaces.  The term linear is used to describe the case where every variable has a degree of at most 1 and its coefficient is a numeric value.  For instance, $y=mx+b$ is a linear equation but $y=mx^2+b$ and $y=zx+b$ are not, since the variable $x$ has a degree greater than 1 and a variable coefficient, respectively."
   ]
  },
  {
   "cell_type": "markdown",
   "metadata": {
    "hidden": true
   },
   "source": [
    "## Vectors\n",
    "\n",
    "A vector is a list of numbers, i.e. $[1, 2, 4, 6]$ , that have specific operations defined for them.  The simplest of these operations are defined as components level operations such as:\n",
    "\n",
    " - Addition : $[1,2] + [5,8] = [(1 + 5), (2 + 8)] = [6,10]$\n",
    " - Multiplication by a scalar : $ 3 * [1,2] = [3,6]$\n",
    " \n",
    "We can also think of a vector as the sum of the scalar multiples of unit vector components.  In most cases, these unit vector components are the natural basis, $e_1=[1,0,0,...0], e_3=[0,0,1,0,0,...,0]$.  We can therefore describe a vector as the sum of scalar multiples of these basis vectors.  For example, the vector $[1,3]$ can also be written as $3e_1 + 2e_2$.\n",
    "\n",
    "### Dot Product\n",
    "\n",
    "$$ [1,2] \\bullet [5,8] = 1(5) + 2(8) = 21$$\n",
    "\n",
    "The dot (or inner) product of 2 vectors, defined as sum of the products of the corresponding components in each vector, has some very useful properties.  Let us look at some of these:\n",
    "\n",
    "A vector 'dotted' with itself is equal to the vectors magnitude squared - $a \\bullet a = |a|^2$\n",
    "\n",
    "##### The angle between vectors\n",
    "\n",
    "Most usefully, we can recall the cosine rule : $c^2 = a^2 + b^2 - 2ab\\cos\\theta$, which tells us the relationship between 2 vectors, a and b, the angle between them, $\\theta$, and the third side of the triangle, c, that would be formed by connecting a and b.  We can rewrite this, in terms of our new dot product operator, as \n",
    "$$|a-b|^2 = |a|^2 + |b|^2 - 2|a||b|\\cos\\theta$$\n",
    "\n",
    "and we rewrite the left side as\n",
    "\n",
    "$$ = |a-b|\\bullet|a-b| = a \\bullet a - a \\bullet b - a \\bullet b + b \\bullet b$$\n",
    "$$ = |a|^2 - 2(a \\bullet b) + |b|^2$$\n",
    "\n",
    "Plugging this back into our first equation and cancelling out terms yields:\n",
    "\n",
    "$$a \\bullet b = |a||b|\\cos\\theta$$\n",
    "\n",
    "__So the dot product can be used to determine the alignment of 2 vectors__!\n",
    "\n",
    "If two vectors are pointed in the same direction (one is a positive scalar multiple of another), then $\\cos0 = 0$ and therefore the dot product of the two vectors is 0.  Likewise, if the vectors are orthogonal then $\\cos90 = 1$ and $a \\bullet b = |a||b|$.\n",
    "\n",
    "#### Projections\n",
    "\n",
    "The projection of vector $a$ onto vector $b$ can be visualized with the following picture.\n",
    "\n",
    "![title](resources/vector_projection.jpg)\n",
    "\n",
    "where the projection is the magnitude of the vector that starts at the origin of $b$ and ends at the dotted line. Since we have a right triangle, we can determine the projection $\\rho$ as \n",
    "\n",
    "$$ \\cos\\theta = \\frac{adj}{hyp} = \\rho /|a|$$\n",
    "\n",
    "$$\\frac{a \\bullet b}{|a||b|} = \\frac{\\rho}{|a|}$$\n",
    "\n",
    "$$ \\rho = \\frac{a \\bullet b}{|b|} $$\n",
    "\n",
    "Another important idea is that of a vector projection, which is simply the scalar projection multiplied by the unit vector of b ($\\frac{b}{|b|}$).  So the vector projection of a onto b is given by:\n",
    "\n",
    "$$ = \\frac{a \\bullet b}{|b|} * \\frac{b}{|b|}$$ \n",
    "\n",
    "As motivation for the next section, we can see that if we were to take the vector projection of $a$ onto $b$ then we have $c$ such that $a$ can be represented in component form as $... + cb$. So we can write $ cb = \\frac{a \\bullet b}{|b|} * \\frac{b}{|b|}$ and therefore\n",
    "\n",
    "$$ c = \\frac{cb}{b} = \\frac{1}{b} * \\frac{a \\bullet b}{|b|} * \\frac{b}{|b|} = \\frac{a \\bullet b}{|b|^2}$$\n",
    "\n",
    "#### Basis vectors\n",
    "\n",
    "As hinted at above, we can represent a vector in terms of a new set of basis vectors.  If the basis vectors are orthogonal to each other, then we can use the dot product to do this.  The vector $r$ can be represented in terms of orthogonal basis vectors $a$ and $b$ simply by using the unit projection of $r$ onto each basis vector as the associated component coefficient.  Formally, $r$ represented in these terms as (using results from above):\n",
    "\n",
    "$$ [\\frac{r \\bullet a}{a \\bullet a} , \\frac{r \\bullet b}{b \\bullet b}]$$\n",
    "\n",
    "### Basis\n",
    "\n",
    "A _basis_ is a set of $n$ vectors that are linearly independent (1 vector cannot be represented as a linear combination of some set of the other vectors) and span the entire vector space (any vector in the space can be represented as a linear combination of the _basis_ vectors).  If these hold, then the vector space of that basis is said to be $n$ dimensional."
   ]
  },
  {
   "cell_type": "markdown",
   "metadata": {
    "hidden": true
   },
   "source": [
    "## Matrices\n",
    "\n",
    "A matrix is a 2 dimensional vector of real (?) numbers which represent the coefficients in a system of simultaneous equations.  For instance,\n",
    "\n",
    "$$ 3x + 2y = 12$$\n",
    "$$ 4x + 8y = 18$$\n",
    "\n",
    "can be represented in matrix notation as: \n",
    "\n",
    "$$\\left[ {\\begin{array}{cc}\n",
    "   3 & 2\\\\\n",
    "   4 & 8\\\\\n",
    "  \\end{array} } \\right] \\left[ {\\begin{array}{c}\n",
    "   x\\\\\n",
    "   y\\\\\n",
    "  \\end{array} } \\right] =  \\left[ {\\begin{array}{c}\n",
    "   12\\\\\n",
    "   18\\\\\n",
    "  \\end{array} } \\right]$$\n",
    "  \n",
    "To think about what a matrix represents, from a geometric perspective, lets look at what happens when we multiply the standard basis' by a matrix\n",
    "\n",
    "$$\\left[ {\\begin{array}{cc}\n",
    "   a & b\\\\\n",
    "   c & d\\\\\n",
    "  \\end{array} } \\right] \\left[ {\\begin{array}{c}\n",
    "   1\\\\\n",
    "   0\\\\\n",
    "  \\end{array} } \\right] = \\left[ {\\begin{array}{c}\n",
    "   a\\\\\n",
    "   c\\\\\n",
    "  \\end{array} } \\right] \\quad , \\quad \\left[ {\\begin{array}{cc}\n",
    "   a & b\\\\\n",
    "   c & d\\\\\n",
    "  \\end{array} } \\right] \\left[ {\\begin{array}{c}\n",
    "   0\\\\\n",
    "   1\\\\\n",
    "  \\end{array} } \\right] = \\left[ {\\begin{array}{c}\n",
    "   b\\\\\n",
    "   d\\\\\n",
    "  \\end{array} } \\right]$$\n",
    "  \n",
    "We see that the ith column of the matrix tells us what happens to the unit vector along the ith axis of our space. This is an interesting feature as we see that it makes it pretty easy to understand how to rotate our space in a predictable manner.  For instance, say we have a picture that we want to rotate by 90 degrees, counter clockwise.  We can achieve this by applying a single matrix transformation to each vector (column) of pixels in the picture.  What is the matrix transformation?  Well, we want the x-axis unit vector $[1,0]$ transformed to $[0,1]$ (a 90 degree rotation) and the y-axis transformed to $[-1,0]$ (a 90 degree rotation).  Thus, the transformation matrix that represents a 90 degree counter clockwise rotation is the matrix composed of these transformed axis vectors, \n",
    "\n",
    "$$\\left[ {\\begin{array}{cc}\n",
    "   0 & -1\\\\\n",
    "   1 & 0\\\\\n",
    "  \\end{array} } \\right]$$\n",
    "  \n",
    "\n",
    "_So we can also say that a matrix is a transformation of vector space and that the columns of a transformation matrix are the axes of the new basis vectors of the transformed space!_\n",
    "\n",
    "#### Quick notes on solving simulataneous equations with matrices\n",
    "\n",
    "To solve a particular system of simultaneous equations, reduce the system to row echelon form.  To solve the system for all r such that $Av = r$, we can find the inverse of matrix $A$, $A^{-1}$ and multiply both sides by it: \n",
    "\n",
    "$$ A^{-1}(Av) = A^{-1}r = v$$\n",
    "\n",
    "### Determinants\n",
    "\n",
    "The determinant of a matrix is the scale/factor by which a matrix transformation changes the size of a vector space.  For instance, the determinant of the matrix\n",
    "\n",
    "$$\\left[ {\\begin{array}{cc}\n",
    "   a & 0\\\\\n",
    "   0 & d\\\\\n",
    "  \\end{array} } \\right]$$\n",
    "\n",
    "is $a*d$ since this tranformation increases the size of our vector space by a factor of $a*d$ (see picture below).\n",
    "\n",
    "![title](resources/determinant_1.jpg)\n",
    "\n",
    "In the general case of a matrix \n",
    "$$\\left[ {\\begin{array}{cc}\n",
    "   a & b\\\\\n",
    "   c & d\\\\\n",
    "  \\end{array} } \\right]$$\n",
    "\n",
    "the determinant can be shown (draw out the resulting parallelogram and compute its area as the area of the surrounding box minus the areas of the triangles and squares outside of the parallelogram) to be: \n",
    "\n",
    "$$determinant = ad - cb$$\n",
    "\n",
    "We note that the determinant can be used to derive the identity matrix and also to determine the linear independence of the rows of a matrix transformation (a determinant of 0 means that there is a linear dependence and that the matrix is therefore _singular_ ).\n",
    "\n",
    "#### Orthogonal Matrices\n",
    "\n",
    "An orthogonal matrix is a matrix that consists of pairwise orthogonal columns.  It is orthonormal if each column is a unit vector (length of 1).  For an orthonormal matrix, $A^T=A^{-1}$ and the determinant of the A is $\\pm1$.\n"
   ]
  },
  {
   "cell_type": "markdown",
   "metadata": {
    "hidden": true
   },
   "source": [
    "## Key Points\n",
    "\n",
    " - The columns of a matrix transformation represent the new basis vectors for the transformed space\n",
    " - The determinant of a matrix is the scaling of the transformation, in terms of the size of the transformed space\n",
    " - Assume that we want to apply some sort of transformation, which is easily representable in the basis space X, to a basis space Y in which the transformation easy to intuit(vector space).  If we know the transformation (matrix) A such that AX = Y, then we can get the desired transformation in Y by transforming the transformation represented in X basis form using matrix A. (or something like that)"
   ]
  },
  {
   "cell_type": "markdown",
   "metadata": {},
   "source": [
    "# Time Series Analysis"
   ]
  },
  {
   "cell_type": "markdown",
   "metadata": {},
   "source": [
    "## Fourier Series\n",
    "\n",
    "https://www.khanacademy.org/science/electrical-engineering/ee-signals/ee-fourier-series/v/ee-fourier-series-intro\n",
    "\n",
    "A fourier series attempts to represent a periodic function as a weighted sum of cosines and sines of different frequencies.  Formally, we approximate our function using : $$f(t) = a_0 + a_1\\cos{t} + a_2\\cos{2t} + ... + a_n\\cos{nt} + b_1\\sin{t} + b_2\\sin{2t} + ... + b_n\\sin{nt}$$ Where $n$ approaches infinity"
   ]
  },
  {
   "cell_type": "markdown",
   "metadata": {},
   "source": [
    "## Autocorrelation\n",
    "\n",
    "To detect periodicity, we can employ a technique known as autocorrelation.  In a nutshell, this involves finding the correlation between the data and a version of itself that has been shifted (so original_data[i] is being compared to original_data[i+SHIFT] ).  Peaks in the plot of correlation vs shift should show candidate periodicity values.  Here is a visualization that I snagged from http://qingkaikong.blogspot.com/ :\n",
    "\n",
    "<img src=\"resources/images/autocorrelation.png\" alt=\"Autocorrelation\">\n",
    "\n",
    "##### Code\n",
    "Running this on a pandas Series with numpy (index alignment was a pain so I went to numpy)\n",
    "```\n",
    "osig = norm_df['ABLd'][0:4000].values\n",
    "\n",
    "x_vals = range(50,3000,25)\n",
    "y_vals = []\n",
    "\n",
    "for i in x_vals:\n",
    "    nsig = norm_df['ABLd'][i:(i+4000)]\n",
    "    y_vals.append(np.correlate(osig,nsig.values))\n",
    "    \n",
    "plt.plot(x_vals,y_vals);\n",
    "```"
   ]
  },
  {
   "cell_type": "markdown",
   "metadata": {},
   "source": [
    "# Miscellaneous"
   ]
  },
  {
   "cell_type": "markdown",
   "metadata": {},
   "source": [
    "## Markov Chain Monte Carlo"
   ]
  },
  {
   "cell_type": "markdown",
   "metadata": {},
   "source": [
    "### Monte Carlo"
   ]
  },
  {
   "cell_type": "markdown",
   "metadata": {},
   "source": [
    "Monte Carlo (sampling) is a technique for metric estimation via random sampling. The intuition behind the technique is that one can estimate the true (population) distribution of a random variable as the distribution of that random variable in a large set of independent samples.  This is rooted in the law of large numbers, and we can intuit that the more samples that we make, the better the estimation.  This allows us to solves problems that have a probabilistic interpretation.\n",
    "\n",
    "As an example, let us consider the problem of estimating the value of $\\pi$.  To use the Monte Carlo method, we must interpret the problem probabistically.  To start, we note that if a unit circle (radius 1) is bounded by a square (sides with length 2), then the area of the square is 4 and the area of the circle is $\\pi$.  In other words, the ratio of the areas of the two geometric shapes is $\\pi:4$ and thus the probability that a point that lies within the square also lies within the circle is $\\pi/4$.  With our probabilistic interpretation in hand, we can estimate $\\pi$ by randomly sampling $n$ points from within the square and recording the number which are also inside the circle $n_C$.  Our estimate is: $$\\pi \\approx \\dfrac{4*n_C}{n}$$"
   ]
  },
  {
   "cell_type": "markdown",
   "metadata": {},
   "source": [
    "### Example\n",
    "What percent of points in a square are closer to the center than to the edges"
   ]
  },
  {
   "cell_type": "code",
   "execution_count": 2,
   "metadata": {
    "ExecuteTime": {
     "end_time": "2020-03-06T21:45:16.338258Z",
     "start_time": "2020-03-06T21:44:38.968482Z"
    }
   },
   "outputs": [
    {
     "name": "stdout",
     "output_type": "stream",
     "text": [
      "0.219089\n"
     ]
    },
    {
     "data": {
      "image/png": "[encoded data removed]",
      "text/plain": [
       "<Figure size 432x288 with 1 Axes>"
      ]
     },
     "metadata": {
      "needs_background": "light"
     },
     "output_type": "display_data"
    }
   ],
   "source": [
    "import numpy as np\n",
    "import matplotlib.pyplot as plt\n",
    "import random\n",
    "\n",
    "# square is (0,0),(0,1),(1,1),(1,0)\n",
    "# center is (0.5,0.5)\n",
    "\n",
    "dist_to_center = lambda p1 : ((p1[0]-0.5)**2 + (p1[1]-0.5)**2)**0.5\n",
    "dist_to_edge = lambda x,y:  min([x,y,1-x,1-y])\n",
    "closer_to_center = lambda p : 1 if (dist_to_center(p) < dist_to_edge(*p)) else 0\n",
    "\n",
    "num_trials = 100000\n",
    "\n",
    "vals = []\n",
    "points = []\n",
    "for i in range(num_trials):\n",
    "    p = [random.random(),random.random()]  #generate a random point\n",
    "    points.append(p)\n",
    "    vals.append(closer_to_center(p))\n",
    "\n",
    "print(sum(vals)/len(vals))  # Print the ratio\n",
    "\n",
    "# plot to get an idea of the boundary of that internal shape\n",
    "xz = [x[0] for x in points]\n",
    "yz = [x[1] for x in points]\n",
    "colors = ['#e6194B' if x else '#ffe119' for x in vals]\n",
    "plt.scatter(xz,yz,c=colors)\n",
    "\n",
    "plt.show()"
   ]
  },
  {
   "cell_type": "markdown",
   "metadata": {},
   "source": [
    "## Likelihood"
   ]
  },
  {
   "cell_type": "markdown",
   "metadata": {},
   "source": [
    "Likelihood is a function of the parameters of a statistical model, given specific observed data, and plays a key role in estimating a parameter from a set of statistics. Likelihood describes the _plausibility_, but __not the probability__, of a model parameter value given an observation.  It is important to note that likelihood is directly proportional to probability but is not equivalent.  When used to estimate a model parameter given some observations, the log likelihood is preferred since its derivative is often easier to compute.\n",
    "\n",
    "Common syntax for this likelihood is:\n",
    "\n",
    "$${L}(\\theta \\mid x)=f_{\\theta }(x)$$\n",
    "\n",
    "Although it looks like a continuous probability function, it should not be considered one as all of the values do not sum to 1. To illustrate, let us look at an example:\n",
    "\n",
    "Assume that we are trying to determine $p_H$, the probability that a coin will land 'heads up' on a flip, given some observations.  To start, let us assume that we have observed HH (two heads up flips).  The likelihood function for this situation is constructed as follows: For every possible value of $p_H$, determine the probability of our observation given that value of $p_H$.  For example:\n",
    "\n",
    "$${P}(HH \\mid p_H = 0.5) = 0.5^2 = 0.25$$\n",
    "\n",
    "and therefore the likelihood that the model parameter $p_H$ equals 0.5 is :\n",
    "\n",
    "$${L}(p_H = 0.5 \\mid HH)=0.25$$\n",
    "\n",
    "Below are two graphs of likelihood with different observations.  We note that the sum under the graph, total likelihood, is not 1 and decreases with more observations since every hypothesis except $p_H = 1$ is less likely and $p_H = 1$ is just as likely as ever.  We note here that even though the integral decreases, $p_H = 1$ becomes more likely _than competing hypothesis_ and we can therefore use likelihood to estimate a good model parameter."
   ]
  },
  {
   "cell_type": "code",
   "execution_count": 2,
   "metadata": {},
   "outputs": [
    {
     "data": {
      "image/png": "[encoded data removed]",
      "text/plain": [
       "<Figure size 432x288 with 1 Axes>"
      ]
     },
     "metadata": {
      "needs_background": "light"
     },
     "output_type": "display_data"
    }
   ],
   "source": [
    "import matplotlib.pyplot as plt\n",
    "\n",
    "p_H = [(x*0.05) for x in range(21)]\n",
    "l_HH = [(x*0.05)**2 for x in range(21)]\n",
    "l_HHHH = [(x*0.05)**4 for x in range(21)]\n",
    "l_HHHHHH = [(x*0.05)**6 for x in range(21)]\n",
    "\n",
    "fig, ax = plt.subplots()\n",
    "ax.plot(p_H, l_HH, label='HH')\n",
    "ax.plot(p_H, l_HHHH, label='HHHH')\n",
    "ax.plot(p_H, l_HHHHHH, label='HHHHHH')\n",
    "plt.xlabel('$p_H$')\n",
    "plt.ylabel('Likelihood')\n",
    "ax.legend()\n",
    "plt.show()\n"
   ]
  },
  {
   "cell_type": "markdown",
   "metadata": {},
   "source": [
    "## Embeddings\n",
    "\n",
    "An embedding is a mapping of a discrete — categorical — variable to a vector of continuous numbers. In the context of neural networks, embeddings are learned low-dimensional representations of discrete data as continuous vectors. Neural network embeddings have 3 main use cases:\n",
    "\n",
    " - Assessing similarity between objects (e.g. for use in clustering and nearest neighbor searches)\n",
    " - As input to machine learning models\n",
    " - For visualization of concepts and relations between categories\n",
    " \n",
    "Neural embeddings overcome the two main limitations of the simple one-hot encoding method, namely by offering a fixed dimensionality that is independent of the cardinality of the variable (one-hot encoded vectors are equal in length to the cardinality of the variable) is reduced \n",
    "\n",
    "-William Koehrsen, Neural Network Embeddings Explained, Towards Data Science"
   ]
  }
 ],
 "metadata": {
  "kernelspec": {
   "display_name": "Python 3",
   "language": "python",
   "name": "python3"
  },
  "language_info": {
   "codemirror_mode": {
    "name": "ipython",
    "version": 3
   },
   "file_extension": ".py",
   "mimetype": "text/x-python",
   "name": "python",
   "nbconvert_exporter": "python",
   "pygments_lexer": "ipython3",
   "version": "3.7.6"
  },
  "toc": {
   "base_numbering": 1,
   "nav_menu": {},
   "number_sections": true,
   "sideBar": true,
   "skip_h1_title": false,
   "title_cell": "Table of Contents",
   "title_sidebar": "Contents",
   "toc_cell": false,
   "toc_position": {
    "height": "calc(100% - 180px)",
    "left": "10px",
    "top": "150px",
    "width": "384px"
   },
   "toc_section_display": true,
   "toc_window_display": true
  }
 },
 "nbformat": 4,
 "nbformat_minor": 2
}
