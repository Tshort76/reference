{
 "cells": [
  {
   "cell_type": "markdown",
   "metadata": {
    "heading_collapsed": true
   },
   "source": [
    "# Slicing"
   ]
  },
  {
   "cell_type": "code",
   "execution_count": null,
   "metadata": {
    "hidden": true
   },
   "outputs": [],
   "source": [
    "x = [1,2,3,4,5]\n",
    "\n",
    "x[-1] # 5\n",
    "x[:2] # [1,2]\n",
    "x[2:] # [3,4,5]\n",
    "x[1:4] # [2,3,4]"
   ]
  },
  {
   "cell_type": "markdown",
   "metadata": {},
   "source": [
    "# Strings"
   ]
  },
  {
   "cell_type": "code",
   "execution_count": 15,
   "metadata": {
    "ExecuteTime": {
     "end_time": "2019-02-21T20:32:01.437998Z",
     "start_time": "2019-02-21T20:32:01.434611Z"
    }
   },
   "outputs": [
    {
     "data": {
      "text/plain": [
       "'Today, unlike most days, is a great day!'"
      ]
     },
     "execution_count": 15,
     "metadata": {},
     "output_type": "execute_result"
    }
   ],
   "source": [
    "# Split at space\n",
    "\"Hello John\".split()\n",
    "\"Hello John, my name is joe\".split(\", \")\n",
    "\n",
    "#concatenate with a separator\n",
    "\",\".join([\"Today\", \" unlike most days\", \" is a great day!\"])\n"
   ]
  },
  {
   "cell_type": "markdown",
   "metadata": {},
   "source": [
    "## String object methods"
   ]
  },
  {
   "cell_type": "markdown",
   "metadata": {},
   "source": [
    "|Method|Description|\n",
    "|-|-|\n",
    "|count|Return the number of non-overlapping occurrences of substring in the string.|\n",
    "|endswith|Returns True if string ends with suffix.|\n",
    "|startswith|Returns True if string starts with prefix.|\n",
    "|join|Use string as delimiter for concatenating a sequence of other strings.|\n",
    "|index|Return position of first character in substring if found in the string; raises ValueError|\n",
    "|find|Return position of first character of first occurrence of substring in the string; like index not found.|\n",
    "|rfind|Return position of first character of last occurrence of substring in the string; returns –1 if not found.|\n",
    "|replace|Replace occurrences of string with another string.|\n",
    "|strip, rstrip, lstrip|Trim whitespace, including newlines; equivalent to x.strip() (and rstrip, lstrip , respectively) for each element.|\n",
    "|split|Break string into list of substrings using passed delimiter.|\n",
    "|lower|Convert alphabet characters to lowercase.|\n",
    "|upper|Convert alphabet characters to uppercase.|\n",
    "|casefold|Convert characters to lowercase, and convert any region-specific variable character combinations to a common comparable form.|"
   ]
  },
  {
   "cell_type": "markdown",
   "metadata": {},
   "source": [
    "## Regex"
   ]
  },
  {
   "cell_type": "code",
   "execution_count": 28,
   "metadata": {
    "ExecuteTime": {
     "end_time": "2019-02-21T21:00:37.632372Z",
     "start_time": "2019-02-21T21:00:37.627698Z"
    }
   },
   "outputs": [
    {
     "data": {
      "text/plain": [
       "'Dave NA\\nSteve NA\\nRob NA\\nRyan NA '"
      ]
     },
     "execution_count": 28,
     "metadata": {},
     "output_type": "execute_result"
    }
   ],
   "source": [
    "import re\n",
    "\n",
    "txt = 'bob    is not\\t that weird'\n",
    "\n",
    "#compile and use a regex\n",
    "re.split('\\s+',txt)\n",
    "\n",
    "#compile a reusable regex\n",
    "white_space = re.compile('\\s+')\n",
    "re.split(white_space,txt)\n",
    "\n",
    "\n",
    "text = \"\"\"Dave dave@google.com\n",
    "Steve steve@gmail.com\n",
    "Rob rob@gmail.com\n",
    "Ryan ryan@yahoo.com \"\"\"\n",
    "\n",
    "\n",
    "email_rgxs = r'[A-Z0-9._%+-]+@[A-Z0-9.-]+\\.[A-Z]{2,4}' \n",
    "\n",
    "# re.IGNORECASE makes the regex case-insensitive\n",
    "email_rgx = re.compile(email_rgxs, flags=re.IGNORECASE)\n",
    "\n",
    "#get a list of all patterns matching the regex\n",
    "email_rgx.findall(text)\n",
    "\n",
    "#use search to get the position range of the first occurrence\n",
    "email_rgx.search(text)\n",
    "\n",
    "#does the entire string match the pattern\n",
    "email_rgx.match(text)\n",
    "\n",
    "#replace occurences of the regex with a string\n",
    "email_rgx.sub('NA', text)"
   ]
  },
  {
   "cell_type": "markdown",
   "metadata": {},
   "source": [
    "## Formatting"
   ]
  },
  {
   "cell_type": "markdown",
   "metadata": {},
   "source": [
    "### f-Strings\n",
    "An f-String is special syntax, f\"\", for formatting strings that reference variables."
   ]
  },
  {
   "cell_type": "code",
   "execution_count": 2,
   "metadata": {
    "ExecuteTime": {
     "end_time": "2020-10-14T13:19:12.108086Z",
     "start_time": "2020-10-14T13:19:12.103482Z"
    }
   },
   "outputs": [
    {
     "name": "stdout",
     "output_type": "stream",
     "text": [
      "Hello, Eric. You are 74 years old, well 27022 days old, to be precise.You are worth $125.21; you might consider a new career!\n"
     ]
    }
   ],
   "source": [
    "cap_first = lambda x: x[0].upper() + x[1:]\n",
    "name = \"eric\"\n",
    "age = 74\n",
    "net_worth = 125.2132314223\n",
    "s = f\"Hello, {cap_first(name)}. You are {age} years old, well {(age*365)+12} days old, to be precise.\"\n",
    "s += f\"You are worth ${net_worth:,.2f}; you might consider a new career!\"\n",
    "\n",
    "print(s)"
   ]
  },
  {
   "cell_type": "markdown",
   "metadata": {},
   "source": [
    "### Floats"
   ]
  },
  {
   "cell_type": "code",
   "execution_count": 6,
   "metadata": {
    "ExecuteTime": {
     "end_time": "2020-10-14T13:27:27.810977Z",
     "start_time": "2020-10-14T13:27:27.803377Z"
    }
   },
   "outputs": [
    {
     "name": "stdout",
     "output_type": "stream",
     "text": [
      "4321.12\n",
      "4321.12\n",
      "4,321.1230\n",
      "For fixed width strings,            4,321.123\n"
     ]
    }
   ],
   "source": [
    "# value:{total_width}.{precision}f  # # of characters (incl space) = width, # decimals = precision\n",
    "v = 4321.123\n",
    "print(f\"{v:3.2f}\")\n",
    "print(f\"{v:.2f}\")  # don't bother total width\n",
    "print(f\"{v:,.4f}\")  # use commas to separate thousands\n",
    "print(f\"For fixed width strings, {v:20,}\")  # no decimals, fixed width, commas"
   ]
  },
  {
   "cell_type": "markdown",
   "metadata": {
    "heading_collapsed": true
   },
   "source": [
    "# List comprehensions"
   ]
  },
  {
   "cell_type": "code",
   "execution_count": null,
   "metadata": {
    "hidden": true
   },
   "outputs": [],
   "source": [
    "nums = [0, 1, 2, 3, 4]\n",
    "\n",
    "#lists\n",
    "squares = [x ** 2 for x in nums if x % 2]     #[0, 4, 16]\n",
    "\n",
    "#set\n",
    "{s for s in nums if s % 2}  #{0,2,4}\n",
    "\n",
    "#dictionaries\n",
    "even_num_to_square = {x: x ** 2 for x in nums if x % 2}  # {0: 0, 2: 4, 4: 16}\n",
    "\n",
    "# TODO generators"
   ]
  },
  {
   "cell_type": "markdown",
   "metadata": {
    "heading_collapsed": true
   },
   "source": [
    "# Dates"
   ]
  },
  {
   "cell_type": "code",
   "execution_count": 13,
   "metadata": {
    "ExecuteTime": {
     "end_time": "2019-02-21T19:33:09.281226Z",
     "start_time": "2019-02-21T19:33:09.277429Z"
    },
    "hidden": true
   },
   "outputs": [
    {
     "data": {
      "text/plain": [
       "datetime.date(2019, 3, 10)"
      ]
     },
     "execution_count": 13,
     "metadata": {},
     "output_type": "execute_result"
    }
   ],
   "source": [
    "# https://docs.python.org/3/library/datetime.html\n",
    "\n",
    "from datetime import date\n",
    "from datetime import datetime\n",
    "from datetime import timedelta\n",
    "\n",
    "#Create dates , datetimes are very similiar but use datetime instead of date\n",
    "date.fromisoformat(\"2019-01-01\")\n",
    "date.today()\n",
    "date(2019,1,1)\n",
    "\n",
    "\n",
    "#adding time intervals to dates\n",
    "# class datetime.timedelta(days=0, seconds=0, microseconds=0, milliseconds=0, minutes=0, hours=0, weeks=0)¶\n",
    "datetime.now() + timedelta(days=1,minutes=5,seconds=20)\n",
    "date.today() + timedelta(days=3,weeks=2) "
   ]
  },
  {
   "cell_type": "markdown",
   "metadata": {
    "hidden": true
   },
   "source": [
    "## Common methods"
   ]
  },
  {
   "cell_type": "markdown",
   "metadata": {
    "hidden": true
   },
   "source": [
    "| Method | Description |\n",
    "|--|--|\n",
    "| year, month, ... | get the [year,month, ...] of the date or datetime |\n",
    "| weekday | Return the day of the week as an integer, where Monday is 0 |\n",
    "| isoformat | Return a string representing the date in ISO 8601 format |\n",
    "| fromisoformat(d) | Parse the isoformatted date string as a date (or datetime) |"
   ]
  },
  {
   "cell_type": "markdown",
   "metadata": {},
   "source": [
    "# OOP"
   ]
  },
  {
   "cell_type": "code",
   "execution_count": null,
   "metadata": {},
   "outputs": [],
   "source": [
    "class Chicken:\n",
    "    \n",
    "    species = 'Bird'  #Static/Class variable\n",
    "\n",
    "    #methods that start with __ have private scope\n",
    "    # __init__ is the constructor method\n",
    "    def __init__(self, weight):\n",
    "        self.num_feet = 2  #public attribute\n",
    "        self._weight = weight # attributes that begin with _ have private scope\n",
    "        \n",
    "    def digest(self)\n",
    "    \n",
    "    def feed(self, food_weight):\n",
    "        self._weight += food_weight / 10.0\n",
    "        "
   ]
  },
  {
   "cell_type": "markdown",
   "metadata": {},
   "source": [
    "# Decorators"
   ]
  },
  {
   "cell_type": "markdown",
   "metadata": {},
   "source": [
    "Decorators are simply function wrappers; they take a function as an argument and then create a new function that adds some additional functionality around it.  The new function is returned.  Below is a simple example (from realpython.com, https://realpython.com/primer-on-python-decorators)"
   ]
  },
  {
   "cell_type": "markdown",
   "metadata": {},
   "source": [
    "## Simple example"
   ]
  },
  {
   "cell_type": "code",
   "execution_count": 1,
   "metadata": {},
   "outputs": [],
   "source": [
    "#Define your additional behavior.  In this case, we print something before and after the function call\n",
    "def my_decorator(func):\n",
    "    def wrapper():\n",
    "        print(\"Something is happening before the function is called.\")\n",
    "        func()\n",
    "        print(\"Something is happening after the function is called.\")\n",
    "    return wrapper\n"
   ]
  },
  {
   "cell_type": "markdown",
   "metadata": {},
   "source": [
    "### Classic way to wrap a function"
   ]
  },
  {
   "cell_type": "code",
   "execution_count": 3,
   "metadata": {},
   "outputs": [
    {
     "name": "stdout",
     "output_type": "stream",
     "text": [
      "Something is happening before the function is called.\n",
      "Whee!\n",
      "Something is happening after the function is called.\n"
     ]
    }
   ],
   "source": [
    "def say_whee():\n",
    "    print(\"Whee!\")\n",
    "\n",
    "# Classic way to get decorator behavior from a function .. define function and wrap it manually\n",
    "say_whee = my_decorator(say_whee)\n",
    "\n",
    "say_whee()"
   ]
  },
  {
   "cell_type": "markdown",
   "metadata": {},
   "source": [
    "### Syntactic sugar"
   ]
  },
  {
   "cell_type": "code",
   "execution_count": 4,
   "metadata": {},
   "outputs": [
    {
     "name": "stdout",
     "output_type": "stream",
     "text": [
      "Something is happening before the function is called.\n",
      "Whee!\n",
      "Something is happening after the function is called.\n"
     ]
    }
   ],
   "source": [
    "@my_decorator\n",
    "def say_whee():\n",
    "    print(\"Whee!\")\n",
    "    \n",
    "say_whee()"
   ]
  },
  {
   "cell_type": "markdown",
   "metadata": {},
   "source": [
    "## Decorators with arguments"
   ]
  },
  {
   "cell_type": "code",
   "execution_count": 8,
   "metadata": {},
   "outputs": [
    {
     "name": "stdout",
     "output_type": "stream",
     "text": [
      "Whee!\n",
      "Whee!\n",
      "Bob said Whee!\n",
      "Bob said Whee!\n"
     ]
    }
   ],
   "source": [
    "#use the *args and **kwargs values to allow reusable decorators (support varying # of method parameters)\n",
    "def do_twice(func):\n",
    "    def wrapper_do_twice(*args, **kwargs):\n",
    "        func(*args, **kwargs)\n",
    "        func(*args, **kwargs)\n",
    "    return wrapper_do_twice\n",
    "\n",
    "@do_twice\n",
    "def say_whee():\n",
    "    print('Whee!')\n",
    "    \n",
    "@do_twice\n",
    "def say_whee_named(name):\n",
    "    print(name, 'said Whee!')\n",
    "    \n",
    "\n",
    "say_whee()\n",
    "say_whee_named('Bob')"
   ]
  },
  {
   "cell_type": "markdown",
   "metadata": {},
   "source": [
    "# Miscellaneous"
   ]
  },
  {
   "cell_type": "markdown",
   "metadata": {},
   "source": [
    "## Syntactic Sugar"
   ]
  },
  {
   "cell_type": "markdown",
   "metadata": {},
   "source": [
    "### Arguments and parameters"
   ]
  },
  {
   "cell_type": "markdown",
   "metadata": {},
   "source": [
    "#### Unpacking collections into arguments"
   ]
  },
  {
   "cell_type": "code",
   "execution_count": 5,
   "metadata": {},
   "outputs": [
    {
     "name": "stdout",
     "output_type": "stream",
     "text": [
      "a:  first  b:  second  c:  balanced  d:  100\n",
      "a:  a  b:  b  c:  c  d:  d\n",
      "a:  a  b:  b  c:  c  d:  d\n"
     ]
    }
   ],
   "source": [
    "def samp_fnc(a,b,c=3,d='hello'):\n",
    "    print('a: ', a, ' b: ', b , ' c: ', c, ' d: ', d)\n",
    "\n",
    "pos_args = ['first', 'second']\n",
    "kw_args = {'c':'balanced','d':100}\n",
    "\n",
    "samp_fnc(*pos_args,**kw_args)\n",
    "samp_fnc(*['a','b','c','d'])\n",
    "samp_fnc(**{a : a for a in ['a','b','c','d']})\n"
   ]
  },
  {
   "cell_type": "markdown",
   "metadata": {},
   "source": [
    "### Merge dictionaries"
   ]
  },
  {
   "cell_type": "code",
   "execution_count": 6,
   "metadata": {},
   "outputs": [
    {
     "data": {
      "text/plain": [
       "{'winner': 'thomas', 'loser': 'tim t', 'contest': 'Dancing'}"
      ]
     },
     "execution_count": 6,
     "metadata": {},
     "output_type": "execute_result"
    }
   ],
   "source": [
    "defaults = {'winner' : 'thomas', 'loser' : 'other', 'contest' : 'Singing'}\n",
    "user_args = {'loser' : 'tim t', 'contest' : 'Dancing'}\n",
    "\n",
    "{**defaults, **user_args}"
   ]
  },
  {
   "cell_type": "markdown",
   "metadata": {},
   "source": [
    "## Serialization"
   ]
  },
  {
   "cell_type": "markdown",
   "metadata": {},
   "source": [
    "### Pickle"
   ]
  },
  {
   "cell_type": "markdown",
   "metadata": {},
   "source": [
    "#### Without a file"
   ]
  },
  {
   "cell_type": "code",
   "execution_count": 7,
   "metadata": {},
   "outputs": [
    {
     "data": {
      "text/plain": [
       "'Hello world'"
      ]
     },
     "execution_count": 7,
     "metadata": {},
     "output_type": "execute_result"
    }
   ],
   "source": [
    "import pickle\n",
    "import io\n",
    "\n",
    "obj = \"Hello world\"\n",
    "s = io.BytesIO()\n",
    "s_idx = s.tell() #determine the starting index for our stream\n",
    "x = pickle.dump(obj,s,pickle.HIGHEST_PROTOCOL)\n",
    "s.seek(s_idx) #jump to the start of the stream\n",
    "pickle.load(s)"
   ]
  },
  {
   "cell_type": "markdown",
   "metadata": {},
   "source": [
    "#### With a file"
   ]
  },
  {
   "cell_type": "code",
   "execution_count": 8,
   "metadata": {},
   "outputs": [
    {
     "data": {
      "text/plain": [
       "{'Score': 12}"
      ]
     },
     "execution_count": 8,
     "metadata": {},
     "output_type": "execute_result"
    }
   ],
   "source": [
    "import pickle\n",
    "\n",
    "file_name = 'temp_file.pkl'\n",
    "obj = {'Score' : 12}\n",
    "pickle.dump(obj,open(file_name,'wb'))  #open file in write binary mode\n",
    "\n",
    "pickle.load(open(file_name,'rb'))  # load from an open file"
   ]
  },
  {
   "cell_type": "markdown",
   "metadata": {},
   "source": [
    "## Command Line arguments\n",
    "https://levelup.gitconnected.com/the-easy-guide-to-python-command-line-arguments-96b4607baea1"
   ]
  },
  {
   "cell_type": "code",
   "execution_count": null,
   "metadata": {},
   "outputs": [],
   "source": [
    "import argparse\n",
    "\n",
    "parser = argparse.ArgumentParser(description='An example program of argparse!')\n",
    "parser.add_argument(\"--a\", default=1, type=int, help=\"This is the 'a' variable\")\n",
    "parser.add_argument(\"--education\", \n",
    "                    choices=[\"highschool\", \"college\", \"university\", \"other\"],\n",
    "                    required=True, type=str, help=\"Your name\")\n",
    "\n",
    "args = parser.parse_args()\n",
    "\n",
    "ed = args.education"
   ]
  }
 ],
 "metadata": {
  "kernelspec": {
   "display_name": "Python 3",
   "language": "python",
   "name": "python3"
  },
  "language_info": {
   "codemirror_mode": {
    "name": "ipython",
    "version": 3
   },
   "file_extension": ".py",
   "mimetype": "text/x-python",
   "name": "python",
   "nbconvert_exporter": "python",
   "pygments_lexer": "ipython3",
   "version": "3.8.5"
  },
  "toc": {
   "base_numbering": 1,
   "nav_menu": {},
   "number_sections": true,
   "sideBar": true,
   "skip_h1_title": false,
   "title_cell": "Table of Contents",
   "title_sidebar": "Contents",
   "toc_cell": false,
   "toc_position": {},
   "toc_section_display": true,
   "toc_window_display": true
  }
 },
 "nbformat": 4,
 "nbformat_minor": 2
}
