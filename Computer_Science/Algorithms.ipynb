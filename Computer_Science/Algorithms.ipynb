{
 "cells": [
  {
   "cell_type": "markdown",
   "metadata": {},
   "source": [
    "# Foundations"
   ]
  },
  {
   "cell_type": "markdown",
   "metadata": {},
   "source": [
    "## Algorithmic Analysis"
   ]
  },
  {
   "cell_type": "markdown",
   "metadata": {},
   "source": [
    "### Asymptotic bounds"
   ]
  },
  {
   "cell_type": "markdown",
   "metadata": {},
   "source": [
    "**$\\Theta$-notation** gives a bounded fit to a function. $f(n) = \\Theta(g(n))$ if there exist positive constants $n_0$, $c_1$, and $c_2$ such that, for $ n > n_0, c_1g(n) \\leq f(n)  \\leq c_2g(n)$<br>\n",
    "**O-notation** gives an upper bound for a function.\n",
    "$f(n) = O(g(n)) if there are positive constants $n_0$ and $c$ such that, for $n > n_0, f(n) < cg(n)$ <br>\n",
    "**$\\Omega$-notation** gives a lower bound for a function. $f(n) = \\Omega(g(n))$ if there are positive constants $n_0$ and $c$ such that, for $n > n_0, f(n) > cg(n)$\n",
    "\n",
    "#### Growth of Common Functions\n",
    "$log(n) < n < nlog(n) < log^k(n) < n^k < k^n < n! $"
   ]
  },
  {
   "cell_type": "markdown",
   "metadata": {},
   "source": [
    "## Sorting"
   ]
  },
  {
   "cell_type": "markdown",
   "metadata": {},
   "source": [
    "### Insertion Sort"
   ]
  },
  {
   "cell_type": "markdown",
   "metadata": {},
   "source": [
    "Walk over the elements in the input array and iteratively put them into another array in the correct order.\n",
    "\n",
    "#### In-place sorting\n",
    "Keep the left side of the array sorted and move to the right.  This **keeps memory constant** and allows for a **binary search** to locate the insertion index but it will require lots of **'shift right by 1' operations**.\n",
    "#### Insert into a linked list\n",
    "Allocate a new linked list to store the sorted values.  This requires more memory and doesn't allow for binary searches during insertion but it does prevent the need to shift items by 1 during insertion."
   ]
  },
  {
   "cell_type": "code",
   "execution_count": null,
   "metadata": {},
   "outputs": [],
   "source": [
    "import numpy as np\n",
    "_in = np.random.randint(50, size=100)"
   ]
  },
  {
   "cell_type": "code",
   "execution_count": null,
   "metadata": {},
   "outputs": [],
   "source": [
    "def _shift_right(array: list, s: int, e: int):\n",
    "    # going backwards allows us to use the space of the item being inserted as swap\n",
    "    for i in range(e,s,-1):\n",
    "        array[i] = array[i-1]\n",
    "    return array\n",
    "\n",
    "def insert_sort(input: list, in_place:bool=True):\n",
    "    _in = input if in_place else input.copy()\n",
    "    for j in range(1,len(_in)):\n",
    "        # find correct location for _in[j] in the array _in[0:j]\n",
    "        for i in range(0,j):\n",
    "            if _in[j] < _in[i]:\n",
    "                v = _in[j]\n",
    "                _shift_right(_in, i, j)\n",
    "                _in[i] = v\n",
    "                break\n",
    "    return _in\n"
   ]
  },
  {
   "cell_type": "markdown",
   "metadata": {},
   "source": [
    "### Merge Sort"
   ]
  },
  {
   "cell_type": "markdown",
   "metadata": {},
   "source": [
    "Split the input array in half, sort those halves, and then merge the sorted halves together.\n",
    "\n",
    "The tricky part will be the merge logic.  Since we know that the two arrays being merged are already sorted, we can incrementally move across both arrays and only compare a item to a (likely) small subset of the other values in the other array.\n",
    "\n",
    "I have used this merging logic elsewhere to simplify processes (I think when merging potentially overlapping time series data for Prima)."
   ]
  },
  {
   "cell_type": "code",
   "execution_count": null,
   "metadata": {},
   "outputs": [],
   "source": [
    "def merge(a: list, b: list) -> list:\n",
    "    rval = []\n",
    "    a_idx = 0\n",
    "    b_idx = 0\n",
    "\n",
    "    while a_idx < len(a) and b_idx < len(b):\n",
    "        if a[a_idx] < b[b_idx]:\n",
    "            rval.append(a[a_idx])\n",
    "            a_idx += 1\n",
    "        else:\n",
    "            rval.append(b[b_idx])\n",
    "            b_idx += 1\n",
    "\n",
    "    rval += a[a_idx:] if a_idx < len(a) else b[b_idx:]\n",
    "    return rval\n",
    "\n",
    "\n",
    "merge([1,2,4,5], [3,4,7,8])"
   ]
  },
  {
   "cell_type": "code",
   "execution_count": null,
   "metadata": {},
   "outputs": [],
   "source": [
    "def merge_sort(_in):\n",
    "    if len(_in) == 1:\n",
    "        return _in\n",
    "    else:\n",
    "        i = int(len(_in) / 2)\n",
    "        return merge(merge_sort(_in[:i]), merge_sort(_in[i:]))\n",
    "\n",
    "\n",
    "assert sorted(_in) == merge_sort(_in.tolist())"
   ]
  },
  {
   "cell_type": "markdown",
   "metadata": {},
   "source": [
    "# Heaps"
   ]
  },
  {
   "cell_type": "code",
   "execution_count": 56,
   "metadata": {},
   "outputs": [],
   "source": [
    "import math\n",
    "import toolz as tz\n",
    "\n",
    "def _parent_idx(i: int) -> int:\n",
    "    \"Returns the index of the ith elements parent within a binary heap\"\n",
    "    return int(i/2)\n",
    "\n",
    "def _height_at(i: int) -> int:\n",
    "    \"Returns the height of the element at index i, where the root is at level 0\"\n",
    "    return math.floor(math.log2(i+1))\n",
    "\n",
    "\n",
    "def _max_heapify(_heap: list[int], idx: int) -> list[int]:\n",
    "    \"Percolate the element at index idx up the ancestoral branch so that the max heap property is maintained\"\n",
    "    j = idx\n",
    "    pi = _parent_idx(j)\n",
    "    while pi >= 0 and _heap[pi] < _heap[j]:\n",
    "        tmp = _heap[pi]\n",
    "        _heap[pi] = _heap[j]\n",
    "        _heap[j] = tmp\n",
    "        j = pi\n",
    "        pi = _parent_idx(pi)\n",
    "    return _heap\n",
    "\n",
    "\n",
    "def insert_in_heap(_heap: list[int], elem: int) -> list[int]:\n",
    "    return _max_heapify(_heap + [elem], len(_heap))\n",
    "\n",
    "\n",
    "def build_max_heap(int_seq: list[int]) -> list[int]:\n",
    "    _heap = int_seq.copy()\n",
    "    for i in range(len(_heap)):\n",
    "        _heap = _max_heapify(_heap, i)\n",
    "    return _heap\n",
    "\n",
    "def print_binary_tree(tree: list):\n",
    "    pad_iter = tz.iterate(lambda x: x*2 + 2, 1) # assume 1 space between leaves, 2 character elements\n",
    "    _pad = [next(pad_iter) for _ in range(_height_at(len(tree)-1)+2)][-1]  # +1 for 0 indexed height calc, +1 since range() excludes end point \n",
    "    s = \"\"\n",
    "    prev_height = -1\n",
    "    for i in range(len(tree)):\n",
    "        _height = _height_at(i)\n",
    "        if _height > prev_height:\n",
    "            s +=  \"\\n\" if _height else \"\"\n",
    "            prev_height = _height\n",
    "            _pad = int((_pad / 2)) - 1\n",
    "            s += (\" \"*int(_pad/2))\n",
    "        else:\n",
    "            s += (\" \"*_pad)\n",
    "        s += str(tree[i])\n",
    "\n",
    "    print(s)\n"
   ]
  },
  {
   "cell_type": "code",
   "execution_count": 57,
   "metadata": {},
   "outputs": [
    {
     "name": "stdout",
     "output_type": "stream",
     "text": [
      "                       92\n",
      "           87                      84\n",
      "     87          64          72          61\n",
      "  77    44    20    15    58    19    48    47\n",
      "70 16 37\n"
     ]
    }
   ],
   "source": [
    "import numpy as np\n",
    "\n",
    "_list = np.random.randint(10,100,size=18)\n",
    "\n",
    "_heap = build_max_heap(_list)\n",
    "print_binary_tree(_heap)"
   ]
  },
  {
   "cell_type": "markdown",
   "metadata": {},
   "source": [
    "# Factorial"
   ]
  },
  {
   "cell_type": "code",
   "execution_count": null,
   "metadata": {},
   "outputs": [],
   "source": [
    "# Recursive\n",
    "def fac(n):\n",
    "    if n <= 1:\n",
    "        return 1\n",
    "    else:\n",
    "        return n * fac(n-1)\n",
    "\n",
    "# Iterative\n",
    "import toolz as tz\n",
    "\n",
    "def facI(n):\n",
    "    return tz.reduce(lambda x,y: x*y, (range(1,n+1)))\n",
    "\n",
    "def facI2(n):\n",
    "    v = 1\n",
    "    for i in range(2,n+1):\n",
    "        v *= i\n",
    "    return v\n",
    "\n",
    "assert facI(6) == facI2(6) == fac(6) == 720"
   ]
  },
  {
   "cell_type": "markdown",
   "metadata": {},
   "source": [
    "# Fibonacci"
   ]
  },
  {
   "cell_type": "code",
   "execution_count": null,
   "metadata": {},
   "outputs": [],
   "source": [
    "# recursive\n",
    "def fib(n):\n",
    "    if n == 1:\n",
    "        return 1\n",
    "    elif n < 1:\n",
    "        return 0\n",
    "    else:\n",
    "        return fib(n-1) + fib(n-2)\n",
    "\n",
    "# TODO an iterative solution?"
   ]
  },
  {
   "cell_type": "code",
   "execution_count": null,
   "metadata": {},
   "outputs": [],
   "source": [
    "# Largest profit attainable and the buy and sell days\n",
    "prices = [100, 113, 110, 85, 105, 102, 86, 63, 81, 101, 94, 106, 101, 79, 94, 90, 97]\n",
    "\n",
    "\n",
    "# Brute force approach\n",
    "# store highest found\n",
    "# iterate over prices, i = starting date.  Check profit from selling on any remaining date, store max value\n",
    "\n",
    "best = (0,0,0)\n",
    "for i,p in enumerate(prices):\n",
    "    for j in range(i+1, len(prices)):\n",
    "        profit = prices[j] - p\n",
    "        if profit > best[2]:\n",
    "            best = (i,j,profit)\n",
    "\n",
    "best"
   ]
  },
  {
   "cell_type": "code",
   "execution_count": null,
   "metadata": {},
   "outputs": [],
   "source": []
  }
 ],
 "metadata": {
  "interpreter": {
   "hash": "385687ec12c85b807b51303f5ec3a76d5987f13c66b619467696a2e6c8165e4c"
  },
  "kernelspec": {
   "display_name": "Python 3.10.1 ('.venv': venv)",
   "language": "python",
   "name": "python3"
  },
  "language_info": {
   "codemirror_mode": {
    "name": "ipython",
    "version": 3
   },
   "file_extension": ".py",
   "mimetype": "text/x-python",
   "name": "python",
   "nbconvert_exporter": "python",
   "pygments_lexer": "ipython3",
   "version": "3.10.1"
  },
  "orig_nbformat": 4
 },
 "nbformat": 4,
 "nbformat_minor": 2
}
