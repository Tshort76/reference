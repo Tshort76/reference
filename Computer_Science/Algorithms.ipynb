{
 "cells": [
  {
   "cell_type": "markdown",
   "metadata": {},
   "source": [
    "## Notebook Setup"
   ]
  },
  {
   "cell_type": "code",
   "execution_count": 26,
   "metadata": {},
   "outputs": [],
   "source": [
    "import math\n",
    "import toolz as tz\n",
    "import numpy as np\n",
    "\n",
    "def _rand_list(size:int=20, max_val: int = 100) -> list[int]:\n",
    "    return np.random.randint(10, max_val,size=size) #.tolist()\n",
    "\n",
    "def _swap(A: list[int], i:int, j:int) -> None:\n",
    "    _ = A[i]\n",
    "    A[i] = A[j]\n",
    "    A[j] = _"
   ]
  },
  {
   "cell_type": "markdown",
   "metadata": {},
   "source": [
    "## Algorithmic Analysis"
   ]
  },
  {
   "cell_type": "markdown",
   "metadata": {},
   "source": [
    "### Asymptotic bounds"
   ]
  },
  {
   "cell_type": "markdown",
   "metadata": {},
   "source": [
    "**$\\Theta$-notation** gives a bounded fit to a function. $f(n) = \\Theta(g(n))$ if there exist positive constants $n_0$, $c_1$, and $c_2$ such that, for $ n > n_0, c_1g(n) \\leq f(n)  \\leq c_2g(n)$<br>\n",
    "**O-notation** gives an upper bound for a function.\n",
    "$f(n) = O(g(n)) if there are positive constants $n_0$ and $c$ such that, for $n > n_0, f(n) < cg(n)$ <br>\n",
    "**$\\Omega$-notation** gives a lower bound for a function. $f(n) = \\Omega(g(n))$ if there are positive constants $n_0$ and $c$ such that, for $n > n_0, f(n) > cg(n)$\n",
    "\n",
    "#### Growth of Common Functions\n",
    "$log(n) < n < nlog(n) < log^k(n) < n^k < k^n < n! $"
   ]
  },
  {
   "cell_type": "markdown",
   "metadata": {},
   "source": [
    "# Comparison-based Sorting"
   ]
  },
  {
   "cell_type": "markdown",
   "metadata": {},
   "source": [
    "## Insertion Sort"
   ]
  },
  {
   "cell_type": "markdown",
   "metadata": {},
   "source": [
    "Walk over the elements in the input array and iteratively put them into another array in the correct order.\n",
    "\n",
    "#### In-place sorting\n",
    "Keep the left side of the array sorted and move to the right.  This **keeps memory constant** and allows for a **binary search** to locate the insertion index but it will require lots of **'shift right by 1' operations**.\n",
    "#### Insert into a linked list\n",
    "Allocate a new linked list to store the sorted values.  This requires more memory and doesn't allow for binary searches during insertion but it does prevent the need to shift items by 1 during insertion."
   ]
  },
  {
   "cell_type": "code",
   "execution_count": null,
   "metadata": {},
   "outputs": [],
   "source": [
    "def _shift_right(array: list, s: int, e: int):\n",
    "    # going backwards allows us to use the space of the item being inserted as swap\n",
    "    for i in range(e,s,-1):\n",
    "        array[i] = array[i-1]\n",
    "    return array\n",
    "\n",
    "def insertion_sort(input: list, in_place:bool=True):\n",
    "    _in = input if in_place else input.copy()\n",
    "    for j in range(1,len(_in)):\n",
    "        # find correct location for _in[j] in the array _in[0:j]\n",
    "        for i in range(0,j):\n",
    "            if _in[j] < _in[i]:\n",
    "                v = _in[j]\n",
    "                _shift_right(_in, i, j)\n",
    "                _in[i] = v\n",
    "                break\n",
    "    return _in"
   ]
  },
  {
   "cell_type": "code",
   "execution_count": null,
   "metadata": {},
   "outputs": [],
   "source": [
    "A = _rand_list()\n",
    "\n",
    "display(A)\n",
    "insertion_sort(A)"
   ]
  },
  {
   "cell_type": "markdown",
   "metadata": {},
   "source": [
    "## Merge Sort"
   ]
  },
  {
   "cell_type": "markdown",
   "metadata": {},
   "source": [
    "Split the input array in half, sort those halves, and then merge the sorted halves together.\n",
    "\n",
    "The tricky part will be the merge logic.  Since we know that the two arrays being merged are already sorted, we can incrementally move across both arrays and only compare a item to a (likely) small subset of the other values in the other array.\n",
    "\n",
    "I have used this merging logic elsewhere to simplify processes (I think when merging potentially overlapping time series data for Prima)."
   ]
  },
  {
   "cell_type": "code",
   "execution_count": null,
   "metadata": {},
   "outputs": [],
   "source": [
    "def merge(a: list[int], b: list[int]) -> list[int]:\n",
    "    rval, a_idx, b_idx = [],0,0\n",
    "\n",
    "    while a_idx < len(a) and b_idx < len(b):\n",
    "        if a[a_idx] < b[b_idx]:\n",
    "            rval.append(a[a_idx])\n",
    "            a_idx += 1\n",
    "        else:\n",
    "            rval.append(b[b_idx])\n",
    "            b_idx += 1\n",
    "    # extend works with np.array or list[int], whereas += is elementwise for np\n",
    "    rval.extend(a[a_idx:] if a_idx < len(a) else b[b_idx:])\n",
    "    return rval\n",
    "\n",
    "\n",
    "def merge_sort(a: list[int]) -> list[int]:\n",
    "    if len(a) == 1:\n",
    "        return a\n",
    "    else:\n",
    "        i = int(len(a) / 2)\n",
    "        return merge(merge_sort(a[:i]), merge_sort(a[i:]))"
   ]
  },
  {
   "cell_type": "code",
   "execution_count": null,
   "metadata": {},
   "outputs": [],
   "source": [
    "A = _rand_list()\n",
    "\n",
    "display(A)\n",
    "merge_sort(A)"
   ]
  },
  {
   "cell_type": "markdown",
   "metadata": {},
   "source": [
    "## Heapsort"
   ]
  },
  {
   "cell_type": "markdown",
   "metadata": {},
   "source": [
    "Heapsort works by:\n",
    "- Creating a max-heap from an unsorted array\n",
    "- Iteratively pulling off the root, inserting it into our sorted array, and re-establishing the heap property in the array\n",
    "- The can be done in-place by:\n",
    "  - Storing a `heap-size` variable\n",
    "  - Swaping the value at the root (the highest value) with the last element of the heap.\n",
    "  - decrementing `heap-size` (so that the previous root isn't in the heap)\n",
    "  - Moving the new value at the root to the correct location (push it down the tree)"
   ]
  },
  {
   "cell_type": "markdown",
   "metadata": {},
   "source": [
    "### Heap\n",
    "Heaps are nearly complete binary trees that have the property that either a node is always $\\geq$ its parent (min-heap) or $\\leq$ its parent (max-heap)."
   ]
  },
  {
   "cell_type": "code",
   "execution_count": null,
   "metadata": {},
   "outputs": [],
   "source": [
    "def _height_at(i: int) -> int:\n",
    "    \"Returns the height of the element at index i, where the root is at level 0\"\n",
    "    return math.floor(math.log2(i+1))\n",
    "\n",
    "\n",
    "def _left(i):\n",
    "    return (2*i) + 1\n",
    "\n",
    "def _right(i):\n",
    "    return 2*(i+1)\n",
    "\n",
    "def _parent(i):\n",
    "    return int((i-1)/2)\n",
    "\n",
    "\n",
    "def _max_heapify(heap: list[int], i: int, size: int) -> list[int]:\n",
    "    \"Percolate the element at index down the descendants branch so that the max heap property is maintained\"\n",
    "    end = size - 1\n",
    "    l, r, mx = _left(i), _right(i), i\n",
    "    if l <= end and heap[l] > heap[i]:\n",
    "        mx = l\n",
    "    if r <= end and heap[r] > heap[mx]:\n",
    "        mx = r\n",
    "\n",
    "    if mx == i:\n",
    "        return heap\n",
    "    else:\n",
    "        _swap(heap, mx,i)\n",
    "        return _max_heapify(heap, mx, size)\n",
    "\n",
    "\n",
    "# Exercise : Determing indices of all leaf nodes for heap\n",
    "# 0\n",
    "# 1,2\n",
    "# 3,4 5,6\n",
    "# 7,8 9,10 11,12 13,14\n",
    "\n",
    "# heap size  | leaf indices\n",
    "# 1 | 0\n",
    "# 2 | 1\n",
    "# 3 | 1,2\n",
    "# 4 | 2,3\n",
    "# 5 | 2,3,4\n",
    "# 6 | 3,4,5\n",
    "# 7 | 3,4,5,6\n",
    "# 8 | 4,5,6,7\n",
    "# 9 | 4,5,6,7,8\n",
    "\n",
    "# From this pattern, it looks like the all indices >= floor(size/2) are leaf nodes\n",
    "\n",
    "# So to build a max heap, we take a recursive approach by building up heaps from the bottom,\n",
    "# essentially building heaps by composing smaller heaps.  Leaf nodes are already heaps, so \n",
    "# we start from the first non-heap index and build a heap from that, then iterate to the root\n",
    "\n",
    "def build_max_heap(a: list[int]) -> list[int]:\n",
    "    for i in range(int(len(a)/2), -1, -1):\n",
    "        _max_heapify(a, i, len(a))\n",
    "    return a\n",
    "\n",
    "\n",
    "def print_binary_tree(tree: list):\n",
    "    pad_iter = tz.iterate(lambda x: x*2 + 2, 1) # assume 1 space between leaves, 2 character elements\n",
    "    _pad = [next(pad_iter) for _ in range(_height_at(len(tree)-1)+2)][-1]  # +1 for 0 indexed height calc, +1 since range() excludes end point \n",
    "    s, prev_height = \"\", -1\n",
    "    for i in range(len(tree)):\n",
    "        _height = _height_at(i)\n",
    "        if _height > prev_height:\n",
    "            s +=  \"\\n\" if _height else \"\"\n",
    "            prev_height = _height\n",
    "            _pad = int((_pad / 2)) - 1\n",
    "            s += (\" \"*int(_pad/2))\n",
    "        else:\n",
    "            s += (\" \"*_pad)\n",
    "        s += str(tree[i])\n",
    "    print(s)\n"
   ]
  },
  {
   "cell_type": "code",
   "execution_count": null,
   "metadata": {},
   "outputs": [],
   "source": [
    "A = _rand_list()\n",
    "_heap = build_max_heap(A)\n",
    "print_binary_tree(_heap)"
   ]
  },
  {
   "cell_type": "markdown",
   "metadata": {},
   "source": [
    "### In-place sorting with a heap"
   ]
  },
  {
   "cell_type": "code",
   "execution_count": null,
   "metadata": {},
   "outputs": [],
   "source": [
    "def heap_sort(a: list[int]) -> list[int]:\n",
    "    size = len(a)\n",
    "    heap = build_max_heap(a)\n",
    "\n",
    "    while size > 0:\n",
    "        _swap(heap, size-1,0)\n",
    "        size -= 1\n",
    "        _max_heapify(heap, 0, size)\n",
    "\n",
    "    return heap\n"
   ]
  },
  {
   "cell_type": "code",
   "execution_count": null,
   "metadata": {},
   "outputs": [],
   "source": [
    "A = _rand_list()\n",
    "display(A)\n",
    "heap_sort(A)"
   ]
  },
  {
   "cell_type": "markdown",
   "metadata": {},
   "source": [
    "## Quicksort"
   ]
  },
  {
   "cell_type": "markdown",
   "metadata": {},
   "source": [
    "The divide-and-conquer process for sorting a typical subarray A:\n",
    "- **Divide:**\n",
    "  - Partition and rearrange A into two (possibly empty) subarrays $A[0:q]$ and $A[q+1:]$ such that each element of $A[0:q]$ is less than or equal to $A[q]$, which is, in turn, less than or equal to each element of $A[q+1:]$ Compute the index $q$ as part of this partitioning procedure.\n",
    "- **Conquer:**\n",
    "  - Sort the two subarrays $A[0:q]$ and $A[q+1:]$ by recursive calls to quicksort.\n",
    "\n",
    "### Partition\n",
    "- Identifying 3 indices\n",
    "  - $r$, such that $A[r]$ is our reference element\n",
    "  - $i$, the index that separates our $\\leq$ and $\\geq$ partitions.\n",
    "  - $j$, the index that marks the end of our $\\geq$ partition\n",
    "  - (Typically, these are $r=len(A)-1, i=0,j=0$)\n",
    "- Iteratively, increment $j$ and move elements and/or update $i$ to maintain our $\\leq$ and $\\geq$ partitions\n",
    "\n",
    "![QuickSort Partition](resources/images/quicksort_partition.png)\n",
    "\n",
    "### Randomized Quicksort\n",
    "\n",
    "The worst-case behavior for quicksort occurs when the array is already sorted, since the partitioning routine produces one subproblem with $n-1$ elements and one with 0 elements.  This is a common scenario and results in $O(n^2)$ runtime, so ideally we could modify the algorithm to handle this particular scenario more efficiently.\n",
    "\n",
    "We can achieve this by initially permuting the input so that it is randomized, specifically changing a sorted array so that it is no longer sorted.  While we could permute the entire array, a more efficient randomization is to choose a random element at the initial reference point (instead of the last element).  In practice, this is simple as we just swap the value at the randomly selected index with the last element of the array and then call our standard quicksort routine."
   ]
  },
  {
   "cell_type": "code",
   "execution_count": null,
   "metadata": {},
   "outputs": [],
   "source": [
    "# A[i] is first element of gte partition\n",
    "def qs_partition(A: list[int], i: int, ri: int) -> list[int]:\n",
    "    # i=midpoint index, j = partition end index, ri = reference index \n",
    "    j = i\n",
    "    while j < ri:\n",
    "        if A[j] < A[ri]:\n",
    "            _swap(A,i,j)\n",
    "            i += 1\n",
    "        j +=1\n",
    "    _swap(A,i,ri) # move A[ri] to correct position (midpoint)\n",
    "    return i\n",
    "\n",
    "def _quicksort(A: list[int], i: int, j: int) -> list[int]:\n",
    "    if i < j:\n",
    "        q = qs_partition(A, i, j)\n",
    "        _quicksort(A, i, q-1)\n",
    "        _quicksort(A, q+1, j)\n",
    "\n",
    "\n",
    "def quick_sort(A: list[int], randomize:bool=True) -> list[int]:\n",
    "    if randomize:\n",
    "        i = np.random.randint(0,len(A)-1)\n",
    "        _swap(A, i, len(A)-1)\n",
    "        \n",
    "    _quicksort(A, 0, len(A) -1)"
   ]
  },
  {
   "cell_type": "code",
   "execution_count": null,
   "metadata": {},
   "outputs": [],
   "source": [
    "A = _rand_list()\n",
    "display(A)\n",
    "quick_sort(A)  # inplace sort\n",
    "display(A)"
   ]
  },
  {
   "cell_type": "markdown",
   "metadata": {},
   "source": [
    "# Linear Time Sorting"
   ]
  },
  {
   "cell_type": "markdown",
   "metadata": {},
   "source": [
    "In a comparison sorts, we use only comparisons between elements to gain order\n",
    "information about an input sequence.  This ultimately limits the expected run-time of our algorithms to $O(nlogn)$.  However, we can lower this bound by making some additional assumptions and then exploiting that knowledge to avoid making direct comparisons between elements."
   ]
  },
  {
   "cell_type": "markdown",
   "metadata": {},
   "source": [
    "## Counting Sort"
   ]
  },
  {
   "cell_type": "markdown",
   "metadata": {},
   "source": [
    "Assume that the values in our array are all in the range $[0,k]$.  Then we can perform a linear time ($O(n+k)$) sort, assuming $k = O(n)$, by counting the number of elements in the array that are $leq$ each value in $[0,k]$ (create a new array of size $k$ to hold this information).  This information allows for direct placement of elements into their sorted order.\n",
    "\n",
    "For unsorted array $A$ and maximum element value of $k$\n",
    "- Create a new counter array, $C$, of size $k$ and a new output array, $RESULT$, of size $len(A)$\n",
    "- Populate $C$ so that $C[i]$ = number of items with a value of $i$\n",
    "  - For each $a$ in $A$, increment $C[a]$\n",
    "- Update $C$ so that $C[i]$ contains the number of items with a value $\\leq i$\n",
    "  - For i in $[1, k]$, $C[i] = C[i] + C[i-1]$  (updates in place)\n",
    "- Use $C$ to place each element of $A$ into the correct position in a new array (same length as $A$)\n",
    "  - For each $a$ in $A$, place $a$ into $RESULT[C[a]]$ and decrement $C[a]$\n",
    "    - We decrement to handle duplicate elements in our array"
   ]
  },
  {
   "cell_type": "code",
   "execution_count": null,
   "metadata": {},
   "outputs": [],
   "source": [
    "def counting_sort(A: list[int], max_value: int) -> list[int]:\n",
    "    B, C = np.zeros(len(A), dtype=np.int32), np.zeros(max_value, dtype=np.int32)\n",
    "    # Count number of instances of a particular value\n",
    "    for a in A:\n",
    "        C[a] += 1\n",
    "    # Calculate the number of elements with a value <= the index value\n",
    "    for i in range(1, max_value):\n",
    "        C[i] = C[i] + C[i-1]\n",
    "    # Assign the elements to the correct location in the output array\n",
    "    for a in A:\n",
    "        B[C[a]-1] = a  # 0 indexed\n",
    "        C[a] -= 1\n",
    "    return B"
   ]
  },
  {
   "cell_type": "code",
   "execution_count": null,
   "metadata": {},
   "outputs": [],
   "source": [
    "A = _rand_list()\n",
    "display(A)\n",
    "display(counting_sort(A, 100))"
   ]
  },
  {
   "cell_type": "markdown",
   "metadata": {},
   "source": [
    "## BucketSort"
   ]
  },
  {
   "cell_type": "markdown",
   "metadata": {},
   "source": [
    "Bucket sort assumes that the input is drawn from a uniform distribution and has an average-case running time of $O(n)$. Like counting sort, bucket sort is fast because it assumes something about the input. Whereas counting sort assumes that the inputconsists of integers in a small range, bucket sort assumes that the input is generated by a random process that distributes elements uniformly and independently over the interval $[0, 1)$.\n",
    "\n",
    "Bucket sort divides the interval $[0, 1)$ into n equal-sized subintervals, or buckets,and then distributes the n input numbers into the buckets. Since the inputs are uniformly and independently distributed over $[0, 1)$ we do not expect many numbers to fall into each bucket. To produce the output, we simply sort the numbers in each bucket and then go through the buckets in order, listing the elements in each."
   ]
  },
  {
   "cell_type": "code",
   "execution_count": null,
   "metadata": {},
   "outputs": [],
   "source": [
    "def bucket_sort(A: list[float]) -> list[float]:\n",
    "    buckets = [[] for _ in range(10)]\n",
    "    # Partition elements into buckets\n",
    "    for a in A:\n",
    "        # .099999 -> 0, 0.199999 -> 1, ..., 0.999 -> 9\n",
    "        i = int(a*10)\n",
    "        buckets[i].append(a)\n",
    "    # Sort each bucket\n",
    "    for b in buckets:\n",
    "        insertion_sort(b)\n",
    "    # Concat the buckets sequentially\n",
    "    return list(tz.concat([b for b in buckets]))"
   ]
  },
  {
   "cell_type": "code",
   "execution_count": null,
   "metadata": {},
   "outputs": [],
   "source": [
    "A = np.random.rand(20)\n",
    "display(A)\n",
    "display(bucket_sort(A))"
   ]
  },
  {
   "cell_type": "markdown",
   "metadata": {},
   "source": [
    "# Order statistics"
   ]
  },
  {
   "cell_type": "markdown",
   "metadata": {},
   "source": [
    "We can determine the nth smallest number by employing the partitioning strategy from quick sort to iteratively divide the problem."
   ]
  },
  {
   "cell_type": "code",
   "execution_count": null,
   "metadata": {},
   "outputs": [],
   "source": [
    "def nth_smallest(A: list[int], nth: int) -> int:\n",
    "    if len(A) <= 1:\n",
    "        return A[0]\n",
    "    # randomized qs_partition\n",
    "    i = np.random.randint(len(A)-1)\n",
    "    _swap(A, i, len(A)-1)\n",
    "    q = qs_partition(A, 0, len(A)-1)\n",
    "    if nth == q+1:\n",
    "        return A[q]\n",
    "    elif nth > q:\n",
    "        return nth_smallest(A[q+1:], nth-(q+1))\n",
    "    return nth_smallest(A[0:q], nth)\n",
    "\n",
    "\n",
    "for i in range(1,10):\n",
    "    A = _rand_list(20)\n",
    "    a = nth_smallest(A, i)\n",
    "    b = insertion_sort(A, in_place=False)\n",
    "    assert a == b[i-1]"
   ]
  },
  {
   "cell_type": "markdown",
   "metadata": {},
   "source": [
    "# Graphs"
   ]
  },
  {
   "cell_type": "markdown",
   "metadata": {},
   "source": [
    "A graph is a data structure consisting of *vertices* (also known as nodes) and *edges* (links between vertices). Usually this is denoted as G = <V, E>, where V is a set of vertices, and E is a set of edges.\n",
    "\n",
    "#### Edge properties\n",
    "An *Edge* represents a relationship between nodes/vertices and has the following properties:\n",
    "  - A pair of nodes/vertices\n",
    "  - A relation weight term (optional)\n",
    "  - A direction (optional)\n",
    "\n",
    "#### Vertex properties\n",
    "A vertex/node represents entities (e.g. people in a social network) and has the equivalent of a pointer to an entity object.  As a node in the graph, it has the properties:\n",
    "- out-degree - the number of edges leaving the vertex\n",
    "- in-degree - the number of edges entering the vertex\n",
    "- degree - out-degree + in-degree\n",
    "\n",
    "\n",
    "#### Graph descriptors:\n",
    "- **Simple** if there is no more than one edge between any two vertices, **multigraph** otherwise\n",
    "- **Cyclic** if there is a cycle in the graph, **acyclic** otherwise\n",
    "- **Directed** if the edges have directions (e.g. is_parent)\n",
    "- **Weighted** if the edges have weights\n",
    "- **Connected** if there is a path between any two vertices\n",
    "- **Dense** if number of edges is close to $len(V)^2$, sparse otherwise\n",
    "- **Complete** if every vertex is directly connected (an edge exists that contains the vertex pair) to every other vertex.\n",
    "\n",
    "#### Miscellaneous Terms\n",
    "A **path** is a sequence of distinctive vertices connected by edges, and its length is the number of edges within it (weighted sum if edges have weights).  A graph is connected, if there is a path between any two vertices. A tree is a connected graph without cycles\n",
    "\n",
    "A **subgraph** of a graph G is a graph whose vertices and edges are subsets of the vertices and edges of G.\n",
    "\n",
    "A **spanning tree** is a subgraph which is a tree and contains all vertices of the graph.\n"
   ]
  },
  {
   "cell_type": "markdown",
   "metadata": {},
   "source": [
    "# Tree Data Structures"
   ]
  },
  {
   "cell_type": "markdown",
   "metadata": {},
   "source": [
    " A tree is a directed acyclic graph in which one node has no parent (the **root**) and every other node has *exactly one parent*.\n",
    "\n",
    "#### Tree Descriptors\n",
    "- **Binary** if each node has atmost 2 children\n",
    "- **Full binary** if each node has exactly zero or two children\n",
    "- **Complete** binary tree if all internal nodes have 2 children, with the possible exception of the bottom level, which is filled from left to right\n",
    "\n",
    "\n",
    "#### Miscellaneous terms\n",
    "- **leaves** are nodes with no children\n",
    "- **internal nodes** are nodes that are not the root and are not leaves\n",
    "- Nodes with the same parent are called **siblings**\n",
    "- The **depth** of a node is the number of edges from the root to the node.\n",
    "- The **height** of a node is the number of edges from the node to the deepest leaf\n",
    "- **Tree height** is the height of the root.\n"
   ]
  },
  {
   "cell_type": "markdown",
   "metadata": {},
   "source": [
    "## Binary Search Trees"
   ]
  },
  {
   "cell_type": "markdown",
   "metadata": {},
   "source": [
    "A binary search tree is always stored in such a way as to satisfy the\n",
    "binary-search-tree properties:\n",
    "\n",
    "- If Y is a node in the left subtree of X, then $Y_{key} \\leq X_{key}$\n",
    "- If Y is a node in the right subtree of X, then $Y_{key} \\geq X_{key}$\n",
    "\n",
    "\n",
    "### Traversal Types\n",
    "- **inorder tree walk** - processes the values in its left subtree, then the root, then values in its right subtree.\n",
    "- **preorder** - processes the root before the values in either subtree\n",
    "- **postorder** - processes the root after the values in its subtrees."
   ]
  },
  {
   "cell_type": "code",
   "execution_count": 2,
   "metadata": {},
   "outputs": [
    {
     "data": {
      "text/plain": [
       "array([29, 61, 41, 10, 52, 83, 65, 61, 86, 21])"
      ]
     },
     "metadata": {},
     "output_type": "display_data"
    },
    {
     "data": {
      "text/plain": [
       "{'parent': None,\n",
       " 'key': 65,\n",
       " 'left': {'parent': {...},\n",
       "  'key': 10,\n",
       "  'left': None,\n",
       "  'right': {'parent': {...},\n",
       "   'key': 61,\n",
       "   'left': {'parent': {...},\n",
       "    'key': 29,\n",
       "    'left': {'parent': {...}, 'key': 21, 'left': None, 'right': None},\n",
       "    'right': {'parent': {...},\n",
       "     'key': 52,\n",
       "     'left': {'parent': {...}, 'key': 41, 'left': None, 'right': None},\n",
       "     'right': None}},\n",
       "   'right': {'parent': {...}, 'key': 61, 'left': None, 'right': None}}},\n",
       " 'right': {'parent': {...},\n",
       "  'key': 83,\n",
       "  'left': None,\n",
       "  'right': {'parent': {...}, 'key': 86, 'left': None, 'right': None}}}"
      ]
     },
     "execution_count": 2,
     "metadata": {},
     "output_type": "execute_result"
    }
   ],
   "source": [
    "# Build Tree\n",
    "def _node(key: int, parent: dict, left:dict = None, right:dict=None) -> dict:\n",
    "    return {\"parent\": parent, \"key\": key, \"left\": left, \"right\": right}\n",
    "\n",
    "# insert into tree\n",
    "\n",
    "def tree_insert(root: dict, new_key: int) -> None:\n",
    "    if root is None:\n",
    "        return _node(new_key, None)\n",
    "    y, z, dr = root, None, None\n",
    "    # traverse down to the bottom of the tree\n",
    "    while y:\n",
    "        dr = \"right\" if new_key >= y['key'] else \"left\"\n",
    "        z, y = y, y[dr]\n",
    "    new_node = _node(new_key, z)\n",
    "    z[dr] = new_node\n",
    "    return root\n",
    "\n",
    "\n",
    "def build_bsearch_tree(keys: list[int]) -> dict:\n",
    "    root, _ = None, np.random.shuffle(keys)\n",
    "    for k in keys:\n",
    "        root = tree_insert(root, k)\n",
    "    return root\n",
    "\n",
    "A = _rand_list(10)\n",
    "display(A)\n",
    "root = build_bsearch_tree(A)\n",
    "root"
   ]
  },
  {
   "cell_type": "code",
   "execution_count": 3,
   "metadata": {},
   "outputs": [
    {
     "data": {
      "text/plain": [
       "[10, 21, 29, 41, 52, 61, 61, 65, 83, 86]"
      ]
     },
     "execution_count": 3,
     "metadata": {},
     "output_type": "execute_result"
    }
   ],
   "source": [
    "# in order traversal of binary seach tree yields a sorted list\n",
    "def traverse(node: dict, vals=[]):\n",
    "    if l := node['left']:\n",
    "        traverse(l, vals)\n",
    "    # print(node['key'], va)\n",
    "    vals.append(node[\"key\"])\n",
    "    if r:= node['right']:\n",
    "        traverse(r, vals)\n",
    "    return vals\n",
    "\n",
    "traverse(root)"
   ]
  },
  {
   "cell_type": "code",
   "execution_count": 7,
   "metadata": {},
   "outputs": [],
   "source": [
    "def tree_search(node: dict, k: int) -> dict:\n",
    "    if node:\n",
    "        if node['key'] == k:\n",
    "            return node\n",
    "        elif node['key'] > k:\n",
    "            return tree_search(node['left'], k)\n",
    "        return tree_search(node['right'], k)\n",
    "\n",
    "\n",
    "def node_ancestry(node: dict, k: int, path=[]):\n",
    "    if node:\n",
    "        if node['key'] == k:\n",
    "            return path + [k]\n",
    "        elif node['key'] > k:\n",
    "            return node_ancestry(node['left'], k, path + [node['key']])\n",
    "        return node_ancestry(node['right'], k, path + [node['key']])\n",
    "    return None\n",
    "\n",
    "\n",
    "def path_to(node: dict, k: int, path=\"\"):\n",
    "    if node:\n",
    "        if node['key'] == k:\n",
    "            return path\n",
    "        elif node['key'] > k:\n",
    "            return path_to(node['left'], k, path + \"L\")\n",
    "        return path_to(node['right'], k, path + \"R\")\n",
    "    return None\n",
    "\n",
    "\n",
    "# To keep it balanced, probably want to move up the subtree with the most nodes instead of always moving up the one on the right\n",
    "def remove_node(root: dict, k: int):\n",
    "    if to_remove := tree_search(root, k):\n",
    "        side = None if to_remove[\"parent\"] is None else \"left\" if to_remove[\"parent\"][\"key\"] > k else \"right\"\n",
    "        if to_remove['left'] is None:\n",
    "            if to_remove['right'] is None:\n",
    "                if side:\n",
    "                    to_remove[\"parent\"][side] = None\n",
    "            else:\n",
    "                if side:\n",
    "                    to_remove[\"parent\"][side] = to_remove[\"right\"]\n",
    "                to_remove[\"right\"][\"parent\"] = to_remove[\"parent\"]\n",
    "        elif to_remove['right'] is None:\n",
    "            if side:\n",
    "                to_remove[\"parent\"][side] = to_remove[\"left\"]\n",
    "            to_remove[\"left\"][\"parent\"] = to_remove[\"parent\"]\n",
    "        else:  # Has 2 children ... the dynasty is doomed\n",
    "            # move X.right up and place X.left (subtree) at the bottom left of the X.right.left subtree\n",
    "            if side:\n",
    "                to_remove[\"parent\"][side] = to_remove[\"right\"]\n",
    "            to_remove[\"right\"][\"parent\"] = to_remove[\"parent\"]\n",
    "            min_node = to_remove[\"right\"]  # find min node of left of new parent\n",
    "            while min_node[\"left\"]:\n",
    "                min_node = min_node[\"left\"]\n",
    "            min_node[\"left\"] = to_remove[\"left\"]\n",
    "            to_remove[\"left\"][\"parent\"] = min_node[\"left\"]\n",
    "        \n",
    "        if to_remove[\"parent\"] is None:  # removed the root\n",
    "            return to_remove[\"right\"]\n",
    "    return root\n",
    "\n",
    "\n",
    "node_ancestry(root, 60)\n",
    "# path_to(root, 85)\n"
   ]
  },
  {
   "cell_type": "markdown",
   "metadata": {},
   "source": [
    "## Red-Black Trees"
   ]
  },
  {
   "cell_type": "markdown",
   "metadata": {},
   "source": [
    "A red-black tree is a binary search tree with one extra bit of storage per node: its color, which can be either RED or BLACK. By constraining the node colors on any simple path from the root to a leaf, red-black trees ensure that no such path is more than twice as long as any other, so that the tree is approximately balanced.\n",
    "\n",
    "A red-black tree is a binary tree that satisfies the following red-black properties:\n",
    "1. Every node is either red or black.\n",
    "2. The root is black.\n",
    "3. Every leaf (NIL) is black.\n",
    "4. If a node is red, then both its children are black.\n",
    "5. For each node, all simple paths from the node to descendant leaves contain the same number of black nodes.\n"
   ]
  },
  {
   "cell_type": "markdown",
   "metadata": {},
   "source": [
    "## AVL Trees"
   ]
  },
  {
   "cell_type": "markdown",
   "metadata": {},
   "source": [
    "## B Trees"
   ]
  },
  {
   "cell_type": "markdown",
   "metadata": {},
   "source": [
    "B-trees are balanced search trees designed to work well on disks or other direct-access secondary storage devices. B-trees are similar to red-black trees but they are better at minimizing disk I/O operations. Many database systems use B-trees, or variants of B-trees, to store information. B-trees differ from red-black trees in that B-tree nodes may have many children, from a few to thousands. That is, the “branching factor” of a B-tree can be quite large, although it usually depends on characteristics of the disk unit used. B-trees are similar to red-black trees in that every n-node B-tree has height $O(\\log n)$. The exact height of a B-tree can be considerably less than that of a red-black tree,however, because its branching factor, and hence the base of the logarithm that expresses its height, can be much larger. Therefore, we can also use B-trees to implement many dynamic-set operations in time $O(\\log n)$.\n",
    "\n",
    "If an internal B-tree node $x$ contains $x.n$ keys, then $x$ has $x.n + 1$\n",
    "children. The keys in node $x$ serve as dividing points separating the range of keys handled by x into $x.n + 1$ subranges, each handled by one child of $x$. When searching for a key in a B-tree, we make $(x.n + 1) comparisons to determine which subtree to search. The structure of leaf nodes differs from that of internal nodes.\n",
    "\n",
    "![BTree](resources/images/Btree.png)\n",
    "\n",
    "A B-tree has the following properties:\n",
    "1. Every node x has the following attributes\n",
    "   1. $x.n$, the number of keys currently stored in node $x$,\n",
    "   2. the $x.n$ keys themselves, $x.key_1$, $x.key_2$, ... $x.key_n$, are stored in nondecreasing order\n",
    "   3. $x.leaf$ , a boolean value recording if the node is a leaf\n",
    "2. Each internal node x also contains $x.n + 1$ children\n",
    "3. The keys $x.key_i$ separate the ranges of keys stored in each subtree, such that $all(x.c[0].keys) < x.keys[0] < all(x.c[1].keys) < x.keys[1] ...$\n",
    "4. All leaves have the same depth, which is the tree’s height h.\n",
    "5. Nodes have lower and upper bounds on the number of keys they can contain. We express these bounds in terms of a fixed integer $t \\geq 2$ called the minimum degree of the B-tree:\n",
    "   1. Every node other than the root must have at least $t-1$ keys. Every internal node other than the root thus has at least $t$ children. If the tree is nonempty, the root must have at least one key.\n",
    "   2. Every node may contain at most $2t-1$ keys. Therefore, an internal node  may have at most $2t$ children. We say that a node is full if it contains  exactly $2t-1$ keys.\n"
   ]
  },
  {
   "cell_type": "markdown",
   "metadata": {},
   "source": [
    "# Graphs"
   ]
  },
  {
   "cell_type": "markdown",
   "metadata": {},
   "source": [
    "## Representations\n",
    "Graphs are typically represented as adjacency matrices or adjacency lists, depending on the connection density.\n",
    "\n",
    "An adjacency matrix, $X$, is an $nxn$ matrix where the cell $X_{i,j}$ contains the edge weight (0 if no edge exists) between node $i$ and $j$. Matrices allow for $O(n)$ random access to connection information but are very inefficient in memory (or cannot fit at all, if n = billion) if most weights are 0 (i.e. most nodes are not connnected to each other).\n",
    "\n",
    "Alternatively, an adjacenct list contains a list for each node, where the list for node A contains all nodes that are adjacent to A.  Such a structure uses memory more efficiently for sparsely connected graphs, but at the cost of slower lookup."
   ]
  },
  {
   "cell_type": "code",
   "execution_count": 32,
   "metadata": {},
   "outputs": [],
   "source": [
    "def create_adjacencies(elements: np.ndarray, sparsity: float=0.2, as_matrix:bool=False) -> tuple[list[int]]:\n",
    "    n = len(elements)\n",
    "    rand_X = np.random.random((n,n))  # random n x n matrix\n",
    "    X = (rand_X < sparsity)   # apply sparsity constraint\n",
    "    if as_matrix:\n",
    "        return X * 1  # replace True/False with 1 or 0\n",
    "    # build adjacency lists\n",
    "    rows, cols = X.nonzero()\n",
    "    adj_lists = [[] for _ in range(n)]\n",
    "    for i,row in enumerate(rows):\n",
    "        adj_lists[row].append(cols[i])\n",
    "    return adj_lists\n",
    "    "
   ]
  },
  {
   "cell_type": "code",
   "execution_count": 33,
   "metadata": {},
   "outputs": [
    {
     "data": {
      "text/plain": [
       "[[1, 3, 7, 8],\n",
       " [6],\n",
       " [5, 8],\n",
       " [0, 6, 7, 9],\n",
       " [1, 9],\n",
       " [6],\n",
       " [7],\n",
       " [0, 9],\n",
       " [1, 5, 8],\n",
       " [0, 1, 5]]"
      ]
     },
     "execution_count": 33,
     "metadata": {},
     "output_type": "execute_result"
    }
   ],
   "source": [
    "nodes = _rand_list(10)\n",
    "adj_lists = create_adjacencies(nodes, 0.2)\n",
    "# adj_lists references nodes by index"
   ]
  },
  {
   "cell_type": "code",
   "execution_count": null,
   "metadata": {},
   "outputs": [],
   "source": [
    "# def breadth_search(graph: list[list[int]], k: int) -> "
   ]
  }
 ],
 "metadata": {
  "interpreter": {
   "hash": "385687ec12c85b807b51303f5ec3a76d5987f13c66b619467696a2e6c8165e4c"
  },
  "kernelspec": {
   "display_name": "Python 3.10.1 ('.venv': venv)",
   "language": "python",
   "name": "python3"
  },
  "language_info": {
   "codemirror_mode": {
    "name": "ipython",
    "version": 3
   },
   "file_extension": ".py",
   "mimetype": "text/x-python",
   "name": "python",
   "nbconvert_exporter": "python",
   "pygments_lexer": "ipython3",
   "version": "3.10.1"
  },
  "orig_nbformat": 4
 },
 "nbformat": 4,
 "nbformat_minor": 2
}
