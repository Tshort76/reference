{
 "cells": [
  {
   "cell_type": "markdown",
   "metadata": {},
   "source": [
    "## Setup Code"
   ]
  },
  {
   "cell_type": "code",
   "execution_count": 2,
   "metadata": {},
   "outputs": [],
   "source": [
    "import numpy as np\n",
    "import math\n",
    "from time import perf_counter\n",
    "from collections import deque\n",
    "\n",
    "\n",
    "class Node:\n",
    "    def __init__(self, data, left=None, right=None, parent=None, depth:int=None):\n",
    "        self.left = left\n",
    "        self.data = data\n",
    "        self.right = right\n",
    "        self.parent = parent\n",
    "        self.depth = depth\n",
    "\n",
    "class TreeNode:\n",
    "    def __init__(self, val=0, left=None, right=None):\n",
    "        self.val = val\n",
    "        self.left = left\n",
    "        self.right = right\n",
    "\n",
    "    def __repr__(self):\n",
    "        return f\"{self.val},L{self.left.val if self.left else ''},R{self.right.val if self.right else ''}\"\n",
    "\n",
    "\n",
    "def _tree() -> list[TreeNode]:\n",
    "    \"\"\"Returns nodes of an example tree\n",
    "                0\n",
    "            1_______7\n",
    "          2___3______8\n",
    "             4__________9\n",
    "              _5_________10\n",
    "            6_________11_\n",
    "    Returns:\n",
    "        list[TreeNode]: Tree Nodes, where r[0] is root\n",
    "    \"\"\"\n",
    "    nodes = [TreeNode(i) for i in range(12)]\n",
    "    root = nodes[0]\n",
    "    root.right = nodes[7]\n",
    "    root.right.right = nodes[8]\n",
    "    root.right.right.right = nodes[9]\n",
    "    root.right.right.right.right = nodes[10]\n",
    "    root.right.right.right.right.left = nodes[11]\n",
    "    root.left = nodes[1]\n",
    "    root.left.left = nodes[2]\n",
    "    root.left.right = nodes[3]\n",
    "    root.left.right.left = nodes[4]\n",
    "    root.left.right.left.right = nodes[5]\n",
    "    root.left.right.left.right.left = nodes[6]\n",
    "    return nodes\n",
    "\n",
    "\n",
    "def _bsearch_tree() -> list[TreeNode]:\n",
    "    \"\"\"Returns nodes of an example binary search tree\n",
    "                6\n",
    "             3_____7\n",
    "          2___5______8\n",
    "        1___4__________9\n",
    "          _0_____________10\n",
    "    Returns:\n",
    "        list[TreeNode]: Tree Nodes, where r[0] is root\n",
    "    \"\"\"\n",
    "    nodes = [TreeNode(i) for i in range(11)]\n",
    "    root = nodes[6]\n",
    "    root.right = nodes[7]\n",
    "    root.right.right = nodes[8]\n",
    "    root.right.right.right = nodes[9]\n",
    "    root.right.right.right.right = nodes[10]\n",
    "    root.left = nodes[3]\n",
    "    root.left.left = nodes[2]\n",
    "    root.left.left.left = nodes[1]\n",
    "    root.left.right = nodes[5]\n",
    "    root.left.right.left = nodes[4]\n",
    "    root.left.right.left.left = nodes[0]\n",
    "    return nodes\n",
    "\n",
    "\n",
    "def run_tests(fnc, test_cases) -> None:\n",
    "    for i, case in enumerate(test_cases):\n",
    "        ans = fnc(*case[\"in\"])\n",
    "        if ans != case[\"out\"]:\n",
    "            print(f\"Test # {i+1} : Calculated {ans}, expected {case['out']}\")\n",
    "\n",
    "# test_cases = [\n",
    "#     {\"in\": ([[1],[2],[3],[]],), \"out\": True},\n",
    "#     {\"in\": ([[1,3],[3,0,1],[2],[0]],), \"out\": False},\n",
    "# ]\n",
    "\n",
    "# run_tests(my_func, test_cases)"
   ]
  },
  {
   "cell_type": "markdown",
   "metadata": {},
   "source": [
    "## Problem"
   ]
  },
  {
   "cell_type": "markdown",
   "metadata": {},
   "source": [
    "### Problem Statement"
   ]
  },
  {
   "cell_type": "code",
   "execution_count": 3,
   "metadata": {},
   "outputs": [],
   "source": [
    "\n",
    "\n",
    "\n",
    "test_cases = [\n",
    "    {\"in\": ([[1,1,0],[1,1,0],[0,0,1]],), \"out\": 2},\n",
    "    {\"in\": ([[1,0,0],[0,1,0],[0,0,1]],), \"out\": 3},\n",
    "]\n",
    "\n",
    "run_tests(find_num_subgraphs, test_cases)\n"
   ]
  },
  {
   "cell_type": "markdown",
   "metadata": {},
   "source": [
    "# Unoptimized"
   ]
  },
  {
   "cell_type": "markdown",
   "metadata": {},
   "source": [
    "## Container With Most Water"
   ]
  },
  {
   "cell_type": "markdown",
   "metadata": {},
   "source": [
    "You are given an integer array height of length n. There are n vertical lines drawn such that the two endpoints of the ith line are (i, 0) and (i, height[i]).\n",
    "\n",
    "Find two lines that together with the x-axis form a container, such that the container contains the most water.\n",
    "\n",
    "Return the maximum amount of water a container can store.\n",
    "\n",
    "Notice that you may not slant the container.\n",
    "\n",
    "- Input: height = [1,8,6,2,5,4,8,3,7]\n",
    "- Output: 49\n",
    "Explanation: The above vertical lines are represented by array [1,8,6,2,5,4,8,3,7]. In this case, the max area of water (blue section) the container can contain is 49.\n",
    "Example 2:\n",
    "\n",
    "Input: height = [1,1]\n",
    "Output: 1"
   ]
  },
  {
   "cell_type": "markdown",
   "metadata": {},
   "source": [
    "### Survey\n",
    "- looking at all possible pairs is niave approach\n",
    "- Which pairs can I ignore?\n",
    "  - Step through from 0 to N\n",
    "    - Can ignore anything to right that is smaller than something seen on left\n",
    "      - When we see a larger value on right ... can we drop old values?\n",
    "\n",
    "So storing all previous highs that have been seen ... when can I stop considering the old ones ?\n",
    "\n",
    "\n",
    "stack state -> (x, y)"
   ]
  },
  {
   "cell_type": "code",
   "execution_count": null,
   "metadata": {},
   "outputs": [],
   "source": [
    "def _area(s: tuple[int,int,int]) -> int:\n",
    "    return (s[1]-s[0])*s[2]\n",
    "\n",
    "# reverse order if we see something stupid\n",
    "\n",
    "def max_size(heights: list[int]) -> int:\n",
    "    # It helps to draw out scenarios and walk through the stack state\n",
    "    stack, i, max_ = [(0,0,heights[0])], 0, 0\n",
    "    for h in heights[1:]:\n",
    "        i += 1\n",
    "        for j,s in enumerate(stack):\n",
    "            # Forms a box with lower height than our candidate and a later start index, so the max potential area with \n",
    "            # any later candidate would always be less.\n",
    "            # Check to see if this box is a max, but do not consider it as a candidate start\n",
    "            if s[2] > h:\n",
    "                max_ = max(_area((s[0],i,h)), max_)\n",
    "            # else - update end index for any candidates that had lower heights, since they are still intact\n",
    "            else:\n",
    "                stack[j] = (s[0], i, s[2])\n",
    "\n",
    "        # hit a new start candidate (higher potential), track it\n",
    "        if h > stack[-1][2]:\n",
    "            stack.append((i,i, h))\n",
    "\n",
    "    # compare areas of all tracked candidates as well as our intermediate calculations\n",
    "    return max(max_, max([_area(s) for s in stack]))\n",
    "\n",
    "\n",
    "test_cases = [\n",
    "    {\"in\": ([1,2,3,3,1,1,1,1,1], ), \"out\": 8},\n",
    "    {\"in\": ([1,8,6,2,5,4,8,3,7], ), \"out\": 49},\n",
    "    {\"in\": ([1,1],), \"out\": 1},\n",
    "]\n",
    "\n",
    "run_tests(max_size, test_cases)\n"
   ]
  },
  {
   "cell_type": "code",
   "execution_count": null,
   "metadata": {},
   "outputs": [],
   "source": [
    "# Performance Tests\n",
    "\n",
    "# TODO this needs to run in under 10 seconds ... yikes\n",
    "# pyramid ... currently takes 44 seconds\n",
    "max_size(list(range(1,10000)) + list(range(10000,1,-1)))\n",
    "\n",
    "\n",
    "# monotonically increasing\n",
    "# 8.2 seconds\n",
    "# max_size(list(range(1,10000)))\n",
    "# 41 seconds\n",
    "# max_size(list(range(1,20000)))\n",
    "\n",
    "# .1 second\n",
    "# max_size(np.random.randint(1,10000,10000))"
   ]
  },
  {
   "cell_type": "markdown",
   "metadata": {},
   "source": [
    "## Game of Two Stacks"
   ]
  },
  {
   "cell_type": "markdown",
   "metadata": {},
   "source": [
    "### Problem Statement\n",
    "Alexa has two stacks of non-negative integers, A and B. Alexa challenges Nick to play the following game:\n",
    "\n",
    "- In each move, Nick can remove one integer from the top of either A or B.\n",
    "- Nick keeps a running sum of the integers he removes from the two stacks.\n",
    "- Nick is disqualified from the game if, at any point, his running sum becomes greater than some integer *max_sum* given at the beginning of the game.\n",
    "- Nick's final score is the total number of integers he has removed from the two stacks.\n",
    "\n",
    "Given A, B, and *max_sum* for N games, find the maximum possible score Nick can achieve."
   ]
  },
  {
   "cell_type": "code",
   "execution_count": null,
   "metadata": {},
   "outputs": [],
   "source": [
    "def is_new(a, b, visited: set) -> bool:\n",
    "    \"check if visited, mark as visited if not\"\n",
    "    if (a,b) in visited:\n",
    "        return False\n",
    "    visited.add((a,b))\n",
    "    return True\n",
    "\n",
    "# can probably quit after hitting 20 branches with same result?\n",
    "def two_stacks_dfs(max_sum, stack_a, stack_b):\n",
    "    max_ = 0\n",
    "    Q, visited = deque(), set()\n",
    "    if stack_a:\n",
    "        Q.append((stack_a[0], 1, 0))\n",
    "    if stack_b:\n",
    "        Q.append((stack_b[0], 0, 1))\n",
    "    while Q:\n",
    "        rsum, a_idx, b_idx = Q.pop()\n",
    "        if rsum > max_sum:\n",
    "            max_ = max(a_idx+b_idx-1, max_)\n",
    "        elif a_idx == len(stack_a) and b_idx == len(stack_b):\n",
    "            return a_idx+b_idx\n",
    "        else:\n",
    "            if a_idx < len(stack_a) and is_new(a_idx+1, b_idx, visited):\n",
    "                Q.append((rsum + stack_a[a_idx], a_idx+1, b_idx))\n",
    "            if b_idx < len(stack_b) and is_new(a_idx, b_idx+1, visited):\n",
    "                Q.append((rsum + stack_b[b_idx], a_idx, b_idx+1))\n",
    "    return max_\n",
    "\n",
    "def two_stacks_bfs(max_sum, stack_a, stack_b):\n",
    "    max_ = 0\n",
    "    Q, visited = deque(), set()\n",
    "    if stack_a:\n",
    "        Q.append((stack_a[0], 1, 0))\n",
    "    if stack_b:\n",
    "        Q.append((stack_b[0], 0, 1))\n",
    "    while Q:\n",
    "        rsum, a_idx, b_idx = Q.popleft()\n",
    "        if rsum > max_sum:\n",
    "            max_ = max(a_idx+b_idx-1, max_)\n",
    "        elif a_idx == len(stack_a) and b_idx == len(stack_b):\n",
    "            return a_idx+b_idx\n",
    "        else:\n",
    "            if a_idx < len(stack_a) and is_new(a_idx+1, b_idx, visited):\n",
    "                Q.append((rsum + stack_a[a_idx], a_idx+1, b_idx))\n",
    "            if b_idx < len(stack_b) and is_new(a_idx, b_idx+1, visited):\n",
    "                Q.append((rsum + stack_b[b_idx], a_idx, b_idx+1))\n",
    "    return max_\n",
    "\n",
    "\n",
    "inputs =[\n",
    "    ((10, [4,2,4,6,1], [2,1,8,5]), 4),  # 4\n",
    "    ((15, [10,1,1,1,1,1], [5,5,5]), 6),  # 6\n",
    "    ((15, [1,1,1,8,1,1,1], [2,2,2,2,2,2]), 9),  # 9\n",
    "    ((20, [1,1], [1,1]), 4),  # 4\n",
    "    ((0, [1], [1]), 0) # 0\n",
    "]\n",
    "\n",
    "for i, o in inputs:\n",
    "    r = two_stacks_dfs(*i)\n",
    "    if o != r:\n",
    "        print(i, f\"Expected: Found: {o} : {r}\")"
   ]
  },
  {
   "cell_type": "code",
   "execution_count": null,
   "metadata": {},
   "outputs": [],
   "source": [
    "# Another test case\n",
    "games, game = [], None\n",
    "with open(\"C:/Users/tom/Downloads/twostacks_input03.txt\", \"r\") as fp:\n",
    "    for i, line in enumerate(fp.readlines()):\n",
    "        if i == 0:\n",
    "            continue\n",
    "        line_items = [int(k) for k in line.strip().split()]\n",
    "        if (i-1)%3==0:\n",
    "            if game:\n",
    "                games.append(tuple(game))\n",
    "            game = [line_items[-1]]\n",
    "        else:\n",
    "            game.append(line_items)\n",
    "if game:\n",
    "    games.append(game)\n",
    "\n",
    "with open(\"C:/Users/tom/Downloads/twostacks_output03.txt\", \"r\") as fp:\n",
    "    answers = [int(s.strip()) for s in fp.readlines()]\n",
    "\n",
    "for ins, out in zip(games, answers):\n",
    "    calc = two_stacks_bfs(*ins)\n",
    "    if calc != out:\n",
    "        print(i, f\"Expected: Found: {out} : {calc}\")"
   ]
  },
  {
   "cell_type": "code",
   "execution_count": null,
   "metadata": {},
   "outputs": [],
   "source": [
    "games = []\n",
    "for i in range(10):\n",
    "    n,m = np.random.randint(1,int(10e5),2)\n",
    "    A = np.random.randint(1, int(10e6), n).tolist()\n",
    "    B = np.random.randint(1, int(10e6), m).tolist()\n",
    "    max_ = np.random.randint(1,int(10e8),1)[0]\n",
    "    games.append([max_, A, B])"
   ]
  },
  {
   "cell_type": "code",
   "execution_count": null,
   "metadata": {},
   "outputs": [],
   "source": [
    "for g in games:\n",
    "    two_stacks_bfs(*g)"
   ]
  },
  {
   "cell_type": "markdown",
   "metadata": {},
   "source": [
    "## Merging Communities"
   ]
  },
  {
   "cell_type": "markdown",
   "metadata": {},
   "source": [
    "### Problem Statement\n",
    "People connect with each other in a social network. A connection between Person i and Person j is represented as M(i,j). When two persons belonging to different communities connect, the net effect is to merge the communities to which i and j belong.\n",
    "\n",
    "At the beginning, there are N people representing N communities (themselves). Suppose person i and j connected and later j and k connected, then i,j, and k will belong to the same community.\n",
    "\n",
    "There are two types of queries:\n",
    "\n",
    "Communities containing persons i and j are merged if they belong to different communities.\n",
    "Print the size of the community to which person  belongs.\n",
    "\n",
    "Input Format\n",
    "\n",
    "The first line of input contains 2 space-separated integers  and , the number of people and the number of queries.\n",
    "The next  lines will contain the queries.\n",
    "\n",
    "$n < 10^5$<br>\n",
    "$q < 2*10^5$"
   ]
  },
  {
   "cell_type": "code",
   "execution_count": null,
   "metadata": {},
   "outputs": [],
   "source": [
    "lines = [\"3 6\", \"Q 1\", \"M 1 2\", \"Q 2\", \"M 2 3\", \"Q 3\", \"Q 2\"]\n",
    "output = [1,2,3,3]"
   ]
  },
  {
   "cell_type": "markdown",
   "metadata": {},
   "source": [
    "## Cricket Team Strength (unoptimized)"
   ]
  },
  {
   "cell_type": "markdown",
   "metadata": {},
   "source": [
    "### Problem Statement\n",
    "A cricket match is going to be held. The field is represented by a 1D plane. A cricketer, Mr. X has N favorite shots. Each shot has a particular range, $(x_0,x_1)$. Each player on the opposite team can field only in a particular range, $(y_0,y_1)$. For a set of N shots and M players, determine the total strength of the players relative to Mr X.  The strength of a player is the number of shots covered (range of player overlaps range of shot) by that player, and the strength of a team is the sum of all player strengths\n",
    "\n",
    "$1 \\leq N, M \\leq 10^5 $ <br>\n",
    "$1 \\leq x,y \\leq 10^8 $"
   ]
  },
  {
   "cell_type": "code",
   "execution_count": null,
   "metadata": {},
   "outputs": [],
   "source": [
    "# region  Brute Force\n",
    "\n",
    "def can_cover(s0, s1, p0, p1) -> bool:\n",
    "    if s0 <= p1 and s1 >= p0:\n",
    "        return True\n",
    "\n",
    "\n",
    "def team_strength_v0(shots, players) -> int:\n",
    "    strength = 0\n",
    "    for shot in shots:\n",
    "        for player in players:\n",
    "            strength += 1 if can_cover(*shot, *player) else 0\n",
    "    return strength\n",
    "\n",
    "#endregion Brute\n",
    "\n",
    "# region 2\n",
    "from operator import itemgetter\n",
    "\n",
    "def team_strength_v1(shots, players) -> int:\n",
    "    sshots = list(sorted(shots, key=itemgetter(0)))\n",
    "    pQ = list(sorted(players, key=itemgetter(0)))\n",
    "\n",
    "    strength = 0\n",
    "    p0, p1 = pQ[0]\n",
    "    for s0, s1 in sshots:\n",
    "        # print(f\"Shot {s0,s1}\")\n",
    "        i = 0\n",
    "        while p0 <= s1:\n",
    "            if p1 >= s0:\n",
    "                # print(f\"Adding {p0, p1}\")\n",
    "                strength += 1\n",
    "                i += 1\n",
    "            else:\n",
    "                pQ.pop(i)  # Do not consider this one anymore going forward\n",
    "            if not pQ or i == len(pQ):\n",
    "                break\n",
    "            p0, p1 = pQ[i]\n",
    "        p0, p1 = pQ[0]\n",
    "\n",
    "    return strength\n",
    "\n",
    "# endregion"
   ]
  },
  {
   "cell_type": "code",
   "execution_count": null,
   "metadata": {},
   "outputs": [],
   "source": [
    "def gen_inputs(max__num: int, max__rng: int) -> tuple:\n",
    "    num_shots = np.random.randint(1, max__num, 1)[0]\n",
    "    num_players = np.random.randint(1, max__num, 1)[0]\n",
    "\n",
    "    shots = [(a,b) for a,b in zip(np.random.randint(1, max__rng/2, num_shots), np.random.randint(max__rng/2, max__rng, num_shots))]\n",
    "    players = [(a,b) for a,b in zip(np.random.randint(1, max__rng/2, num_players), np.random.randint(max__rng/2, max__rng, num_players))]\n",
    "    return (shots, players)\n",
    "\n",
    "\n",
    "test_cases = [\n",
    "    {\"in\": ([(1, 2), (2, 3), (4, 5), (6, 7)], [(1, 5), (2, 3), (4, 7), (5, 7)]), \"out\": 9},\n",
    "    {\"in\": gen_inputs(int(10e2), int(10e4)), \"out\": None},\n",
    "    {\"in\": gen_inputs(int(10e3), int(10e5)), \"out\": None},\n",
    "    # {\"in\": gen_inputs(int(10e4), int(10e6)), \"out\": None},\n",
    "]"
   ]
  },
  {
   "cell_type": "code",
   "execution_count": null,
   "metadata": {},
   "outputs": [],
   "source": [
    "t0 = perf_counter()\n",
    "team_strength_v0(*test_cases[1][\"in\"])\n",
    "t1 = perf_counter()\n",
    "print(t1-t0)"
   ]
  },
  {
   "cell_type": "code",
   "execution_count": null,
   "metadata": {},
   "outputs": [],
   "source": [
    "t0 = perf_counter()\n",
    "team_strength_v0(*test_cases[1][\"in\"])\n",
    "t1 = perf_counter()\n",
    "print(t1-t0)"
   ]
  },
  {
   "cell_type": "code",
   "execution_count": null,
   "metadata": {},
   "outputs": [],
   "source": [
    "# This approach is so bad that it makes me question Prima code ... nearly 29 seconds just to build this thing, while brute force completes the entire problem in 7 seconds\n",
    "def coverage_of(scores: np.array, max__rng: int) -> np.array:\n",
    "    coverage = np.zeros(max__rng+1, dtype=int)\n",
    "\n",
    "    for x0,x1 in scores:\n",
    "        coverage[x0] += 1\n",
    "        coverage[x1+1] -= 1\n",
    "        # np.add.at(coverage, [p0], 1)\n",
    "\n",
    "    for i in range(1,len(coverage)):\n",
    "        coverage[i] = coverage[i] + coverage[i-1]\n",
    "    return coverage"
   ]
  },
  {
   "cell_type": "code",
   "execution_count": null,
   "metadata": {},
   "outputs": [],
   "source": [
    "shots, players = test_cases[0][\"in\"]\n",
    "max__rng = int(10)\n",
    "scoverage = coverage_of(shots, max__rng)\n",
    "pcoverage = coverage_of(players, max__rng)"
   ]
  },
  {
   "cell_type": "code",
   "execution_count": null,
   "metadata": {},
   "outputs": [],
   "source": [
    "pcoverage - scoverage"
   ]
  },
  {
   "cell_type": "code",
   "execution_count": null,
   "metadata": {},
   "outputs": [],
   "source": [
    "# approach 1 ... max is slow\n",
    "strength = 0\n",
    "for s0,s1 in shots:\n",
    "    strength += max(pcoverage[s0:s1+1])\n",
    "\n",
    "strength"
   ]
  }
 ],
 "metadata": {
  "interpreter": {
   "hash": "385687ec12c85b807b51303f5ec3a76d5987f13c66b619467696a2e6c8165e4c"
  },
  "kernelspec": {
   "display_name": "Python 3.10.1 ('.venv': venv)",
   "language": "python",
   "name": "python3"
  },
  "language_info": {
   "codemirror_mode": {
    "name": "ipython",
    "version": 3
   },
   "file_extension": ".py",
   "mimetype": "text/x-python",
   "name": "python",
   "nbconvert_exporter": "python",
   "pygments_lexer": "ipython3",
   "version": "3.10.1"
  },
  "orig_nbformat": 4
 },
 "nbformat": 4,
 "nbformat_minor": 2
}
