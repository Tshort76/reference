{
 "cells": [
  {
   "cell_type": "code",
   "execution_count": null,
   "metadata": {},
   "outputs": [],
   "source": [
    "import sqlite3 as sql\n",
    "import sql_utils as u\n",
    "from pathlib import Path\n",
    "import pandas as pd\n",
    "\n",
    "%load_ext autoreload\n",
    "%autoreload 2"
   ]
  },
  {
   "cell_type": "markdown",
   "metadata": {},
   "source": [
    "# Pokemon DB"
   ]
  },
  {
   "cell_type": "markdown",
   "metadata": {},
   "source": [
    "## Initialize from SQL files"
   ]
  },
  {
   "cell_type": "code",
   "execution_count": null,
   "metadata": {},
   "outputs": [],
   "source": [
    "POKEMON_DB = Path(r\"resources\\pokemon.db\")\n",
    "\n",
    "def query(q: str, connection: sql.Connection=None) -> pd.DataFrame:\n",
    "    q = q.strip()\n",
    "    if connection is None:\n",
    "        connection = sql.connect(POKEMON_DB)\n",
    "    results = pd.read_sql_query(q, connection)\n",
    "    connection.close()\n",
    "    return results\n",
    "\n",
    "# write tables\n",
    "u.initialize_database(POKEMON_DB, [Path(\"resources/sql_scripts/pokemon_db/create_tables.sql\")])\n",
    "\n",
    "# insertion sql statements\n",
    "sql_paths = list(Path(\"resources/sql_scripts/pokemon_db\").glob(\"insert_*.sql\"))\n",
    "\n",
    "u.initialize_database(POKEMON_DB, sql_paths)"
   ]
  },
  {
   "cell_type": "code",
   "execution_count": null,
   "metadata": {},
   "outputs": [],
   "source": [
    "# Some cleanup to align names between sources\n",
    "with sql.connect(POKEMON_DB) as conn:\n",
    "    cur = conn.cursor()\n",
    "    cur.execute(f\"UPDATE trainers SET pokemon = LOWER(pokemon);\")\n",
    "    cur.execute(f\"UPDATE pokemon SET pok_name = 'basculin' WHERE pok_name = 'basculin-red-striped';\")\n",
    "    cur.execute(f\"UPDATE trainers SET pokemon = 'nidoran-m' WHERE pokemon = 'nidoran♂';\")\n",
    "    conn.commit()"
   ]
  },
  {
   "cell_type": "code",
   "execution_count": null,
   "metadata": {},
   "outputs": [],
   "source": [
    "u.list_table_schemas(POKEMON_DB)"
   ]
  },
  {
   "cell_type": "markdown",
   "metadata": {},
   "source": [
    "## Queries"
   ]
  },
  {
   "cell_type": "code",
   "execution_count": null,
   "metadata": {},
   "outputs": [],
   "source": [
    "# Confirm that the trainers_pokemon are all in the pokedex\n",
    "# note that this wasn't the case before and I fixed that in the sql files\n",
    "\n",
    "q = \"\"\"\n",
    "SELECT t.*\n",
    "FROM trainers as t\n",
    "where t.pokemon NOT IN (\n",
    "    SELECT pok_name from pokemon\n",
    ")\n",
    "\"\"\"\n",
    "\n",
    "query(q)"
   ]
  },
  {
   "cell_type": "code",
   "execution_count": null,
   "metadata": {},
   "outputs": [],
   "source": [
    "# pokemon ids for trainers pokemon\n",
    "\n",
    "query(\"\"\"\n",
    "SELECT t.*, pk.pok_id\n",
    "FROM trainers as t\n",
    "JOIN pokemon as pk on pk.pok_name = t.pokemon\n",
    "LIMIT 10\n",
    "\"\"\")"
   ]
  },
  {
   "cell_type": "code",
   "execution_count": null,
   "metadata": {},
   "outputs": [],
   "source": [
    "# try to figure out how the pokedex stats relate to trainers pokemon stats\n",
    "\n",
    "query(\"\"\"\n",
    "SELECT t.*, b.*\n",
    "FROM trainers as t\n",
    "JOIN pokemon as pk on pk.pok_name = t.pokemon\n",
    "JOIN base_stats as b on b.pok_id = pk.pok_id\n",
    "ORDER BY b.b_atk + b.b_def DESC\n",
    "LIMIT 20\n",
    "\"\"\")\n",
    "\n",
    "# Natures and IVs and EVs make this hard to figure out"
   ]
  },
  {
   "cell_type": "code",
   "execution_count": null,
   "metadata": {},
   "outputs": [],
   "source": []
  }
 ],
 "metadata": {
  "kernelspec": {
   "display_name": ".venv",
   "language": "python",
   "name": "python3"
  },
  "language_info": {
   "codemirror_mode": {
    "name": "ipython",
    "version": 3
   },
   "file_extension": ".py",
   "mimetype": "text/x-python",
   "name": "python",
   "nbconvert_exporter": "python",
   "pygments_lexer": "ipython3",
   "version": "3.10.1"
  }
 },
 "nbformat": 4,
 "nbformat_minor": 2
}
