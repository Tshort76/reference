{
 "cells": [
  {
   "attachments": {},
   "cell_type": "markdown",
   "metadata": {
    "heading_collapsed": true
   },
   "source": [
    "# Data Structures"
   ]
  },
  {
   "attachments": {},
   "cell_type": "markdown",
   "metadata": {},
   "source": [
    "## Tuples"
   ]
  },
  {
   "cell_type": "code",
   "execution_count": null,
   "metadata": {},
   "outputs": [],
   "source": [
    "# Tuples are heterogeneous, immutable lists.\n",
    "(1, 2, 3)\n",
    "\n",
    "#  Immutable -> hashable -> valid dict keys\n",
    "{('john', 'doe'): 32, (\"jane\", \"smith\"): 24}"
   ]
  },
  {
   "attachments": {},
   "cell_type": "markdown",
   "metadata": {},
   "source": [
    "### Named Tuples"
   ]
  },
  {
   "attachments": {},
   "cell_type": "markdown",
   "metadata": {},
   "source": [
    "...<br>\n",
    "Named Tuples are a great way to implement generic records, where a datum's position in the record carries semantic meaning (e.g. a table of data, each column is an attribute)\n",
    "\n",
    "The `collections.namedtuple` function is a factory that produces subclasses of tuple\n",
    "enhanced with field names and a class name (helpful with debugging)\n",
    "\n",
    "Instances of a class that you build with namedtuple take exactly the\n",
    "same amount of memory as tuples because the field names are\n",
    "stored in the class."
   ]
  },
  {
   "cell_type": "code",
   "execution_count": null,
   "metadata": {},
   "outputs": [],
   "source": [
    "from collections import namedtuple\n",
    "\n",
    "# Name, fields (as an iterable of strings or as a single space-delimited string)\n",
    "City = namedtuple('City', 'name country population coordinates')\n",
    "# City = namedtuple('City', ('name', 'country', 'population', 'coordinates'))\n",
    "\n",
    "# constructor takes position arguments\n",
    "boise = City('Boise', 'USA', '1.21', (35.689722, 139.691667))\n",
    "\n",
    "# multiple ways to access fields.  Note that boise[\"population\"] is not allowed\n",
    "boise.population == boise[2]\n",
    "\n",
    "# see the fields associated with the City Class\n",
    "City._fields\n",
    "\n",
    "# create a dict from the named tuple instance\n",
    "boise._asdict()"
   ]
  },
  {
   "attachments": {},
   "cell_type": "markdown",
   "metadata": {},
   "source": [
    "## Strings"
   ]
  },
  {
   "cell_type": "code",
   "execution_count": null,
   "metadata": {
    "ExecuteTime": {
     "end_time": "2019-02-21T20:32:01.437998Z",
     "start_time": "2019-02-21T20:32:01.434611Z"
    }
   },
   "outputs": [],
   "source": [
    "# Split at space\n",
    "\"Hello John\".split()\n",
    "\"Hello John, my name is joe\".split(\", \")\n",
    "\n",
    "#concatenate with a separator\n",
    "\",\".join([\"Today\", \" unlike most days\", \" is a great day!\"])\n"
   ]
  },
  {
   "attachments": {},
   "cell_type": "markdown",
   "metadata": {},
   "source": [
    "### String object methods"
   ]
  },
  {
   "attachments": {},
   "cell_type": "markdown",
   "metadata": {},
   "source": [
    "...<br>\n",
    "|Method|Description|\n",
    "|-|-|\n",
    "|count|Return the number of non-overlapping occurrences of substring in the string.|\n",
    "|endswith|Returns True if string ends with suffix.|\n",
    "|startswith|Returns True if string starts with prefix.|\n",
    "|join|Use string as delimiter for concatenating a sequence of other strings.|\n",
    "|index|Return position of first character in substring if found in the string; raises ValueError|\n",
    "|find|Return position of first character of first occurrence of substring in the string; like index not found.|\n",
    "|rfind|Return position of first character of last occurrence of substring in the string; returns –1 if not found.|\n",
    "|replace|Replace occurrences of string with another string.|\n",
    "|strip, rstrip, lstrip|Trim whitespace, including newlines; equivalent to x.strip() (and rstrip, lstrip , respectively) for each element.|\n",
    "|split|Break string into list of substrings using passed delimiter.|\n",
    "|lower|Convert alphabet characters to lowercase.|\n",
    "|upper|Convert alphabet characters to uppercase.|\n",
    "|casefold|Convert characters to lowercase, and convert any region-specific variable character combinations to a common comparable form.|"
   ]
  },
  {
   "attachments": {},
   "cell_type": "markdown",
   "metadata": {},
   "source": [
    "### Regex"
   ]
  },
  {
   "cell_type": "code",
   "execution_count": null,
   "metadata": {
    "ExecuteTime": {
     "end_time": "2019-02-21T21:00:37.632372Z",
     "start_time": "2019-02-21T21:00:37.627698Z"
    }
   },
   "outputs": [],
   "source": [
    "import re\n",
    "\n",
    "txt = 'bob    is not\\t that weird'\n",
    "\n",
    "#compile and use a regex\n",
    "re.split('\\s+',txt)\n",
    "\n",
    "#compile a reusable regex\n",
    "white_space = re.compile('\\s+')\n",
    "re.split(white_space,txt)\n",
    "\n",
    "\n",
    "text = \"\"\"Dave dave@google.com\n",
    "Steve steve@gmail.com\n",
    "Rob rob@gmail.com\n",
    "Ryan ryan@yahoo.com \"\"\"\n",
    "\n",
    "\n",
    "email_rgxs = r'[A-Z0-9._%+-]+@[A-Z0-9.-]+\\.[A-Z]{2,4}' \n",
    "\n",
    "# re.IGNORECASE makes the regex case-insensitive\n",
    "email_rgx = re.compile(email_rgxs, flags=re.IGNORECASE)\n",
    "\n",
    "#get a list of all patterns matching the regex\n",
    "email_rgx.findall(text)\n",
    "\n",
    "#use search to get the position range of the first occurrence\n",
    "email_rgx.search(text)\n",
    "\n",
    "#does the entire string match the pattern\n",
    "email_rgx.match(text)\n",
    "\n",
    "#replace occurences of the regex with a string\n",
    "email_rgx.sub('NA', text)"
   ]
  },
  {
   "attachments": {},
   "cell_type": "markdown",
   "metadata": {},
   "source": [
    "### Formatting"
   ]
  },
  {
   "attachments": {},
   "cell_type": "markdown",
   "metadata": {},
   "source": [
    "#### f-Strings\n",
    "An f-String is special syntax, f\"\", for formatting strings that reference variables."
   ]
  },
  {
   "cell_type": "code",
   "execution_count": null,
   "metadata": {
    "ExecuteTime": {
     "end_time": "2020-10-14T13:19:12.108086Z",
     "start_time": "2020-10-14T13:19:12.103482Z"
    }
   },
   "outputs": [],
   "source": [
    "cap_first = lambda x: x[0].upper() + x[1:]\n",
    "name = \"eric\"\n",
    "age = 74\n",
    "net_worth = 125.2132314223\n",
    "s = f\"Hello, {cap_first(name)}. You are {age} years old, well {(age*365)+12} days old, to be precise. That is {0.96374:.0%} of your expected lifetime.  \"\n",
    "s += f\"You are worth ${net_worth:,.2f}; you might consider a new career!\"\n",
    "\n",
    "print(s)"
   ]
  },
  {
   "attachments": {},
   "cell_type": "markdown",
   "metadata": {},
   "source": [
    "#### Floats"
   ]
  },
  {
   "cell_type": "code",
   "execution_count": null,
   "metadata": {
    "ExecuteTime": {
     "end_time": "2020-10-14T13:27:27.810977Z",
     "start_time": "2020-10-14T13:27:27.803377Z"
    }
   },
   "outputs": [],
   "source": [
    "# value:{total_width}.{precision}f  # # of characters (incl space) = width, # decimals = precision\n",
    "v = 4321.123\n",
    "print(f\"{v:3.2f}\")\n",
    "print(f\"{v:.2f}\")  # don't bother total width\n",
    "print(f\"{v:,.4f}\")  # use commas to separate thousands\n",
    "print(f\"For fixed width strings, {v:20,}\")  # no decimals, fixed width, commas"
   ]
  },
  {
   "attachments": {},
   "cell_type": "markdown",
   "metadata": {},
   "source": [
    "## Sequence Operations and Manipulations"
   ]
  },
  {
   "attachments": {},
   "cell_type": "markdown",
   "metadata": {},
   "source": [
    "### Slicing"
   ]
  },
  {
   "cell_type": "code",
   "execution_count": null,
   "metadata": {
    "hidden": true
   },
   "outputs": [],
   "source": [
    "x = [1,2,3,4,5]\n",
    "\n",
    "x[-1] # 5 (last element)\n",
    "x[:2] # [1,2]  (start until index 2 (exclusive))\n",
    "x[2:] # [3,4,5] (start at index 2 (inclusive) until end)\n",
    "x[1:4] # [2,3,4]  (start at 1 (incl), end at 4 (excl))\n",
    "x[::-1]  # [5,4,3,2,1] (reverse order)"
   ]
  },
  {
   "attachments": {},
   "cell_type": "markdown",
   "metadata": {},
   "source": [
    "### Iterable Unpacking"
   ]
  },
  {
   "cell_type": "code",
   "execution_count": null,
   "metadata": {},
   "outputs": [],
   "source": [
    "# **kw and position argument expansion\n",
    "def samp_fnc(a,b,c=3,d='hello'):\n",
    "    print('a: ', a, ' b: ', b , ' c: ', c, ' d: ', d)\n",
    "\n",
    "pos_args = ['first', 'second']\n",
    "kw_args = {'c':'balanced','d':100}\n",
    "\n",
    "samp_fnc(*pos_args,**kw_args)\n",
    "samp_fnc(*['a','b','c','d'])\n",
    "samp_fnc(**{a : a for a in ['a','b','c','d']})"
   ]
  },
  {
   "cell_type": "code",
   "execution_count": null,
   "metadata": {},
   "outputs": [],
   "source": [
    "# Grabbing excessive items\n",
    "a,b, *rest = range(10)\n",
    "\n",
    "# * prefix can be applied to one var but in any position\n",
    "a, *mid, b = range(10)\n",
    "\n",
    "# nested unpacking\n",
    "for nm, (height,weight) in [(\"bob\", (65,150)), (\"mary\", (65,130))]:\n",
    "    print(nm,height, weight)"
   ]
  },
  {
   "attachments": {},
   "cell_type": "markdown",
   "metadata": {},
   "source": [
    "### Sorting and sorted searches"
   ]
  },
  {
   "cell_type": "code",
   "execution_count": 19,
   "metadata": {},
   "outputs": [
    {
     "data": {
      "text/plain": [
       "[1, 3, 4, 5, 7, 9, 11, 13, 15, 17, 19]"
      ]
     },
     "execution_count": 19,
     "metadata": {},
     "output_type": "execute_result"
    }
   ],
   "source": [
    "data = [i for i in range(20)[::-2]]\n",
    "\n",
    "# sort the values in ascending order, can provide a key_fn to sort by\n",
    "sdata = sorted(data) #, key=lambda x: x,reverse=False)\n",
    "\n",
    "from bisect import bisect, insort\n",
    "\n",
    "# use bisect to identify the insertion point for an item in a sorted (ascending order) sequence (similiar to np.searchsorted)\n",
    "\n",
    "bisect(sdata, 4)  # 2\n",
    "insort(sdata,4)  # insert item into location (inplace) to maintain sorting \n",
    "sdata\n"
   ]
  },
  {
   "attachments": {},
   "cell_type": "markdown",
   "metadata": {
    "heading_collapsed": true
   },
   "source": [
    "## Comprehensions"
   ]
  },
  {
   "cell_type": "code",
   "execution_count": null,
   "metadata": {
    "hidden": true
   },
   "outputs": [],
   "source": [
    "nums = [0, 1, 2, 3, 4]\n",
    "\n",
    "#lists\n",
    "squares = [x ** 2 for x in nums if x % 2]     #[0, 4, 16]\n",
    "\n",
    "# note that the FOR orders mirrors the order of nested FOR statements\n",
    "# for x in range(2):\n",
    "#     for y in range(x+5,x+7)\n",
    "perms = [(x,y) for x in range(2) for y in range(x+5,x+7)] # [(0, 5), (0, 6), (1, 6), (1, 7)]\n",
    "\n",
    "#set\n",
    "{s for s in nums if s % 2}  #{0,2,4}\n",
    "\n",
    "#dictionaries\n",
    "even_num_to_square = {x: x ** 2 for x in nums if x % 2}  # {0: 0, 2: 4, 4: 16}\n",
    "\n",
    "# generators\n",
    "next((x for x in [0, 0, 0, 1.5, 0, 0, 1] if x))"
   ]
  },
  {
   "attachments": {},
   "cell_type": "markdown",
   "metadata": {},
   "source": [
    "## Dicts"
   ]
  },
  {
   "cell_type": "code",
   "execution_count": 25,
   "metadata": {},
   "outputs": [],
   "source": [
    "a = {\"a\": 1, \"b\": 2}  # literal syntax\n",
    "b = dict(zip((\"a\", \"b\"), (1,2)))  # keys and values\n",
    "c = dict([(\"a\",1),(\"b\",2)])  # a seq of pairs\n",
    "assert a == b == c\n",
    "\n",
    "# dict comprehension\n",
    "{x: x ** 2 for x in nums if x % 2}  # {0: 0, 2: 4, 4: 16}"
   ]
  },
  {
   "cell_type": "markdown",
   "metadata": {
    "heading_collapsed": true
   },
   "source": [
    "# Dates"
   ]
  },
  {
   "cell_type": "code",
   "execution_count": null,
   "metadata": {
    "ExecuteTime": {
     "end_time": "2019-02-21T19:33:09.281226Z",
     "start_time": "2019-02-21T19:33:09.277429Z"
    },
    "hidden": true
   },
   "outputs": [],
   "source": [
    "# https://docs.python.org/3/library/datetime.html\n",
    "\n",
    "from datetime import date\n",
    "from datetime import datetime\n",
    "from datetime import timedelta\n",
    "\n",
    "#Create dates , datetimes are very similiar but use datetime instead of date\n",
    "date.fromisoformat(\"2019-01-01\")\n",
    "date.today()\n",
    "date(2019,1,1)\n",
    "\n",
    "\n",
    "#adding time intervals to dates\n",
    "# class datetime.timedelta(days=0, seconds=0, microseconds=0, milliseconds=0, minutes=0, hours=0, weeks=0)¶\n",
    "datetime.now() + timedelta(days=1,minutes=5,seconds=20)\n",
    "date.today() + timedelta(days=3,weeks=2) "
   ]
  },
  {
   "cell_type": "markdown",
   "metadata": {
    "hidden": true
   },
   "source": [
    "## Common methods"
   ]
  },
  {
   "attachments": {},
   "cell_type": "markdown",
   "metadata": {
    "hidden": true
   },
   "source": [
    "...<br>\n",
    "| Method | Description |\n",
    "|--|--|\n",
    "| year, month, ... | get the [year,month, ...] of the date or datetime |\n",
    "| weekday | Return the day of the week as an integer, where Monday is 0 |\n",
    "| isoformat | Return a string representing the date in ISO 8601 format |\n",
    "| fromisoformat(d) | Parse the isoformatted date string as a date (or datetime) |"
   ]
  },
  {
   "cell_type": "markdown",
   "metadata": {},
   "source": [
    "# OOP"
   ]
  },
  {
   "cell_type": "code",
   "execution_count": null,
   "metadata": {},
   "outputs": [],
   "source": [
    "class Chicken:\n",
    "    \n",
    "    species = 'Bird'  #Static/Class variable\n",
    "\n",
    "    #methods that start with __ have private scope\n",
    "    # __init__ is the constructor method\n",
    "    def __init__(self, weight):\n",
    "        self.num_feet = 2  #public attribute\n",
    "        self._weight = weight # attributes that begin with _ have private scope\n",
    "        \n",
    "    def digest(self)\n",
    "    \n",
    "    def feed(self, food_weight):\n",
    "        self._weight += food_weight / 10.0\n",
    "        "
   ]
  },
  {
   "cell_type": "markdown",
   "metadata": {},
   "source": [
    "# Decorators"
   ]
  },
  {
   "cell_type": "markdown",
   "metadata": {},
   "source": [
    "Decorators are simply function wrappers; they take a function as an argument and then create a new function that adds some additional functionality around it.  The new function is returned.  Below is a simple example (from realpython.com, https://realpython.com/primer-on-python-decorators)"
   ]
  },
  {
   "cell_type": "markdown",
   "metadata": {},
   "source": [
    "## Simple example"
   ]
  },
  {
   "cell_type": "code",
   "execution_count": null,
   "metadata": {},
   "outputs": [],
   "source": [
    "#Define your additional behavior.  In this case, we print something before and after the function call\n",
    "def my_decorator(func):\n",
    "    def wrapper():\n",
    "        print(\"Something is happening before the function is called.\")\n",
    "        func()\n",
    "        print(\"Something is happening after the function is called.\")\n",
    "    return wrapper\n"
   ]
  },
  {
   "cell_type": "markdown",
   "metadata": {},
   "source": [
    "### Classic way to wrap a function"
   ]
  },
  {
   "cell_type": "code",
   "execution_count": null,
   "metadata": {},
   "outputs": [],
   "source": [
    "def say_whee():\n",
    "    print(\"Whee!\")\n",
    "\n",
    "# Classic way to get decorator behavior from a function .. define function and wrap it manually\n",
    "say_whee = my_decorator(say_whee)\n",
    "\n",
    "say_whee()"
   ]
  },
  {
   "cell_type": "markdown",
   "metadata": {},
   "source": [
    "### Syntactic sugar"
   ]
  },
  {
   "cell_type": "code",
   "execution_count": null,
   "metadata": {},
   "outputs": [],
   "source": [
    "@my_decorator\n",
    "def say_whee():\n",
    "    print(\"Whee!\")\n",
    "    \n",
    "say_whee()"
   ]
  },
  {
   "cell_type": "markdown",
   "metadata": {},
   "source": [
    "## Decorators with arguments"
   ]
  },
  {
   "cell_type": "code",
   "execution_count": null,
   "metadata": {},
   "outputs": [],
   "source": [
    "#use the *args and **kwargs values to allow reusable decorators (support varying # of method parameters)\n",
    "def do_twice(func):\n",
    "    def wrapper_do_twice(*args, **kwargs):\n",
    "        func(*args, **kwargs)\n",
    "        func(*args, **kwargs)\n",
    "    return wrapper_do_twice\n",
    "\n",
    "@do_twice\n",
    "def say_whee():\n",
    "    print('Whee!')\n",
    "    \n",
    "@do_twice\n",
    "def say_whee_named(name):\n",
    "    print(name, 'said Whee!')\n",
    "    \n",
    "\n",
    "say_whee()\n",
    "say_whee_named('Bob')"
   ]
  },
  {
   "cell_type": "markdown",
   "metadata": {},
   "source": [
    "# Miscellaneous"
   ]
  },
  {
   "attachments": {},
   "cell_type": "markdown",
   "metadata": {},
   "source": [
    "## Special Methods"
   ]
  },
  {
   "attachments": {},
   "cell_type": "markdown",
   "metadata": {},
   "source": [
    "...<br>\n",
    "| Category | Methods |\n",
    "| --- | --- |\n",
    "| String/bytes representation | `__repr__, __str__, __format__, __bytes__` |\n",
    "| Conversion to number | `__abs__, __bool__, __complex__, __int__, __float__, __hash__, __index__` |\n",
    "| Emulating collections | `__len__, __getitem__, __setitem__, __delitem__, __contains__` |\n",
    "| Iteration | `__iter__, __reversed__, __next__` |\n",
    "| Emulating callables | `__call__` |\n",
    "| Context management | `__enter__, __exit__` |\n",
    "| Instance creation and destruction | `__new__, __init__, __del__` |\n",
    "| Attribute management | `__getattr__, __getattribute__, __setattr__, __delattr__, __dir__` |\n",
    "| Attribute descriptors | `__get__, __set__, __delete__` |\n",
    "| Class services | `__prepare__, __instancecheck__, __subclasscheck__` |"
   ]
  },
  {
   "cell_type": "markdown",
   "metadata": {},
   "source": [
    "## Syntactic Sugar"
   ]
  },
  {
   "cell_type": "markdown",
   "metadata": {},
   "source": [
    "### Merge dictionaries"
   ]
  },
  {
   "cell_type": "code",
   "execution_count": null,
   "metadata": {},
   "outputs": [],
   "source": [
    "defaults = {'winner' : 'thomas', 'loser' : 'other', 'contest' : 'Singing'}\n",
    "user_args = {'loser' : 'tim t', 'contest' : 'Dancing'}\n",
    "\n",
    "{**defaults, **user_args}"
   ]
  },
  {
   "cell_type": "markdown",
   "metadata": {},
   "source": [
    "## Serialization"
   ]
  },
  {
   "cell_type": "markdown",
   "metadata": {},
   "source": [
    "### Pickle"
   ]
  },
  {
   "cell_type": "markdown",
   "metadata": {},
   "source": [
    "#### Without a file"
   ]
  },
  {
   "cell_type": "code",
   "execution_count": null,
   "metadata": {},
   "outputs": [],
   "source": [
    "import pickle\n",
    "import io\n",
    "\n",
    "obj = \"Hello world\"\n",
    "s = io.BytesIO()\n",
    "s_idx = s.tell() #determine the starting index for our stream\n",
    "x = pickle.dump(obj,s,pickle.HIGHEST_PROTOCOL)\n",
    "s.seek(s_idx) #jump to the start of the stream\n",
    "pickle.load(s)"
   ]
  },
  {
   "cell_type": "markdown",
   "metadata": {},
   "source": [
    "#### With a file"
   ]
  },
  {
   "cell_type": "code",
   "execution_count": null,
   "metadata": {},
   "outputs": [],
   "source": [
    "import pickle\n",
    "\n",
    "file_name = 'temp_file.pkl'\n",
    "obj = {'Score' : 12}\n",
    "pickle.dump(obj,open(file_name,'wb'))  #open file in write binary mode\n",
    "\n",
    "pickle.load(open(file_name,'rb'))  # load from an open file"
   ]
  },
  {
   "cell_type": "markdown",
   "metadata": {},
   "source": [
    "## Command Line arguments\n",
    "https://levelup.gitconnected.com/the-easy-guide-to-python-command-line-arguments-96b4607baea1"
   ]
  },
  {
   "cell_type": "code",
   "execution_count": null,
   "metadata": {},
   "outputs": [],
   "source": [
    "import argparse\n",
    "\n",
    "parser = argparse.ArgumentParser(description='An example program of argparse!')\n",
    "parser.add_argument(\"--a\", default=1, type=int, help=\"This is the 'a' variable\")\n",
    "parser.add_argument(\"--education\", \n",
    "                    choices=[\"highschool\", \"college\", \"university\", \"other\"],\n",
    "                    required=True, type=str, help=\"Your name\")\n",
    "\n",
    "args = parser.parse_args()\n",
    "\n",
    "ed = args.education"
   ]
  },
  {
   "cell_type": "markdown",
   "metadata": {},
   "source": [
    "## Profiling"
   ]
  },
  {
   "cell_type": "markdown",
   "metadata": {},
   "source": [
    "### Decompose to times in function call"
   ]
  },
  {
   "cell_type": "code",
   "execution_count": null,
   "metadata": {},
   "outputs": [],
   "source": [
    "from pyinstrument import Profiler\n",
    "\n",
    "profiler = Profiler()\n",
    "with profiler:\n",
    "    sum(range(100000))\n",
    "\n",
    "with open(\"profile.html\", 'w') as f:\n",
    "    f.write(profiler.output_html())"
   ]
  },
  {
   "cell_type": "markdown",
   "metadata": {},
   "source": [
    "### Time the execution"
   ]
  },
  {
   "cell_type": "code",
   "execution_count": null,
   "metadata": {},
   "outputs": [],
   "source": [
    "from time import perf_counter\n",
    " \n",
    "t0 = perf_counter()\n",
    "sum(range(100000))\n",
    "t1 = perf_counter()\n",
    " \n",
    "print(\"Elapsed time:\", t1 - t0)"
   ]
  },
  {
   "cell_type": "markdown",
   "metadata": {},
   "source": [
    "### iPython magic"
   ]
  },
  {
   "cell_type": "code",
   "execution_count": null,
   "metadata": {},
   "outputs": [],
   "source": [
    "%%timeit\n",
    "# Time cell execution\n",
    "sum(range(100000))\n",
    "sum(range(100000))\n",
    "\n",
    "# Or time a single line with\n",
    "# %timeit sum(range(100000))"
   ]
  },
  {
   "attachments": {},
   "cell_type": "markdown",
   "metadata": {},
   "source": [
    "# References"
   ]
  },
  {
   "attachments": {},
   "cell_type": "markdown",
   "metadata": {},
   "source": [
    "1. Luciano Ramalho, (2015). `Fluent Python`. O'Reilly Media, Inc. ISBN: 978-1-491-94600-8"
   ]
  },
  {
   "cell_type": "markdown",
   "metadata": {},
   "source": []
  }
 ],
 "metadata": {
  "kernelspec": {
   "display_name": "Python 3",
   "language": "python",
   "name": "python3"
  },
  "language_info": {
   "codemirror_mode": {
    "name": "ipython",
    "version": 3
   },
   "file_extension": ".py",
   "mimetype": "text/x-python",
   "name": "python",
   "nbconvert_exporter": "python",
   "pygments_lexer": "ipython3",
   "version": "3.10.1"
  },
  "toc": {
   "base_numbering": 1,
   "nav_menu": {},
   "number_sections": true,
   "sideBar": true,
   "skip_h1_title": false,
   "title_cell": "Table of Contents",
   "title_sidebar": "Contents",
   "toc_cell": false,
   "toc_position": {},
   "toc_section_display": true,
   "toc_window_display": true
  },
  "vscode": {
   "interpreter": {
    "hash": "385687ec12c85b807b51303f5ec3a76d5987f13c66b619467696a2e6c8165e4c"
   }
  }
 },
 "nbformat": 4,
 "nbformat_minor": 2
}
