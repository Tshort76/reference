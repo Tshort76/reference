{
 "cells": [
  {
   "attachments": {},
   "cell_type": "markdown",
   "metadata": {
    "heading_collapsed": true
   },
   "source": [
    "# Data Structures"
   ]
  },
  {
   "attachments": {},
   "cell_type": "markdown",
   "metadata": {},
   "source": [
    "## Tuples"
   ]
  },
  {
   "cell_type": "code",
   "execution_count": null,
   "metadata": {},
   "outputs": [],
   "source": [
    "# Tuples are heterogeneous, immutable lists.\n",
    "(1, 2, 3)\n",
    "\n",
    "#  Immutable -> hashable -> valid dict keys\n",
    "{('john', 'doe'): 32, (\"jane\", \"smith\"): 24}"
   ]
  },
  {
   "attachments": {},
   "cell_type": "markdown",
   "metadata": {},
   "source": [
    "### Named Tuples"
   ]
  },
  {
   "attachments": {},
   "cell_type": "markdown",
   "metadata": {},
   "source": [
    "Named Tuples are a great way to implement generic records, where a datum's position in the record carries semantic meaning (e.g. a table of data, each column is an attribute)\n",
    "\n",
    "The `collections.namedtuple` function is a factory that produces subclasses of tuple\n",
    "enhanced with field names and a class name (helpful with debugging)\n",
    "\n",
    "Instances of a class that you build with namedtuple take exactly the\n",
    "same amount of memory as tuples because the field names are\n",
    "stored in the class."
   ]
  },
  {
   "cell_type": "code",
   "execution_count": null,
   "metadata": {},
   "outputs": [],
   "source": [
    "from collections import namedtuple\n",
    "\n",
    "# Name, fields (as an iterable of strings or as a single space-delimited string)\n",
    "City = namedtuple('City', 'name country population coordinates')\n",
    "# City = namedtuple('City', ('name', 'country', 'population', 'coordinates'))\n",
    "\n",
    "# constructor takes position arguments\n",
    "boise = City('Boise', 'USA', '1.21', (35.689722, 139.691667))\n",
    "\n",
    "# multiple ways to access fields.  Note that boise[\"population\"] is not allowed\n",
    "boise.population == boise[2]\n",
    "\n",
    "# see the fields associated with the City Class\n",
    "City._fields\n",
    "\n",
    "# create a dict from the named tuple instance\n",
    "boise._asdict()"
   ]
  },
  {
   "attachments": {},
   "cell_type": "markdown",
   "metadata": {},
   "source": [
    "## Strings"
   ]
  },
  {
   "cell_type": "code",
   "execution_count": null,
   "metadata": {
    "ExecuteTime": {
     "end_time": "2019-02-21T20:32:01.437998Z",
     "start_time": "2019-02-21T20:32:01.434611Z"
    }
   },
   "outputs": [],
   "source": [
    "# Split at space\n",
    "\"Hello John\".split()\n",
    "\"Hello John, my name is joe\".split(\", \")\n",
    "\n",
    "#concatenate with a separator\n",
    "\",\".join([\"Today\", \" unlike most days\", \" is a great day!\"])\n"
   ]
  },
  {
   "attachments": {},
   "cell_type": "markdown",
   "metadata": {},
   "source": [
    "### String object methods"
   ]
  },
  {
   "attachments": {},
   "cell_type": "markdown",
   "metadata": {},
   "source": [
    "|Method|Description|\n",
    "|-|-|\n",
    "|count|Return the number of non-overlapping occurrences of substring in the string.|\n",
    "|endswith|Returns True if string ends with suffix.|\n",
    "|startswith|Returns True if string starts with prefix.|\n",
    "|join|Use string as delimiter for concatenating a sequence of other strings.|\n",
    "|index|Return position of first character in substring if found in the string; raises ValueError|\n",
    "|find|Return position of first character of first occurrence of substring in the string; like index not found.|\n",
    "|rfind|Return position of first character of last occurrence of substring in the string; returns –1 if not found.|\n",
    "|replace|Replace occurrences of string with another string.|\n",
    "|strip, rstrip, lstrip|Trim whitespace, including newlines; equivalent to x.strip() (and rstrip, lstrip , respectively) for each element.|\n",
    "|split|Break string into list of substrings using passed delimiter.|\n",
    "|lower|Convert alphabet characters to lowercase.|\n",
    "|upper|Convert alphabet characters to uppercase.|\n",
    "|casefold|Convert characters to lowercase, and convert any region-specific variable character combinations to a common comparable form.|"
   ]
  },
  {
   "attachments": {},
   "cell_type": "markdown",
   "metadata": {},
   "source": [
    "### Regex"
   ]
  },
  {
   "cell_type": "code",
   "execution_count": null,
   "metadata": {
    "ExecuteTime": {
     "end_time": "2019-02-21T21:00:37.632372Z",
     "start_time": "2019-02-21T21:00:37.627698Z"
    }
   },
   "outputs": [],
   "source": [
    "import re\n",
    "\n",
    "txt = 'bob    is not\\t that weird'\n",
    "\n",
    "#compile and use a regex\n",
    "re.split('\\s+',txt)\n",
    "\n",
    "#compile a reusable regex\n",
    "white_space = re.compile('\\s+')\n",
    "re.split(white_space,txt)\n",
    "\n",
    "\n",
    "text = \"\"\"Dave dave@google.com\n",
    "Steve steve@gmail.com\n",
    "Rob rob@gmail.com\n",
    "Ryan ryan@yahoo.com \"\"\"\n",
    "\n",
    "\n",
    "email_rgxs = r'[A-Z0-9._%+-]+@[A-Z0-9.-]+\\.[A-Z]{2,4}' \n",
    "\n",
    "# re.IGNORECASE makes the regex case-insensitive\n",
    "email_rgx = re.compile(email_rgxs, flags=re.IGNORECASE)\n",
    "\n",
    "#get a list of all patterns matching the regex\n",
    "email_rgx.findall(text)\n",
    "\n",
    "#use search to get the position range of the first occurrence\n",
    "email_rgx.search(text)\n",
    "\n",
    "#does the entire string match the pattern\n",
    "email_rgx.match(text)\n",
    "\n",
    "#replace occurences of the regex with a string\n",
    "email_rgx.sub('NA', text)"
   ]
  },
  {
   "attachments": {},
   "cell_type": "markdown",
   "metadata": {},
   "source": [
    "### Formatting"
   ]
  },
  {
   "attachments": {},
   "cell_type": "markdown",
   "metadata": {},
   "source": [
    "#### f-Strings\n",
    "An f-String is special syntax, f\"\", for formatting strings that reference variables."
   ]
  },
  {
   "cell_type": "code",
   "execution_count": null,
   "metadata": {
    "ExecuteTime": {
     "end_time": "2020-10-14T13:19:12.108086Z",
     "start_time": "2020-10-14T13:19:12.103482Z"
    }
   },
   "outputs": [],
   "source": [
    "cap_first = lambda x: x[0].upper() + x[1:]\n",
    "name = \"eric\"\n",
    "age = 74\n",
    "net_worth = 125.2132314223\n",
    "s = f\"Hello, {cap_first(name)}. You are {age} years old, well {(age*365)+12} days old, to be precise. That is {0.96374:.0%} of your expected lifetime.  \"\n",
    "s += f\"You are worth ${net_worth:,.2f}; you might consider a new career!\"\n",
    "\n",
    "print(s)"
   ]
  },
  {
   "attachments": {},
   "cell_type": "markdown",
   "metadata": {},
   "source": [
    "#### Floats"
   ]
  },
  {
   "cell_type": "code",
   "execution_count": null,
   "metadata": {
    "ExecuteTime": {
     "end_time": "2020-10-14T13:27:27.810977Z",
     "start_time": "2020-10-14T13:27:27.803377Z"
    }
   },
   "outputs": [],
   "source": [
    "# value:{total_width}.{precision}f  # # of characters (incl space) = width, # decimals = precision\n",
    "v = 4321.123\n",
    "print(f\"{v:3.2f}\")\n",
    "print(f\"{v:.2f}\")  # don't bother total width\n",
    "print(f\"{v:,.4f}\")  # use commas to separate thousands\n",
    "print(f\"For fixed width strings, {v:20,}\")  # no decimals, fixed width, commas"
   ]
  },
  {
   "attachments": {},
   "cell_type": "markdown",
   "metadata": {},
   "source": [
    "## Sequence Operations and Manipulations"
   ]
  },
  {
   "attachments": {},
   "cell_type": "markdown",
   "metadata": {},
   "source": [
    "### Slicing"
   ]
  },
  {
   "cell_type": "code",
   "execution_count": null,
   "metadata": {
    "hidden": true
   },
   "outputs": [],
   "source": [
    "x = [1,2,3,4,5]\n",
    "\n",
    "x[-1] # 5 (last element)\n",
    "x[:2] # [1,2]  (start until index 2 (exclusive))\n",
    "x[2:] # [3,4,5] (start at index 2 (inclusive) until end)\n",
    "x[1:4] # [2,3,4]  (start at 1 (incl), end at 4 (excl))\n",
    "x[::-1]  # [5,4,3,2,1] (reverse order)"
   ]
  },
  {
   "cell_type": "markdown",
   "metadata": {},
   "source": [
    "#### Slice assignment"
   ]
  },
  {
   "cell_type": "code",
   "execution_count": null,
   "metadata": {},
   "outputs": [],
   "source": [
    "# Insertion\n",
    "a = [1, 2, 3]\n",
    "a[1:1] = [-3, -2, -1, 0]\n",
    "# a -> [1, -3, -2, -1, 0, 2, 3]\n",
    "\n",
    "\n",
    "# Deletion:\n",
    "a[2:4] = []\n",
    "# a -> [1, -3, 0, 2, 3]"
   ]
  },
  {
   "attachments": {},
   "cell_type": "markdown",
   "metadata": {},
   "source": [
    "### Iterable Unpacking"
   ]
  },
  {
   "cell_type": "code",
   "execution_count": null,
   "metadata": {},
   "outputs": [],
   "source": [
    "# **kw and position argument expansion\n",
    "def samp_fnc(a,b,c=3,d='hello'):\n",
    "    print('a: ', a, ' b: ', b , ' c: ', c, ' d: ', d)\n",
    "\n",
    "pos_args = ['first', 'second']\n",
    "kw_args = {'c':'balanced','d':100}\n",
    "\n",
    "samp_fnc(*pos_args,**kw_args)\n",
    "samp_fnc(*['a','b','c','d'])\n",
    "samp_fnc(**{a : a for a in ['a','b','c','d']})"
   ]
  },
  {
   "cell_type": "code",
   "execution_count": null,
   "metadata": {},
   "outputs": [],
   "source": [
    "# Grabbing excessive items\n",
    "a,b, *rest = range(10)\n",
    "\n",
    "# * prefix can be applied to one var but in any position\n",
    "a, *mid, b = range(10)\n",
    "\n",
    "# nested unpacking\n",
    "for nm, (height,weight) in [(\"bob\", (65,150)), (\"mary\", (65,130))]:\n",
    "    print(nm,height, weight)"
   ]
  },
  {
   "attachments": {},
   "cell_type": "markdown",
   "metadata": {},
   "source": [
    "### Sorting and sorted searches"
   ]
  },
  {
   "cell_type": "code",
   "execution_count": null,
   "metadata": {},
   "outputs": [],
   "source": [
    "data = [i for i in range(20)[::-2]]\n",
    "\n",
    "# sort the values in ascending order, can provide a key_fn to sort by\n",
    "sdata = sorted(data) #, key=lambda x: x,reverse=False)\n",
    "\n",
    "from bisect import bisect, insort\n",
    "\n",
    "# use bisect to identify the insertion point for an item in a sorted (ascending order) sequence (similiar to np.searchsorted)\n",
    "\n",
    "bisect(sdata, 4)  # 2\n",
    "insort(sdata,4)  # insert item into location (inplace) to maintain sorting \n",
    "sdata\n"
   ]
  },
  {
   "attachments": {},
   "cell_type": "markdown",
   "metadata": {
    "heading_collapsed": true
   },
   "source": [
    "## Comprehensions"
   ]
  },
  {
   "cell_type": "code",
   "execution_count": null,
   "metadata": {
    "hidden": true
   },
   "outputs": [],
   "source": [
    "nums = [0, 1, 2, 3, 4]\n",
    "\n",
    "#lists\n",
    "squares = [x ** 2 for x in nums if x % 2]     #[0, 4, 16]\n",
    "\n",
    "# note that the FOR orders mirrors the order of nested FOR statements\n",
    "# for x in range(2):\n",
    "#     for y in range(x+5,x+7)\n",
    "perms = [(x,y) for x in range(2) for y in range(x+5,x+7)] # [(0, 5), (0, 6), (1, 6), (1, 7)]\n",
    "\n",
    "#set\n",
    "{s for s in nums if s % 2}  #{0,2,4}\n",
    "\n",
    "#dictionaries\n",
    "even_num_to_square = {x: x ** 2 for x in nums if x % 2}  # {0: 0, 2: 4, 4: 16}\n",
    "\n",
    "# generators\n",
    "next((x for x in [0, 0, 0, 1.5, 0, 0, 1] if x))"
   ]
  },
  {
   "attachments": {},
   "cell_type": "markdown",
   "metadata": {},
   "source": [
    "## Dicts"
   ]
  },
  {
   "cell_type": "code",
   "execution_count": null,
   "metadata": {},
   "outputs": [],
   "source": [
    "a = {\"a\": 1, \"b\": 2}  # literal syntax\n",
    "b = dict(zip((\"a\", \"b\"), (1,2)))  # keys and values\n",
    "c = dict([(\"a\",1),(\"b\",2)])  # a seq of pairs\n",
    "assert a == b == c\n",
    "\n",
    "# dict comprehension\n",
    "{x: x ** 2 for x in nums if x % 2}  # {0: 0, 2: 4, 4: 16}\n",
    "\n",
    "# merge dictionaries\n",
    "defaults = {'a' : 1, 'b' : 2}\n",
    "overrides = {'a' : 0, 'c' : 3}\n",
    "\n",
    "{**defaults, **overrides}"
   ]
  },
  {
   "cell_type": "markdown",
   "metadata": {},
   "source": [
    "## Stack and Queue via Deque"
   ]
  },
  {
   "cell_type": "markdown",
   "metadata": {},
   "source": [
    "The deque collection structure has constant time removal and access at either end, making it ideal for implementing a Queue.  A python list suffices for an array, but `list.pop(0)` requires a shift of all subsequent elements and has the consequent performance issues."
   ]
  },
  {
   "cell_type": "code",
   "execution_count": null,
   "metadata": {},
   "outputs": [],
   "source": [
    "from collections import deque\n",
    "\n",
    "stack = deque()\n",
    "# pop and push\n",
    "stack.pop() , stack.append()\n",
    "\n",
    "queue = deque()\n",
    "# deque and enque\n",
    "queue.popleft() , queue.append()\n",
    "while queue:  # iterate over contents while queue is not empty\n",
    "    if queue[0] == 3:  # peek at top of queue without removing\n",
    "        print(\"Do something interesting, you have seen a 3!\")\n",
    "    queue.popleft()"
   ]
  },
  {
   "cell_type": "markdown",
   "metadata": {
    "heading_collapsed": true
   },
   "source": [
    "# Dates"
   ]
  },
  {
   "cell_type": "code",
   "execution_count": null,
   "metadata": {
    "ExecuteTime": {
     "end_time": "2019-02-21T19:33:09.281226Z",
     "start_time": "2019-02-21T19:33:09.277429Z"
    },
    "hidden": true
   },
   "outputs": [],
   "source": [
    "# https://docs.python.org/3/library/datetime.html\n",
    "\n",
    "from datetime import date\n",
    "from datetime import datetime\n",
    "from datetime import timedelta\n",
    "\n",
    "#Create dates , datetimes are very similiar but use datetime instead of date\n",
    "date.fromisoformat(\"2019-01-01\")\n",
    "date.today()\n",
    "date(2019,1,1)\n",
    "\n",
    "\n",
    "#adding time intervals to dates\n",
    "# class datetime.timedelta(days=0, seconds=0, microseconds=0, milliseconds=0, minutes=0, hours=0, weeks=0)¶\n",
    "datetime.now() + timedelta(days=1,minutes=5,seconds=20)\n",
    "date.today() + timedelta(days=3,weeks=2) \n",
    "\n",
    "# time delta in seconds\n",
    "(datetime.now() - (datetime.now() - timedelta(days=3,weeks=2))).total_seconds()"
   ]
  },
  {
   "cell_type": "markdown",
   "metadata": {
    "hidden": true
   },
   "source": [
    "## Common methods"
   ]
  },
  {
   "attachments": {},
   "cell_type": "markdown",
   "metadata": {
    "hidden": true
   },
   "source": [
    "| Method | Description |\n",
    "|--|--|\n",
    "| year, month, ... | get the [year,month, ...] of the date or datetime |\n",
    "| weekday | Return the day of the week as an integer, where Monday is 0 |\n",
    "| isoformat | Return a string representing the date in ISO 8601 format |\n",
    "| fromisoformat(d) | Parse the isoformatted date string as a date (or datetime) |"
   ]
  },
  {
   "cell_type": "markdown",
   "metadata": {},
   "source": [
    "# OOP"
   ]
  },
  {
   "cell_type": "markdown",
   "metadata": {},
   "source": [
    "For most purposes, in the simplest cases, you can think of the search for attributes inherited from a parent class as depth-first, left-to-right, not searching twice in the same class where there is an overlap in the hierarchy. Thus, if an attribute is not found in DerivedClassName, it is searched for in Base1, then (recursively) in the base classes of Base1, and if it was not found there, it was searched for in Base2, and so on.\n",
    "\n",
    "Since there is a valid use-case for class-private members (namely to avoid name clashes of names with names defined by subclasses), there is limited support for such a mechanism, called name mangling. Any identifier of the form __spam (at least two leading underscores, at most one trailing underscore) is textually replaced with _classname__spam, where classname is the current class name with leading underscore(s) stripped. This mangling is done without regard to the syntactic position of the identifier, as long as it occurs within the definition of a class."
   ]
  },
  {
   "cell_type": "code",
   "execution_count": null,
   "metadata": {},
   "outputs": [],
   "source": [
    "# Example from https://realpython.com/python-super/\n",
    "class Rectangle:\n",
    "    def __init__(self, length, width):\n",
    "        self.length = length\n",
    "        self.width = width\n",
    "        self._ratio = length/width  # attributes that begin with _ have private scope by convention, although they are still accessible\n",
    "        self.__empty = True if length == 0 or width == 0 else False   # real private scoping\n",
    "        #  __X is name mangling and used to avoid name clashes in subclasses, this is replaced with _classname__spam, where classname is the current class name with leading underscore(s) stripped\n",
    "\n",
    "    def area(self):\n",
    "        return self.length * self.width\n",
    "\n",
    "    def perimeter(self):\n",
    "        return 2 * self.length + 2 * self.width\n",
    "\n",
    "\n",
    "class Square(Rectangle):\n",
    "    def __init__(self, length):\n",
    "        super().__init__(length, length)\n",
    "        \n",
    "\n",
    "class Cube(Square):\n",
    "    def surface_area(self):\n",
    "        face_area = super().area()\n",
    "        return face_area * 6\n",
    "\n",
    "    def volume(self):\n",
    "        face_area = super().area()\n",
    "        return face_area * self.length"
   ]
  },
  {
   "attachments": {},
   "cell_type": "markdown",
   "metadata": {},
   "source": [
    "# Functional Programming"
   ]
  },
  {
   "attachments": {},
   "cell_type": "markdown",
   "metadata": {},
   "source": [
    "## Operator Module"
   ]
  },
  {
   "cell_type": "code",
   "execution_count": null,
   "metadata": {},
   "outputs": [],
   "source": [
    "# The operator module contains many functions that are implemented in C and are consequently faster\n",
    "# and more readable than creating a lambda function.\n",
    "import operator\n",
    "\",\".join([name for name in dir(operator) if not name.startswith('_')])"
   ]
  },
  {
   "attachments": {},
   "cell_type": "markdown",
   "metadata": {},
   "source": [
    "## Modules for functional programming"
   ]
  },
  {
   "attachments": {},
   "cell_type": "markdown",
   "metadata": {},
   "source": [
    "The toolz library is a favorite of mine as it includes the most useful features from the other two and adds a few more besides.  The operator module contains many functions that are implemented in C and are consequently faster and more readable than creating a lambda function (e.g. operator.add vs lambda x,y: x + y).\n",
    "\n",
    "| Module | std lib? | docs | core functions |\n",
    "|---|---|---|---|\n",
    "| toolz | No | [docs](https://toolz.readthedocs.io/en/latest/api.html) | basically Clojure ... amazing |\n",
    "| functools | Yes | [docs](https://docs.python.org/3/library/functools.html) | lru_cache, partial, reduce, singledispatch |\n",
    "| itertools | Yes | [docs](https://docs.python.org/3/library/itertools.html)| accumulate, takewhile, groupby, permutations|\n",
    "| operator | Yes | [docs](https://docs.python.org/3/library/operator.html) | add, concat, contains, eq, iadd, iconcat, index, mul, getitem, |\n"
   ]
  },
  {
   "attachments": {},
   "cell_type": "markdown",
   "metadata": {},
   "source": [
    "# Design Patterns\n",
    "- Do NOT use mutable types as default parameters (e.g `def func(x: myClass=myClass())`)\n",
    "- Return None for functions that manipulate its arguments (vs returning the modified object)\n",
    "- "
   ]
  },
  {
   "cell_type": "markdown",
   "metadata": {},
   "source": [
    "# Functions"
   ]
  },
  {
   "cell_type": "markdown",
   "metadata": {},
   "source": [
    "## Type Hints in definition"
   ]
  },
  {
   "cell_type": "code",
   "execution_count": null,
   "metadata": {},
   "outputs": [],
   "source": [
    "from typing import Union\n",
    "\n",
    "# use type hints and defaults for easier integration with IDE\n",
    "def my_func(param1: int, param2: bool, param3: str=\"\", param4: Union[dict,float]=None) -> bool:\n",
    "    return False"
   ]
  },
  {
   "cell_type": "markdown",
   "metadata": {},
   "source": [
    "## Single Dispatch"
   ]
  },
  {
   "cell_type": "code",
   "execution_count": null,
   "metadata": {},
   "outputs": [],
   "source": [
    "from functools import singledispatch\n",
    "import pandas as pd\n",
    "import numpy as np\n",
    "\n",
    "\n",
    "# ... Else clause to catch incorrect invocations\n",
    "@singledispatch\n",
    "def min_max(l, **kwargs):\n",
    "    raise TypeError(f\"Cannot run min/max normalization on {l}\")\n",
    "\n",
    "# Run this if first argument is of type DataFrame\n",
    "@singledispatch\n",
    "def min_max(df: pd.DataFrame, bounds: tuple[float, float] = None) -> pd.DataFrame:\n",
    "    \"Calculate the min max norm for a dataframe so that the range is [0,1]\"\n",
    "    if bounds:\n",
    "        return (df - bounds[0]) / (bounds[1] - bounds[0])\n",
    "    return (df - df.min()) / (df.max() - df.min())\n",
    "\n",
    "\n",
    "@singledispatch\n",
    "def min_max(signal: np.ndarray, bounds: tuple[float, float] = None) -> np.ndarray:\n",
    "    \"Calculate the min max norm for a nparray so that the range is [0,1]\"\n",
    "    if bounds:\n",
    "        return (signal - bounds[0]) / (bounds[1] - bounds[0])\n",
    "    return (signal - np.min(signal)) / (np.max(signal) - np.min(signal))\n",
    "\n",
    "\n",
    "@singledispatch\n",
    "def min_max(signal: list[float], bounds: tuple[float, float] = None) -> list:\n",
    "    \"Calculate the min max norm for a nparray so that the range is [0,1]\"\n",
    "    if bounds:\n",
    "        signal = [(s - bounds[0]) / (bounds[1] - bounds[0]) for s in signal]\n",
    "    mn, mx = min(signal), max(signal)\n",
    "    return [(s-mn)/(mx-mn) for s in signal]\n"
   ]
  },
  {
   "attachments": {},
   "cell_type": "markdown",
   "metadata": {},
   "source": [
    "# Logging"
   ]
  },
  {
   "attachments": {},
   "cell_type": "markdown",
   "metadata": {},
   "source": [
    "`contextlib.redirect_stdout` - replace sys.stdout with another file-like object for a while, then\n",
    "switch back to the original"
   ]
  },
  {
   "cell_type": "code",
   "execution_count": null,
   "metadata": {},
   "outputs": [],
   "source": [
    "import logging\n",
    "import os\n",
    "\n",
    "logging.basicConfig(\n",
    "    format=\"%(asctime)s %(levelname)-8s %(message)s\",\n",
    "    level=logging.DEBUG if os.environ.get(\"DEBUG_MODE\") else logging.INFO,\n",
    "    datefmt=\"%Y-%m-%d %H:%M:%S\",\n",
    ")\n",
    "\n",
    "log = logging.getLogger(__name__)\n",
    "\n",
    "log.debug(\"Parsing file X.  Progress is y\")\n",
    "log.info(\"Generating signal data for case X\")\n",
    "log.warn(\"Expected a dict, found a DataFrame.  Performance will be slower than expected\")\n",
    "log.error(\"Error Thrown but caught, trace is X\")"
   ]
  },
  {
   "cell_type": "markdown",
   "metadata": {},
   "source": [
    "## Loading logging configs from a file"
   ]
  },
  {
   "cell_type": "code",
   "execution_count": null,
   "metadata": {},
   "outputs": [],
   "source": [
    "import logging\n",
    "import yaml\n",
    "from logging.config import dictConfig\n",
    "\n",
    "# Call this function from your program's entry point ... might differ for different frameworks (e.g. dash vs flask)\n",
    "def configure_logging() -> None:\n",
    "    with open(\"resources/logging_configs.yaml\", \"r\") as fp:\n",
    "        dictConfig(yaml.safe_load(fp))"
   ]
  },
  {
   "attachments": {},
   "cell_type": "markdown",
   "metadata": {},
   "source": [
    "# Testing (Pytest)\n",
    "[Real Python Testing](https://realpython.com/pytest-python-testing/)"
   ]
  },
  {
   "cell_type": "markdown",
   "metadata": {},
   "source": [
    "Pytest is very useful for writing unit tests."
   ]
  },
  {
   "cell_type": "markdown",
   "metadata": {},
   "source": [
    "## Fixtures"
   ]
  },
  {
   "cell_type": "markdown",
   "metadata": {},
   "source": [
    "As you extract more fixtures from your tests, you might see that some fixtures could benefit from further abstraction. In pytest, fixtures are modular. Being modular means that fixtures can be imported, can import other modules, and they can depend on and import other fixtures. All this allows you to compose a suitable fixture abstraction for your use case.\n",
    "\n",
    "For example, you may find that fixtures in two separate files, or modules, share a common dependency. In this case, you can move fixtures from test modules into more general fixture-related modules. That way, you can import them back into any test modules that need them. This is a good approach when you find yourself using a fixture repeatedly throughout your project.\n",
    "\n",
    "If you want to make a fixture available for your whole project without having to import it, a special configuration module called `conftest.py` will allow you to do that.\n",
    "\n",
    "pytest looks for a `conftest.py` module in each directory. If you add your general-purpose fixtures to the conftest.py module, then you’ll be able to use that fixture throughout the module’s parent directory and in any subdirectories without having to import it. This is a great place to put your most widely used fixtures."
   ]
  },
  {
   "cell_type": "code",
   "execution_count": null,
   "metadata": {},
   "outputs": [],
   "source": [
    "import pytest\n",
    "\n",
    "@pytest.fixture\n",
    "def example_people_data():\n",
    "    return [\n",
    "        {\n",
    "            \"given_name\": \"Alfonsa\",\n",
    "            \"family_name\": \"Ruiz\",\n",
    "            \"title\": \"Senior Software Engineer\",\n",
    "        },\n",
    "        {\n",
    "            \"given_name\": \"Sayid\",\n",
    "            \"family_name\": \"Khan\",\n",
    "            \"title\": \"Project Manager\",\n",
    "        },\n",
    "    ]\n",
    "\n",
    "def test_format_data_for_display(example_people_data):\n",
    "    assert format_data_for_display(example_people_data) == [\n",
    "        \"Alfonsa Ruiz: Senior Software Engineer\",\n",
    "        \"Sayid Khan: Project Manager\",\n",
    "    ]\n",
    "\n",
    "def test_format_data_for_excel(example_people_data):\n",
    "    assert format_data_for_excel(example_people_data) == \"\"\"given,family,title\n",
    "Alfonsa,Ruiz,Senior Software Engineer\n",
    "Sayid,Khan,Project Manager\n",
    "\"\"\""
   ]
  },
  {
   "cell_type": "markdown",
   "metadata": {},
   "source": [
    "Another interesting use case for fixtures and conftest.py is in guarding access to resources. Imagine that you’ve written a test suite for code that deals with API calls. You want to ensure that the test suite doesn’t make any real network calls even if someone accidentally writes a test that does so.\n",
    "\n",
    "pytest provides a `monkeypatch` fixture to replace values and behaviors, which you can use to great effect.\n",
    "\n",
    "By placing disable_network_calls() in conftest.py and adding the autouse=True option, you ensure that network calls will be disabled in every test across the suite. Any test that executes code calling requests.get() will raise a RuntimeError indicating that an unexpected network call would have occurred."
   ]
  },
  {
   "cell_type": "code",
   "execution_count": null,
   "metadata": {},
   "outputs": [],
   "source": [
    "# conftest.py\n",
    "\n",
    "import pytest\n",
    "import requests\n",
    "\n",
    "@pytest.fixture(autouse=True)\n",
    "def disable_network_calls(monkeypatch):\n",
    "    def stunted_get():\n",
    "        raise RuntimeError(\"Network access not allowed during testing!\")\n",
    "    monkeypatch.setattr(requests, \"get\", lambda *args, **kwargs: stunted_get())"
   ]
  },
  {
   "cell_type": "markdown",
   "metadata": {},
   "source": [
    "## Marks\n",
    "You can create and assign arbitrary markers, e.g. `@pytest.mark.database_access`, to functions and then use `pytest -m database_access` to run only those tests, or `pytest -m \"not database_access` to exclude those tests.\n",
    "\n",
    "You can use the `--strict-markers` flag to the pytest command to ensure that all marks in your tests are registered in your pytest configuration file, `pytest.ini`. It’ll prevent you from running your tests until you register any unknown marks.\n",
    "\n",
    "pytest provides a few marks out of the box:\n",
    "- `skip` skips a test unconditionally.\n",
    "- `skipif` skips a test if the expression passed to it evaluates to True.\n",
    "- `xfail` indicates that a test is expected to fail, so if the test does fail, the overall suite can still result in a passing status.\n",
    "- `parametrize` creates multiple variants of a test with different values as arguments.\n",
    "\n",
    "You can see a list of all the marks that pytest knows about by running `pytest --markers`"
   ]
  },
  {
   "cell_type": "markdown",
   "metadata": {},
   "source": [
    "### Parameterizing tests"
   ]
  },
  {
   "cell_type": "markdown",
   "metadata": {},
   "source": [
    "It is common to run test functions with slight variations of input data, testing that your code handles edge cases.  The mark.parameterize decorator is very helpful for this, as seen below."
   ]
  },
  {
   "cell_type": "code",
   "execution_count": null,
   "metadata": {},
   "outputs": [],
   "source": [
    "@pytest.mark.parametrize(\"palindrome\", [\n",
    "    \"\",\n",
    "    \"a\",\n",
    "    \"Bob\",\n",
    "    \"Never odd or even\",\n",
    "    \"Do geese see God?\",\n",
    "])\n",
    "def test_is_palindrome(palindrome):\n",
    "    assert is_palindrome(palindrome)\n",
    "\n",
    "@pytest.mark.parametrize(\"non_palindrome\", [\n",
    "    \"abc\",\n",
    "    \"abab\",\n",
    "])\n",
    "def test_is_palindrome_not_palindrome(non_palindrome):\n",
    "    assert not is_palindrome(non_palindrome)\n",
    "\n",
    "### OR ###\n",
    "@pytest.mark.parametrize(\"maybe_palindrome, expected_result\", [\n",
    "    (\"\", True),\n",
    "    (\"a\", True),\n",
    "    (\"Bob\", True),\n",
    "    (\"Never odd or even\", True),\n",
    "    (\"Do geese see God?\", True),\n",
    "    (\"abc\", False),\n",
    "    (\"abab\", False),\n",
    "])\n",
    "def test_is_palindrome(maybe_palindrome, expected_result):\n",
    "    assert is_palindrome(maybe_palindrome) == expected_result"
   ]
  },
  {
   "cell_type": "markdown",
   "metadata": {},
   "source": [
    "## Test Coverage\n",
    "`pytest --cov`\n",
    "\n",
    "## Test Durations\n",
    "`pytest --durations=5`"
   ]
  },
  {
   "attachments": {},
   "cell_type": "markdown",
   "metadata": {},
   "source": [
    "# Concurrency"
   ]
  },
  {
   "cell_type": "code",
   "execution_count": null,
   "metadata": {},
   "outputs": [],
   "source": [
    "# Run a single function many times (the first arg changes every time) by partitioning\n",
    "# the list arguments according to the number of processors and running the load in parallel, \n",
    "# aggregating the results at the end (writing them all to a single file). \n",
    "\n",
    "\n",
    "import multiprocessing as mp\n",
    "from functools import partial\n",
    "\n",
    "def calculate_for_time(time, signals, configs):\n",
    "    return\n",
    "\n",
    "times = [\"12:30:12\",\"21:12:34\"]\n",
    "configs, signals = {\"debug\": True}, [\"ABLd\", \"CS_1-2\"]\n",
    "\n",
    "num_processes = min(3, os.cpu_count())\n",
    "with mp.Pool(processes=num_processes) as p:\n",
    "    dvals = p.map(\n",
    "        partial(calculate_for_time, signals=signals, configs=configs),\n",
    "        times,\n",
    "        chunksize=int(len(times) / num_processes),\n",
    "    )\n",
    "    # write_aggregated_results(dvals)"
   ]
  },
  {
   "cell_type": "markdown",
   "metadata": {},
   "source": [
    "# Shell Scripting"
   ]
  },
  {
   "cell_type": "markdown",
   "metadata": {},
   "source": [
    "## Command Line arguments\n",
    "https://levelup.gitconnected.com/the-easy-guide-to-python-command-line-arguments-96b4607baea1"
   ]
  },
  {
   "cell_type": "code",
   "execution_count": null,
   "metadata": {},
   "outputs": [],
   "source": [
    "import argparse\n",
    "\n",
    "parser = argparse.ArgumentParser(description='An example program of argparse!')\n",
    "parser.add_argument(\"--a\", default=1, type=int, help=\"This is the 'a' variable\")\n",
    "parser.add_argument(\"--education\", \n",
    "                    choices=[\"highschool\", \"college\", \"university\", \"other\"],\n",
    "                    required=True, type=str, help=\"Your name\")\n",
    "\n",
    "args = parser.parse_args()\n",
    "\n",
    "ed = args.education"
   ]
  },
  {
   "cell_type": "markdown",
   "metadata": {},
   "source": [
    "## User input"
   ]
  },
  {
   "cell_type": "code",
   "execution_count": null,
   "metadata": {},
   "outputs": [],
   "source": [
    "user_in = input(\"Prompt the user for input\")\n",
    "user_in"
   ]
  },
  {
   "cell_type": "markdown",
   "metadata": {},
   "source": [
    "## Script entry point"
   ]
  },
  {
   "cell_type": "code",
   "execution_count": null,
   "metadata": {},
   "outputs": [],
   "source": [
    "import sys\n",
    "\n",
    "def echo(phrase: str) -> None:\n",
    "   \"A dummy wrapper around print.\"\n",
    "   print(phrase)\n",
    "\n",
    "def main() -> int:\n",
    "    \"Echo the input arguments to standard output\"\n",
    "    phrase = \" \".join(sys.argv)  # argv[0] is script name, then *argv[1:] are command line arguments from invocation\n",
    "    echo(phrase)\n",
    "    return 0\n",
    "\n",
    "# this is the entry point for your program\n",
    "if __name__ == '__main__':\n",
    "    sys.exit(main())"
   ]
  },
  {
   "cell_type": "markdown",
   "metadata": {},
   "source": [
    "# Miscellaneous"
   ]
  },
  {
   "attachments": {},
   "cell_type": "markdown",
   "metadata": {},
   "source": [
    "## Decorators"
   ]
  },
  {
   "attachments": {},
   "cell_type": "markdown",
   "metadata": {},
   "source": [
    "Decorators are simply function wrappers; they take a function as an argument and then create a new function that adds some additional functionality around it.  The new function is returned.  Below is a simple example (from realpython.com, https://realpython.com/primer-on-python-decorators)\n",
    "\n",
    "- decorators run when the decorated function is defined, which is usually at `import` time"
   ]
  },
  {
   "attachments": {},
   "cell_type": "markdown",
   "metadata": {},
   "source": [
    "### Simple example"
   ]
  },
  {
   "cell_type": "code",
   "execution_count": null,
   "metadata": {},
   "outputs": [],
   "source": [
    "#Define your additional behavior.  In this case, we print something before and after the function call\n",
    "def my_decorator(func):\n",
    "    def wrapper():\n",
    "        print(\"Something is happening before the function is called.\")\n",
    "        func()\n",
    "        print(\"Something is happening after the function is called.\")\n",
    "    return wrapper\n"
   ]
  },
  {
   "attachments": {},
   "cell_type": "markdown",
   "metadata": {},
   "source": [
    "#### Classic way to wrap a function"
   ]
  },
  {
   "cell_type": "code",
   "execution_count": null,
   "metadata": {},
   "outputs": [],
   "source": [
    "def say_whee():\n",
    "    print(\"Whee!\")\n",
    "\n",
    "# Classic way to get decorator behavior from a function .. define function and wrap it manually\n",
    "say_whee = my_decorator(say_whee)\n",
    "\n",
    "say_whee()"
   ]
  },
  {
   "attachments": {},
   "cell_type": "markdown",
   "metadata": {},
   "source": [
    "#### Syntactic sugar"
   ]
  },
  {
   "cell_type": "code",
   "execution_count": null,
   "metadata": {},
   "outputs": [],
   "source": [
    "@my_decorator\n",
    "def say_whee():\n",
    "    print(\"Whee!\")\n",
    "    \n",
    "say_whee()"
   ]
  },
  {
   "attachments": {},
   "cell_type": "markdown",
   "metadata": {},
   "source": [
    "### Decorators with arguments"
   ]
  },
  {
   "cell_type": "code",
   "execution_count": null,
   "metadata": {},
   "outputs": [],
   "source": [
    "#use the *args and **kwargs values to allow reusable decorators (support varying # of method parameters)\n",
    "def do_twice(func):\n",
    "    def wrapper_do_twice(*args, **kwargs):\n",
    "        func(*args, **kwargs)\n",
    "        func(*args, **kwargs)\n",
    "    return wrapper_do_twice\n",
    "\n",
    "@do_twice\n",
    "def say_whee():\n",
    "    print('Whee!')\n",
    "    \n",
    "@do_twice\n",
    "def say_whee_named(name):\n",
    "    print(name, 'said Whee!')\n",
    "    \n",
    "\n",
    "say_whee()\n",
    "say_whee_named('Bob')"
   ]
  },
  {
   "attachments": {},
   "cell_type": "markdown",
   "metadata": {},
   "source": [
    "## Control Flow"
   ]
  },
  {
   "attachments": {},
   "cell_type": "markdown",
   "metadata": {},
   "source": [
    "### Else"
   ]
  },
  {
   "attachments": {},
   "cell_type": "markdown",
   "metadata": {},
   "source": [
    "The semantics of for/else, while/else, and try/else are closely related, but very different from if/else. Initially the word `else` actually hindered my understanding of\n",
    "these features, but eventually I got used to it (would be better to use the term `then`).  Here are the rules:<br>\n",
    "**for**<br>\n",
    "The else block will run only if and when the for loop runs to completion (i.e., not if the for is aborted with a break).<br>\n",
    "**while**<br>\n",
    "The else block will run only if and when the while loop exits because the condition became falsy (i.e., not when the while is aborted with a break). <br>\n",
    "**try**<br>\n",
    "The else block will only run if no exception is raised in the try block. The officialdocs also state: “Exceptions in the else clause are not handled by the preceding\n",
    "except clauses.”"
   ]
  },
  {
   "attachments": {},
   "cell_type": "markdown",
   "metadata": {},
   "source": [
    "## Scoping"
   ]
  },
  {
   "attachments": {},
   "cell_type": "markdown",
   "metadata": {},
   "source": [
    "### Global Scoping"
   ]
  },
  {
   "cell_type": "code",
   "execution_count": null,
   "metadata": {},
   "outputs": [],
   "source": [
    "# global scope\n",
    "x = 17\n",
    "\n",
    "def func1(b):\n",
    "    return x + b  # compiler assumes x is global, since no assignment is made to it locally\n",
    "\n",
    "def func2(b):\n",
    "    x = x + b  # throws an error at runtime, since compiler sees an assignment to x and therefore classifies it as a local variable\n",
    "    return x\n",
    "\n",
    "def func3(b):\n",
    "    global x   # tell the compiler that x is actually global\n",
    "    x = x + b  # \n",
    "    return x\n",
    "\n",
    "# func2(1)  # throws error, local variable x is not defined\n",
    "print(x)\n",
    "print(func1(1), func3(1))\n",
    "print(x)"
   ]
  },
  {
   "attachments": {},
   "cell_type": "markdown",
   "metadata": {},
   "source": [
    "### Non-local scoping"
   ]
  },
  {
   "cell_type": "code",
   "execution_count": null,
   "metadata": {},
   "outputs": [],
   "source": [
    "def make_averager():\n",
    "    count = 0\n",
    "    total = 0\n",
    "    def averager(new_value):\n",
    "        count += 1  # Produces error, since local assignment is made to count so the compiler assumes it as local\n",
    "        total += new_value # same issue as above.\n",
    "        return total / count\n",
    "    return averager\n",
    "\n",
    "\n",
    "avg = make_averager()\n",
    "avg(10)  # UnboundLocalError: local variable 'count' referenced before assignment\n",
    "avg(12)"
   ]
  },
  {
   "cell_type": "code",
   "execution_count": null,
   "metadata": {},
   "outputs": [],
   "source": [
    "def make_averager():\n",
    "    count = 0\n",
    "    total = 0\n",
    "    def averager(new_value):\n",
    "        nonlocal count, total  # inform the compiler that these variables are not local\n",
    "        count += 1\n",
    "        total += new_value\n",
    "        return total / count\n",
    "    return averager\n",
    "\n",
    "\n",
    "avg = make_averager()\n",
    "avg(10)\n",
    "avg(12)"
   ]
  },
  {
   "attachments": {},
   "cell_type": "markdown",
   "metadata": {},
   "source": [
    "## Special Methods"
   ]
  },
  {
   "attachments": {},
   "cell_type": "markdown",
   "metadata": {},
   "source": [
    "...<br>\n",
    "| Category | Methods |\n",
    "| --- | --- |\n",
    "| String/bytes representation | `__repr__, __str__, __format__, __bytes__` |\n",
    "| Conversion to number | `__abs__, __bool__, __complex__, __int__, __float__, __hash__, __index__` |\n",
    "| Emulating collections | `__len__, __getitem__, __setitem__, __delitem__, __contains__` |\n",
    "| Iteration | `__iter__, __reversed__, __next__` |\n",
    "| Emulating callables | `__call__` |\n",
    "| Context management | `__enter__, __exit__` |\n",
    "| Instance creation and destruction | `__new__, __init__, __del__` |\n",
    "| Attribute management | `__getattr__, __getattribute__, __setattr__, __delattr__, __dir__` |\n",
    "| Attribute descriptors | `__get__, __set__, __delete__` |\n",
    "| Functions | `__doc__` |"
   ]
  },
  {
   "attachments": {},
   "cell_type": "markdown",
   "metadata": {},
   "source": [
    "## Important Functions"
   ]
  },
  {
   "attachments": {},
   "cell_type": "markdown",
   "metadata": {},
   "source": [
    "...<br>\n",
    "| Function | Description |\n",
    "| --- | --- |\n",
    "| dir | list properties of an object |\n",
    "| isinstance | check if an object is an instance of a class|\n"
   ]
  },
  {
   "cell_type": "markdown",
   "metadata": {},
   "source": [
    "## Serialization"
   ]
  },
  {
   "cell_type": "markdown",
   "metadata": {},
   "source": [
    "### Pickle"
   ]
  },
  {
   "cell_type": "markdown",
   "metadata": {},
   "source": [
    "#### Without a file"
   ]
  },
  {
   "cell_type": "code",
   "execution_count": null,
   "metadata": {},
   "outputs": [],
   "source": [
    "import pickle\n",
    "import io\n",
    "\n",
    "obj = \"Hello world\"\n",
    "s = io.BytesIO()\n",
    "s_idx = s.tell() #determine the starting index for our stream\n",
    "x = pickle.dump(obj,s,pickle.HIGHEST_PROTOCOL)\n",
    "s.seek(s_idx) #jump to the start of the stream\n",
    "pickle.load(s)"
   ]
  },
  {
   "cell_type": "markdown",
   "metadata": {},
   "source": [
    "#### With a file"
   ]
  },
  {
   "cell_type": "code",
   "execution_count": null,
   "metadata": {},
   "outputs": [],
   "source": [
    "import pickle\n",
    "\n",
    "file_name = 'temp_file.pkl'\n",
    "obj = {'Score' : 12}\n",
    "pickle.dump(obj,open(file_name,'wb'))  #open file in write binary mode\n",
    "\n",
    "pickle.load(open(file_name,'rb'))  # load from an open file"
   ]
  },
  {
   "cell_type": "markdown",
   "metadata": {},
   "source": [
    "## Profiling"
   ]
  },
  {
   "cell_type": "markdown",
   "metadata": {},
   "source": [
    "### Decompose to times in function call"
   ]
  },
  {
   "cell_type": "code",
   "execution_count": null,
   "metadata": {},
   "outputs": [],
   "source": [
    "from pyinstrument import Profiler\n",
    "\n",
    "profiler = Profiler()\n",
    "with profiler:\n",
    "    sum(range(100000))\n",
    "\n",
    "with open(\"profile.html\", 'w') as f:\n",
    "    f.write(profiler.output_html())"
   ]
  },
  {
   "cell_type": "markdown",
   "metadata": {},
   "source": [
    "### Time the execution"
   ]
  },
  {
   "cell_type": "code",
   "execution_count": null,
   "metadata": {},
   "outputs": [],
   "source": [
    "from time import perf_counter\n",
    " \n",
    "t0 = perf_counter()\n",
    "sum(range(100000))\n",
    "t1 = perf_counter()\n",
    " \n",
    "print(\"Elapsed time:\", t1 - t0)"
   ]
  },
  {
   "cell_type": "markdown",
   "metadata": {},
   "source": [
    "### iPython magic"
   ]
  },
  {
   "cell_type": "code",
   "execution_count": null,
   "metadata": {},
   "outputs": [],
   "source": [
    "%%timeit\n",
    "# Time cell execution\n",
    "sum(range(100000))\n",
    "sum(range(100000))\n",
    "\n",
    "# Or time a single line with\n",
    "# %timeit sum(range(100000))"
   ]
  },
  {
   "attachments": {},
   "cell_type": "markdown",
   "metadata": {},
   "source": [
    "# References"
   ]
  },
  {
   "attachments": {},
   "cell_type": "markdown",
   "metadata": {},
   "source": [
    "1. Luciano Ramalho, (2015). `Fluent Python`. O'Reilly Media, Inc. ISBN: 978-1-491-94600-8\n",
    "2. https://docs.python.org/3/howto/\n",
    "3. "
   ]
  },
  {
   "cell_type": "markdown",
   "metadata": {},
   "source": []
  }
 ],
 "metadata": {
  "kernelspec": {
   "display_name": "Python 3",
   "language": "python",
   "name": "python3"
  },
  "language_info": {
   "codemirror_mode": {
    "name": "ipython",
    "version": 3
   },
   "file_extension": ".py",
   "mimetype": "text/x-python",
   "name": "python",
   "nbconvert_exporter": "python",
   "pygments_lexer": "ipython3",
   "version": "3.10.1"
  },
  "toc": {
   "base_numbering": 1,
   "nav_menu": {},
   "number_sections": true,
   "sideBar": true,
   "skip_h1_title": false,
   "title_cell": "Table of Contents",
   "title_sidebar": "Contents",
   "toc_cell": false,
   "toc_position": {},
   "toc_section_display": true,
   "toc_window_display": true
  },
  "vscode": {
   "interpreter": {
    "hash": "385687ec12c85b807b51303f5ec3a76d5987f13c66b619467696a2e6c8165e4c"
   }
  }
 },
 "nbformat": 4,
 "nbformat_minor": 2
}
