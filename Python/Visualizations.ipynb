{
 "cells": [
  {
   "cell_type": "markdown",
   "metadata": {},
   "source": [
    "# MatPlotLib\n",
    "#### References\n",
    "- Examples for most of these : https://matplotlib.org/tutorials/introductory/sample_plots.html\n",
    "- https://matplotlib.org/tutorials/introductory/pyplot.html#sphx-glr-tutorials-introductory-pyplot-py"
   ]
  },
  {
   "cell_type": "code",
   "execution_count": null,
   "metadata": {},
   "outputs": [],
   "source": [
    "import matplotlib.pyplot as plt\n",
    "plt.style.use(\"dark_background\")  # set dark theme\n",
    "import numpy as np"
   ]
  },
  {
   "cell_type": "markdown",
   "metadata": {},
   "source": [
    "## Lines"
   ]
  },
  {
   "cell_type": "code",
   "execution_count": null,
   "metadata": {},
   "outputs": [],
   "source": [
    "#This is just here for other visualizations that need a diverse selection of colors\n",
    "colorz = ['#e6194B', '#3cb44b', '#ffe119', '#4363d8', '#f58231', '#911eb4', '#42d4f4', '#f032e6', '#bfef45', '#fabebe',\n",
    " '#469990', '#e6beff', '#9A6324', '#fffac8', '#800000', '#aaffc3', '#808000', '#ffd8b1', '#000075', '#a9a9a9']\n",
    "\n",
    "x = np.arange(len(colorz))\n",
    "plt.scatter(x,x,c=colorz)\n",
    "plt.show()"
   ]
  },
  {
   "cell_type": "code",
   "execution_count": null,
   "metadata": {},
   "outputs": [],
   "source": [
    "plt.plot([1,2,3,4])\n",
    "plt.title('y = x + 1')\n",
    "plt.show()"
   ]
  },
  {
   "cell_type": "code",
   "execution_count": null,
   "metadata": {},
   "outputs": [],
   "source": [
    "plt.plot([1,2,3,4], [1,4,9,16], 'ro-')   #plot x vs y, where 'ro-' -> points as Red O's with a line -\n",
    "plt.axis([0,6,0,20])    #x axis is 0 -> 6, y axis is 0 -> 20\n",
    "plt.show()"
   ]
  },
  {
   "cell_type": "code",
   "execution_count": null,
   "metadata": {},
   "outputs": [],
   "source": [
    "seq_data = np.arange(0., 5., 0.2)   #range of floats from 0 to 5, step size of .2\n",
    "\n",
    "plt.plot(seq_data,seq_data, 'r--', seq_data, seq_data**2, 'bs', seq_data,seq_data**3, \"g^--\")\n",
    "plt.show()"
   ]
  },
  {
   "cell_type": "markdown",
   "metadata": {},
   "source": [
    "### Subplots"
   ]
  },
  {
   "cell_type": "code",
   "execution_count": null,
   "metadata": {},
   "outputs": [],
   "source": [
    "import math\n",
    "# easy index resolution\n",
    "def get_ax(ax_array, idx, ncols: int):\n",
    "    if len(ax_array.shape) == 1:\n",
    "        return ax_array[idx]\n",
    "    else:\n",
    "        return ax_array[int(idx / ncols), idx % ncols]\n",
    "\n",
    "# create suplots, using a fixed number of columns\n",
    "def _variable_subplots(num_items: int, num_columns: int = 5):\n",
    "    nrows = math.ceil((num_items - 1) / num_columns)\n",
    "    figh = max(int(num_items / 3), 6)\n",
    "    return plt.subplots(nrows=nrows, ncols=num_columns, figsize=(20, figh))\n",
    "\n",
    "# Generate data\n",
    "data = [[1,2,3,4]] * 4\n",
    "num_columns = 2\n",
    "\n",
    "fig, axes = _variable_subplots(len(data), num_columns=num_columns)\n",
    "\n",
    "for i, d in enumerate(data):\n",
    "    ax = get_ax(axes, i, num_columns)\n",
    "    ax.plot(d)\n",
    "\n",
    "fig.tight_layout()\n",
    "\n",
    "# fig.savefig(\"subplots.png\", dpi=33)  # save the figure to file, set image resolution\n",
    "# plt.close(fig)"
   ]
  },
  {
   "cell_type": "markdown",
   "metadata": {},
   "source": [
    "## Scatter plots"
   ]
  },
  {
   "cell_type": "code",
   "execution_count": null,
   "metadata": {},
   "outputs": [],
   "source": [
    "#Scatter plot\n",
    "\n",
    "#Here we are using a scatter plot to show 4 dimensions of data\n",
    "# The first 2 dimensions are attributes and are represented in our graphic with x,y values\n",
    "# The third dimension is another attribute and is represented in our graphic with size\n",
    "# The fourth dimension is the label for each data point and is represented with color\n",
    "\n",
    "data = np.random.rand(50,4)  #50 sets of random 4-tuples\n",
    "\n",
    "#assign a 'label' to datasets based on the 4th attribute\n",
    "colors = ['blue' if x[3] > 0.5 else 'red' for x in data]\n",
    "\n",
    "#assign size according to the 3rd attribute\n",
    "sizes = [d[2] * 80 for d in data]\n",
    "\n",
    "plt.scatter(data[:,0], data[:,1], alpha=0.6,\n",
    "             s=sizes, c=colors)\n",
    "plt.title('Strength vs Intelligence')\n",
    "plt.xlabel('Strength')\n",
    "plt.ylabel('Intelligence');"
   ]
  },
  {
   "cell_type": "code",
   "execution_count": null,
   "metadata": {
    "ExecuteTime": {
     "end_time": "2019-02-12T18:17:04.013354Z",
     "start_time": "2019-02-12T18:17:03.943937Z"
    }
   },
   "outputs": [],
   "source": [
    "# Plot 1d data in 2 dimensions (along the x axis)\n",
    "\n",
    "vals = np.random.rand(80)\n",
    "plt.plot(vals, np.zeros_like(vals), 'x')\n",
    "plt.axis([0, 1, -1,1])\n",
    "plt.show()\n"
   ]
  },
  {
   "cell_type": "code",
   "execution_count": null,
   "metadata": {
    "ExecuteTime": {
     "end_time": "2019-02-05T23:06:06.273236Z",
     "start_time": "2019-02-05T23:06:06.170039Z"
    }
   },
   "outputs": [],
   "source": [
    "import matplotlib.pyplot as plt\n",
    "\n",
    "# Assume that we have a dictionary of the form label : count (think clojure's frequencies output) and\n",
    "# we want to show that data to the user.\n",
    "\n",
    "sample = {'Cancer' : 100, 'Diabetes' : 300, 'Car Accident' : 200, 'Murder' : 10, 'Sharks' : 5}\n",
    "colors = {'Cancer' : '#e6194B', 'Diabetes' : '#3cb44b', 'Car Accident' : '#ffe119', 'Murder' : '#4363d8', 'Sharks' : '#f58231'}\n",
    "\n",
    "y_floor = 0\n",
    "total = sum(sample.values())\n",
    "scale = 1000\n",
    "\n",
    "to_plot = []\n",
    "\n",
    "for label,cnt in sample.items():\n",
    "    size = scale * (cnt / total)\n",
    "    \n",
    "    to_plot.append(\n",
    "        {'size' : size,\n",
    "         'color' : colors[label],\n",
    "         'label' : label,\n",
    "         'y' : y_floor})\n",
    "    \n",
    "    y_floor += size + 50\n",
    "    \n",
    "    \n",
    "y = list(map(lambda x : x['y'],to_plot))\n",
    "colors = list(map(lambda x : x['color'],to_plot))\n",
    "sizes = list(map(lambda x : x['size'],to_plot))\n",
    "\n",
    "fig, ax = plt.subplots()\n",
    "ax.scatter([0 for x in range(len(sample))],y, c=colors,s=sizes)\n",
    "\n",
    "for itm in to_plot:\n",
    "    ax.annotate(itm['label'], (0.005, itm['y']))\n",
    "    \n",
    "plt.show()"
   ]
  },
  {
   "cell_type": "markdown",
   "metadata": {},
   "source": [
    "## Hover hints"
   ]
  },
  {
   "cell_type": "code",
   "execution_count": null,
   "metadata": {},
   "outputs": [],
   "source": [
    "%matplotlib notebook\n",
    "\n",
    "x = np.random.rand(15)\n",
    "y = np.random.rand(15)\n",
    "names = np.array(list(\"ABCDEFGHIJKLMNO\"))\n",
    "c = np.random.randint(1,5,size=15)\n",
    "\n",
    "norm = plt.Normalize(1,4)\n",
    "cmap = plt.cm.RdYlGn\n",
    "\n",
    "fig,ax = plt.subplots()\n",
    "sc = plt.scatter(x,y,c=c, s=100, cmap=cmap, norm=norm)\n",
    "\n",
    "annot = ax.annotate(\"\", xy=(0,0), xytext=(20,20),textcoords=\"offset points\",\n",
    "                    bbox=dict(boxstyle=\"round\", fc=\"w\"),\n",
    "                    arrowprops=dict(arrowstyle=\"->\"))\n",
    "annot.set_visible(False)\n",
    "\n",
    "def update_annot(ind):\n",
    "\n",
    "    pos = sc.get_offsets()[ind[\"ind\"][0]]\n",
    "    annot.xy = pos\n",
    "    text = \"{}, {}\".format(\" \".join(list(map(str,ind[\"ind\"]))), \n",
    "                           \" \".join([names[n] for n in ind[\"ind\"]]))\n",
    "    annot.set_text(text)\n",
    "    annot.get_bbox_patch().set_facecolor(cmap(norm(c[ind[\"ind\"][0]])))\n",
    "    annot.get_bbox_patch().set_alpha(0.4)\n",
    "\n",
    "\n",
    "def hover(event):\n",
    "    vis = annot.get_visible()\n",
    "    if event.inaxes == ax:\n",
    "        cont, ind = sc.contains(event)\n",
    "        if cont:\n",
    "            update_annot(ind)\n",
    "            annot.set_visible(True)\n",
    "            fig.canvas.draw_idle()\n",
    "        else:\n",
    "            if vis:\n",
    "                annot.set_visible(False)\n",
    "                fig.canvas.draw_idle()\n",
    "\n",
    "fig.canvas.mpl_connect(\"motion_notify_event\", hover)\n",
    "\n",
    "plt.show()"
   ]
  },
  {
   "cell_type": "markdown",
   "metadata": {},
   "source": [
    "# Pandas"
   ]
  },
  {
   "cell_type": "code",
   "execution_count": null,
   "metadata": {
    "ExecuteTime": {
     "end_time": "2019-02-05T23:16:01.967721Z",
     "start_time": "2019-02-05T23:16:01.631432Z"
    }
   },
   "outputs": [],
   "source": [
    "import pandas as pd\n",
    "import numpy as np\n",
    "\n",
    "#NOTE : might need to rerun this if blue shading is missing\n",
    "\n",
    "rs = np.random.RandomState(0)\n",
    "df = pd.DataFrame(rs.rand(10, 10))\n",
    "corr = df.corr()\n",
    "corr.style.background_gradient().set_precision(2)"
   ]
  },
  {
   "cell_type": "code",
   "execution_count": null,
   "metadata": {
    "ExecuteTime": {
     "end_time": "2019-02-05T23:16:21.327175Z",
     "start_time": "2019-02-05T23:16:20.837218Z"
    }
   },
   "outputs": [],
   "source": [
    "df.hist(bins=5);"
   ]
  },
  {
   "cell_type": "markdown",
   "metadata": {},
   "source": [
    "# Seaborn"
   ]
  },
  {
   "cell_type": "markdown",
   "metadata": {},
   "source": [
    "## Heatmap"
   ]
  },
  {
   "cell_type": "code",
   "execution_count": null,
   "metadata": {
    "ExecuteTime": {
     "end_time": "2020-11-05T13:53:34.055120Z",
     "start_time": "2020-11-05T13:53:33.894118Z"
    }
   },
   "outputs": [],
   "source": [
    "import matplotlib.pyplot as plt\n",
    "import seaborn as sns\n",
    "import numpy as np\n",
    "\n",
    "data = np.random.rand(4,2)\n",
    "fig, ax = plt.subplots(nrows=1, ncols=1, figsize=(10,3))\n",
    "ax.set_title(\"example\")\n",
    "sns.heatmap(data, vmin=0, vmax=1.5, annot=True, fmt=\"3.2f\", ax=ax)\n",
    "plt.show()"
   ]
  },
  {
   "cell_type": "code",
   "execution_count": null,
   "metadata": {},
   "outputs": [],
   "source": []
  }
 ],
 "metadata": {
  "kernelspec": {
   "display_name": "Python 3",
   "language": "python",
   "name": "python3"
  },
  "language_info": {
   "codemirror_mode": {
    "name": "ipython",
    "version": 3
   },
   "file_extension": ".py",
   "mimetype": "text/x-python",
   "name": "python",
   "nbconvert_exporter": "python",
   "pygments_lexer": "ipython3",
   "version": "3.10.1"
  },
  "toc": {
   "base_numbering": 1,
   "nav_menu": {},
   "number_sections": true,
   "sideBar": true,
   "skip_h1_title": false,
   "title_cell": "Table of Contents",
   "title_sidebar": "Contents",
   "toc_cell": false,
   "toc_position": {},
   "toc_section_display": true,
   "toc_window_display": true
  }
 },
 "nbformat": 4,
 "nbformat_minor": 1
}
